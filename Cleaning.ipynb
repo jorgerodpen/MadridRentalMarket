{
 "cells": [
  {
   "cell_type": "code",
   "execution_count": 1,
   "metadata": {},
   "outputs": [],
   "source": [
    "import pandas as pd\n",
    "pd.set_option('display.max_columns', None)\n",
    "import numpy as np"
   ]
  },
  {
   "cell_type": "code",
   "execution_count": 2,
   "metadata": {},
   "outputs": [],
   "source": [
    "fotocasa = pd.read_csv(\"fotocasa.csv\")"
   ]
  },
  {
   "cell_type": "markdown",
   "metadata": {},
   "source": [
    "# Missing values"
   ]
  },
  {
   "cell_type": "code",
   "execution_count": 3,
   "metadata": {},
   "outputs": [
    {
     "data": {
      "text/plain": [
       "Antiquity             62.042081\n",
       "Bathrooms              0.640820\n",
       "Community_Expenses    54.565844\n",
       "Condition             50.197586\n",
       "Deposit               81.918189\n",
       "Elevator              27.160098\n",
       "Extra                  3.140019\n",
       "Floor                 33.205169\n",
       "Furnished             32.265300\n",
       "Heating               63.120795\n",
       "Orientation           75.104133\n",
       "Parking               78.137349\n",
       "Pets                  93.260707\n",
       "Rooms                  5.756702\n",
       "Size                   0.469935\n",
       "Water_Heater          69.411513\n",
       "dtype: float64"
      ]
     },
     "execution_count": 3,
     "metadata": {},
     "output_type": "execute_result"
    }
   ],
   "source": [
    "fotocasa.isna().sum()[fotocasa.isna().sum()/len(fotocasa)*100 > 0]/len(fotocasa)*100"
   ]
  },
  {
   "cell_type": "code",
   "execution_count": 4,
   "metadata": {},
   "outputs": [
    {
     "name": "stdout",
     "output_type": "stream",
     "text": [
      "There are  4  cleaned columns:\n",
      "Index(['Emissions', 'Energy_Consumption', 'Neighborhood', 'Photos', 'Price',\n",
      "       'Title', 'Type', 'url'],\n",
      "      dtype='object')\n"
     ]
    }
   ],
   "source": [
    "cleaned_columns = len(fotocasa.isna().sum()[fotocasa.isna().sum()/len(fotocasa)*100 == 0])\n",
    "print(\"There are \", cleaned_columns-4, \" cleaned columns:\")\n",
    "print(fotocasa.isna().sum()[fotocasa.isna().sum()/len(fotocasa)*100 == 0].index)"
   ]
  },
  {
   "cell_type": "markdown",
   "metadata": {},
   "source": [
    "# Price"
   ]
  },
  {
   "cell_type": "code",
   "execution_count": 5,
   "metadata": {},
   "outputs": [
    {
     "data": {
      "text/plain": [
       "10"
      ]
     },
     "execution_count": 5,
     "metadata": {},
     "output_type": "execute_result"
    }
   ],
   "source": [
    "def clean_price(x):\n",
    "    if x!= \"A consultar\":\n",
    "        return x.replace(\".\",\"\").rstrip(\"€\")\n",
    "    else:\n",
    "        return np.nan\n",
    "fotocasa[\"Price\"].apply(clean_price).isna().sum()"
   ]
  },
  {
   "cell_type": "code",
   "execution_count": 6,
   "metadata": {},
   "outputs": [],
   "source": [
    "fotocasa[\"Price\"] = fotocasa[\"Price\"].apply(clean_price)\n",
    "fotocasa = fotocasa.dropna(axis=0, subset = [\"Price\"])\n",
    "fotocasa[\"Price\"] = fotocasa[\"Price\"].astype(int)"
   ]
  },
  {
   "cell_type": "markdown",
   "metadata": {},
   "source": [
    "# Getting district and borough"
   ]
  },
  {
   "cell_type": "code",
   "execution_count": 7,
   "metadata": {},
   "outputs": [],
   "source": [
    "districts = [\"Centro\",\"Arganzuela\",\"Retiro\",\"Salamanca\",\"Chamartín\",\"Tetuán\",\"Chamberí\",\"Fuencarral\",\n",
    "             \"Moncloa\",\"Latina\",\"Carabanchel\",\"Usera\",\"Puente de Vallecas\",\"Moratalaz\",\"Ciudad Lineal\",\n",
    "             \"Hortaleza\",\"Villaverde\",\"Villa de Vallecas\",\"Vicálvaro\",\"San Blas\",\"Barajas\"]\n",
    "boroughs = [\"El Pardo\", \"Fuentelareina\", \"Peñagrande\", \"Pilar\", \"La Paz\", \"Valverde\", \"Mirasierra\",\n",
    "                \"El Goloso\", \"Casa de Campo\", \"Argüelles\", \"Ciudad Universitaria\", \"Valdezarza\", \n",
    "                \"Valdemarín\", \"El Plantío\", \"Aravaca\", \"Bellas Vistas\", \"Cuatro Caminos\", \"Castillejos\", \n",
    "                \"Almenara\", \"Valdeacederas\", \"Berruguete\", \"Palomas\", \"Piovera\", \"Canillas\", \n",
    "                \"Pinar del Rey\", \"Apóstol Santiago\", \"Valdefuentes\", \"El Viso\", \"Prosperidad\", \n",
    "                \"Ciudad Jardín\", \"Hispanoamérica\", \"Nueva España\", \"Castilla\", \"Ventas\", \"Pueblo Nuevo\", \n",
    "                \"Quintana\", \"Concepción\", \"San Pascual\", \"San Juan Bautista\", \"Colina\", \"Atalaya\", \n",
    "                \"Costillares\", \"Gaztambide\", \"Arapiles\", \"Trafalgar\", \"Almagro\", \"Ríos Rosas\", \n",
    "                \"Vallehermoso\",\"Recoletos\", \"Goya\", \"Fuente del Berro\", \"Guindalera\", \"Lista\", \n",
    "                \"Castellana\", \"Simancas\", \"Hellín\", \"Amposta\", \"Arcos\", \"Rosas\", \"Rejas\", \"Canillejas\", \n",
    "                \"Salvador\", \"Alameda de Osuna\", \"Aeropuerto\", \"Casco Histórico de Barajas\", \"Timón\", \n",
    "                \"Corralejos\", \"Palacio\", \"Embajadores\", \"Cortes\", \"Justicia\", \"Universidad\", \"Sol\", \n",
    "                \"Pacífico\", \"Adelfas\", \"Estrella\", \"Ibiza\", \"Jerónimos\", \"Niño Jesús\", \"Imperial\", \n",
    "                \"Acacias\", \"Chopera\", \"Legazpi\", \"Delicias\", \"Palos de Moguer\", \"Atocha\", \"Pavones\", \n",
    "                \"Horcajo\", \"Marroquina\", \"Media Legua\", \"Fontarrón\", \"Vinateros\", \"Villaverde Alto\", \n",
    "                \"San Cristobal\", \"Butarque\", \"Los Rosales\", \"Los Ángeles\", \"Orcasitas\", \"Orcasur\", \n",
    "                \"San Fermín\", \"Almendrales\", \"Moscardó\", \"Zofío\", \"Pradolongo\", \"Cármenes\", \n",
    "                \"Puerta del Ángel\", \"Lucero\", \"Aluche\", \"Campamento\", \"Cuatro Vientos\", \"Águilas\", \n",
    "                \"Comillas\", \"Opañel\", \"San Isidro\", \"Vista Alegre\", \"Puerta Bonita\", \"Buenavista\", \n",
    "                \"Abrantes\", \"Casco Histórico de Vicálvaro\", \"Valdebernardo\", \"Valderrivas\", \"El Cañaveral\",\n",
    "                \"Entrevías\", \"San Diego\", \"Palomeras Bajas\", \"Palomeras Sureste\", \"Portazgo\", \"Numancia\",\n",
    "                \"Casco Histórico de Vallecas\", \"Santa Eugenia\", \"Ensanche de Vallecas\"]"
   ]
  },
  {
   "cell_type": "code",
   "execution_count": 8,
   "metadata": {},
   "outputs": [
    {
     "name": "stdout",
     "output_type": "stream",
     "text": [
      "There are  27  missing value(s)\n"
     ]
    }
   ],
   "source": [
    "from unidecode import unidecode\n",
    "\n",
    "def get_district(x):\n",
    "    comparison = [unidecode(i).lower() in unidecode(x).lower() for i in districts]\n",
    "    try: \n",
    "        idx = comparison.index(True)\n",
    "        return districts[idx]\n",
    "    except:\n",
    "        return np.nan\n",
    "fotocasa[\"District\"] = fotocasa[\"Neighborhood\"].apply(get_district)\n",
    "print(\"There are \", fotocasa[\"District\"].isna().sum(), \" missing value(s)\")"
   ]
  },
  {
   "cell_type": "code",
   "execution_count": 9,
   "metadata": {},
   "outputs": [
    {
     "name": "stdout",
     "output_type": "stream",
     "text": [
      "There are  333  missing value(s)\n"
     ]
    }
   ],
   "source": [
    "def get_borough(x):\n",
    "    comparison = [unidecode(i).lower() in unidecode(x).lower() for i in boroughs]\n",
    "    try: \n",
    "        idx = comparison.index(True)\n",
    "        return boroughs[idx]\n",
    "    except:\n",
    "        return np.nan\n",
    "fotocasa[\"Borough\"] = fotocasa[\"Title\"].apply(get_borough)\n",
    "print(\"There are \", fotocasa[\"Borough\"].isna().sum(), \" missing value(s)\")"
   ]
  },
  {
   "cell_type": "code",
   "execution_count": 10,
   "metadata": {},
   "outputs": [
    {
     "data": {
      "text/plain": [
       "{'Sanchinarro': 93,\n",
       " 'Tablas': 60,\n",
       " 'Manoteras': 36,\n",
       " 'Carabanchel': 30,\n",
       " 'Capital': 29,\n",
       " 'Villaverde': 28,\n",
       " 'Montecarmelo': 24,\n",
       " 'Ambroz': 12,\n",
       " 'Fresno': 11,\n",
       " 'Plantío': 8,\n",
       " 'Usera': 1,\n",
       " 'Fuentelarreina': 1}"
      ]
     },
     "execution_count": 10,
     "metadata": {},
     "output_type": "execute_result"
    }
   ],
   "source": [
    "# Seeing missing boroughs\n",
    "def clean_title(x):\n",
    "    return x.split(\",\")[-1].split(\" \")[-1]\n",
    "missing_boroughs = fotocasa.loc[fotocasa[\"Borough\"].isna(),\"Title\"].apply(clean_title).to_list()\n",
    "missing_boroughs_dict = {}\n",
    "for missing in missing_boroughs:\n",
    "    if missing in missing_boroughs_dict:\n",
    "        missing_boroughs_dict[missing] += 1\n",
    "    else:\n",
    "        missing_boroughs_dict[missing] = 1\n",
    "{k: v for k, v in sorted(missing_boroughs_dict.items(), key=lambda item: item[1], reverse = True)}"
   ]
  },
  {
   "cell_type": "code",
   "execution_count": 11,
   "metadata": {},
   "outputs": [
    {
     "name": "stdout",
     "output_type": "stream",
     "text": [
      "There are  30  missing value(s)\n"
     ]
    }
   ],
   "source": [
    "def get_borough(x):\n",
    "    x = x.replace(\"  \",\" \")\n",
    "    if \"Sanchinarro\".lower() in x.lower():\n",
    "        return \"Valdefuentes\"\n",
    "    elif \"Tablas\".lower() in x.lower():\n",
    "        return \"Valverde\"\n",
    "    elif unidecode(\"San Andrés de Villaverde\").lower() in unidecode(x).lower():\n",
    "        return \"Villaverde Alto\"\n",
    "    elif \"Montecarmelo\".lower() in x.lower():\n",
    "        return \"El Goloso\"\n",
    "    elif \"Manoteras\".lower() in x.lower():\n",
    "        return \"Apóstol Santiago\"\n",
    "    elif \"PAU\" in x:\n",
    "        return \"Buenavista\"\n",
    "    elif \"Ambroz\".lower() in x.lower():\n",
    "        return \"Casco Histórico de Vicálvaro\"\n",
    "    elif \"Arroyo del Fresno\".lower() in x.lower():\n",
    "        return \"Mirasierra\"\n",
    "    elif \"Fuentelarreina\".lower() in x.lower():\n",
    "        return \"Fuentelareina\"\n",
    "    elif \"Valderribas\".lower() in x.lower():\n",
    "        return \"Valderrivas\"\n",
    "    else:\n",
    "        comparison = [unidecode(i).lower() in unidecode(x).lower() for i in boroughs]\n",
    "        try: \n",
    "            idx = comparison.index(True)\n",
    "            return boroughs[idx]\n",
    "        except:\n",
    "            return np.nan\n",
    "fotocasa[\"Borough\"] = fotocasa[\"Title\"].apply(get_borough)\n",
    "print(\"There are \", fotocasa[\"Borough\"].isna().sum(), \" missing value(s)\")"
   ]
  },
  {
   "cell_type": "code",
   "execution_count": 12,
   "metadata": {},
   "outputs": [
    {
     "name": "stdout",
     "output_type": "stream",
     "text": [
      "Piso de alquiler en Usera\n",
      "Piso de alquiler en Calle Calle de Cartagena, 87  Madrid Capital\n",
      "Loft de alquiler en Calle Miguel Yuste, 21  Madrid Capital\n",
      "Piso de alquiler en Calle Calle de Marcelino Roa Vázquez, 51  Madrid Capital\n",
      "Ático de alquiler en Calle de Santa Eulalia, 12  Madrid Capital\n",
      "Piso de alquiler en Calle de Los Ceramistas, 2  Madrid Capital\n",
      "Piso de alquiler en Calle Calle de Padilla, 67  Madrid Capital\n",
      "Piso de alquiler en Paseo Paseo de Santa María de la Cabeza, 16  Madrid Capital\n",
      "Piso de alquiler en Calle Calle de Corazón de María, 57  Madrid Capital\n",
      "Piso de alquiler en Calle Fuencarral, 43  Madrid Capital\n",
      "Piso de alquiler en Calle de Blasco de Garay, 63  Madrid Capital\n",
      "Piso de alquiler en Calle Calle de Palomares, .  Madrid Capital\n",
      "Piso de alquiler en Calle Milán, 10  Madrid Capital\n",
      "Piso de alquiler en Calle Camino de la Zarzuela, 49  Madrid Capital\n",
      "Piso de alquiler en Alameda Calle de Carretas, .  Madrid Capital\n",
      "Piso de alquiler en Calle Calle de Juan Bravo, 57  Madrid Capital\n",
      "Piso de alquiler en Plaza Bastero  17, .  Madrid Capital\n",
      "Piso de alquiler en Calle Calle de Sánchez Barcáiztegui, 18  Madrid Capital\n",
      "Piso de alquiler en Calle Calle de Covarrubias, 29  Madrid Capital\n",
      "Piso de alquiler en Calle Calle del Doctor Drumen, .  Madrid Capital\n",
      "Piso de alquiler en Calle Calle de San Blas, 3  Madrid Capital\n",
      "Piso de alquiler en Avenida Avenida de Concha Espina, 15  Madrid Capital\n",
      "Ático de alquiler en Avenida de Francisco Pi y Margall, 1d  Madrid Capital\n",
      "Piso de alquiler en Calle Calle de Antonio Vicent, .  Madrid Capital\n",
      "Piso de alquiler en Calle Calle de Ágata, 4  Madrid Capital\n",
      "Piso de alquiler en Paseo Paseo del General Martínez Campos, 51  Madrid Capital\n",
      "Piso de alquiler en  Madrid Capital\n",
      "Piso de alquiler en Calle Calle del Tesoro, 19  Madrid Capital\n",
      "Piso de alquiler en  Madrid Capital\n",
      "Piso de alquiler en Calle Calle de Antonio Vicent, .  Madrid Capital\n"
     ]
    }
   ],
   "source": [
    "titles = fotocasa.loc[fotocasa[\"Borough\"].isna(),\"Title\"].values\n",
    "for title in titles:\n",
    "    print(title)"
   ]
  },
  {
   "cell_type": "code",
   "execution_count": 13,
   "metadata": {},
   "outputs": [],
   "source": [
    "fotocasa = fotocasa.dropna(axis=0, subset = [\"District\",\"Borough\"])"
   ]
  },
  {
   "cell_type": "markdown",
   "metadata": {},
   "source": [
    "# Antiquity"
   ]
  },
  {
   "cell_type": "code",
   "execution_count": 14,
   "metadata": {},
   "outputs": [
    {
     "data": {
      "text/plain": [
       "30 a 50 años      739\n",
       "50 a 70 años      709\n",
       "10 a 20 años      536\n",
       "70 a 100 años     485\n",
       "+ 100 años        434\n",
       "20 a 30 años      316\n",
       "Menos de 1 año    120\n",
       "1 a 5 años        119\n",
       "5 a 10 años        84\n",
       "Name: Antiquity, dtype: int64"
      ]
     },
     "execution_count": 14,
     "metadata": {},
     "output_type": "execute_result"
    }
   ],
   "source": [
    "fotocasa[\"Antiquity\"].value_counts()"
   ]
  },
  {
   "cell_type": "code",
   "execution_count": 15,
   "metadata": {},
   "outputs": [],
   "source": [
    "def clean_antiquity(x):\n",
    "    try:\n",
    "        return x.rstrip(\" años\").replace(\" \",\"\").replace(\"a\",\"-\").replace(\"Menosde\",\"<\")\n",
    "    except AttributeError:\n",
    "        return x\n",
    "    \n",
    "fotocasa[\"Antiquity\"] = fotocasa[\"Antiquity\"].apply(clean_antiquity)"
   ]
  },
  {
   "cell_type": "code",
   "execution_count": 16,
   "metadata": {},
   "outputs": [
    {
     "data": {
      "text/plain": [
       "30-50     739\n",
       "50-70     709\n",
       "10-20     536\n",
       "70-100    485\n",
       "+100      434\n",
       "20-30     316\n",
       "<1        120\n",
       "1-5       119\n",
       "5-10       84\n",
       "Name: Antiquity, dtype: int64"
      ]
     },
     "execution_count": 16,
     "metadata": {},
     "output_type": "execute_result"
    }
   ],
   "source": [
    "fotocasa[\"Antiquity\"].value_counts()"
   ]
  },
  {
   "cell_type": "markdown",
   "metadata": {},
   "source": [
    "### Adding missing values with the average of the borough and then district"
   ]
  },
  {
   "cell_type": "code",
   "execution_count": 17,
   "metadata": {},
   "outputs": [],
   "source": [
    "for borough in fotocasa.loc[fotocasa[\"Antiquity\"].isna(),\"Borough\"].unique():\n",
    "    filter_borough = fotocasa[\"Borough\"] == borough\n",
    "    try:\n",
    "        # Antiquity\n",
    "        frequent_antiquity = fotocasa.loc[filter_borough, \"Antiquity\"].mode().loc[0]\n",
    "        fotocasa.loc[fotocasa[\"Antiquity\"].isna() & filter_borough,\"Antiquity\"] = frequent_antiquity\n",
    "    except KeyError:\n",
    "        pass"
   ]
  },
  {
   "cell_type": "code",
   "execution_count": 18,
   "metadata": {},
   "outputs": [],
   "source": [
    "for district in fotocasa.loc[fotocasa[\"Antiquity\"].isna(),\"District\"].unique():\n",
    "    filter_district = fotocasa[\"District\"] == district\n",
    "    try:\n",
    "        # Antiquity\n",
    "        frequent_antiquity = fotocasa.loc[filter_district, \"Antiquity\"].mode().loc[0]\n",
    "        fotocasa.loc[fotocasa[\"Antiquity\"].isna() & filter_district,\"Antiquity\"] = frequent_antiquity\n",
    "    except KeyError:\n",
    "        pass"
   ]
  },
  {
   "cell_type": "code",
   "execution_count": 19,
   "metadata": {},
   "outputs": [
    {
     "data": {
      "text/plain": [
       "0"
      ]
     },
     "execution_count": 19,
     "metadata": {},
     "output_type": "execute_result"
    }
   ],
   "source": [
    "fotocasa[\"Antiquity\"].isna().sum()"
   ]
  },
  {
   "cell_type": "markdown",
   "metadata": {},
   "source": [
    "# Bathrooms and rooms\n",
    "At least one bathroom and room per property"
   ]
  },
  {
   "cell_type": "code",
   "execution_count": 20,
   "metadata": {},
   "outputs": [],
   "source": [
    "fotocasa[\"Bathrooms\"] = fotocasa[\"Bathrooms\"].fillna(1).astype(int)\n",
    "fotocasa[\"Rooms\"] = fotocasa[\"Rooms\"].fillna(1).astype(int)"
   ]
  },
  {
   "cell_type": "markdown",
   "metadata": {},
   "source": [
    "# Size\n",
    "We will use the average size per borough as we did with the antiquity"
   ]
  },
  {
   "cell_type": "code",
   "execution_count": 21,
   "metadata": {},
   "outputs": [],
   "source": [
    "for borough in fotocasa.loc[fotocasa[\"Size\"].isna(),\"District\"].unique():\n",
    "    filter_borough = fotocasa[\"Borough\"] == borough\n",
    "    try:\n",
    "        # Antiquity\n",
    "        frequent_antiquity = fotocasa.loc[filter_borough, \"Size\"].mean()\n",
    "        fotocasa.loc[fotocasa[\"Size\"].isna() & filter_borough,\"Size\"] = frequent_antiquity\n",
    "    except KeyError:\n",
    "        pass"
   ]
  },
  {
   "cell_type": "code",
   "execution_count": 22,
   "metadata": {},
   "outputs": [],
   "source": [
    "for district in fotocasa.loc[fotocasa[\"Size\"].isna(),\"District\"].unique():\n",
    "    filter_district = fotocasa[\"District\"] == district\n",
    "    try:\n",
    "        # Antiquity\n",
    "        frequent_antiquity = fotocasa.loc[filter_district, \"Size\"].mode().loc[0]\n",
    "        fotocasa.loc[fotocasa[\"Size\"].isna() & filter_district, \"Size\"] = frequent_antiquity\n",
    "    except KeyError:\n",
    "        pass"
   ]
  },
  {
   "cell_type": "code",
   "execution_count": 23,
   "metadata": {},
   "outputs": [],
   "source": [
    "fotocasa[\"Size\"] = fotocasa[\"Size\"].astype(int)"
   ]
  },
  {
   "cell_type": "markdown",
   "metadata": {},
   "source": [
    "# Extras"
   ]
  },
  {
   "cell_type": "code",
   "execution_count": 24,
   "metadata": {},
   "outputs": [],
   "source": [
    "all_extras = fotocasa[\"Extra\"].fillna(\"\").apply(lambda x: x+\"-\").sum().split(\"-\")"
   ]
  },
  {
   "cell_type": "code",
   "execution_count": 25,
   "metadata": {},
   "outputs": [
    {
     "data": {
      "text/plain": [
       "{'Armarios': 6550,\n",
       " 'Aire acondicionado': 5893,\n",
       " 'Cocina Equipada': 5530,\n",
       " 'Electrodomésticos': 4923,\n",
       " 'Nevera': 4523,\n",
       " 'Lavadora': 4493,\n",
       " 'Calefacción': 4360,\n",
       " 'Horno': 3508,\n",
       " 'Puerta Blindada': 3507,\n",
       " 'Parquet': 3179,\n",
       " 'Microondas': 3035,\n",
       " 'Serv. portería': 3024,\n",
       " 'Terraza': 2128,\n",
       " 'Suite ': 1612,\n",
       " ' con baño': 1612,\n",
       " 'TV': 1359,\n",
       " 'Balcón': 1336,\n",
       " 'Trastero': 1329,\n",
       " 'Cocina Office': 1279,\n",
       " 'Videoportero': 1199,\n",
       " 'Z. Comunitaria': 1120,\n",
       " 'Piscina comunitaria': 1031,\n",
       " 'Internet': 1014,\n",
       " 'Lavadero': 858,\n",
       " 'Piscina': 800,\n",
       " 'Gres Cerámica': 761,\n",
       " 'Zona Infantil': 557,\n",
       " 'Ascensor interior': 545,\n",
       " 'Jardín Privado': 503,\n",
       " 'Patio': 497,\n",
       " 'Zona Deportiva': 393,\n",
       " '': 291,\n",
       " 'Baño de huéspedes': 121,\n",
       " 'Gimnasio': 114,\n",
       " 'Alarma': 81,\n",
       " 'Domótica': 71,\n",
       " 'Energía Solar': 55,\n",
       " 'Cuarto para el servicio': 52,\n",
       " 'Cuarto lavado plancha': 47,\n",
       " 'Sauna': 28,\n",
       " 'Pista de Tenis': 20,\n",
       " 'Jacuzzi': 19,\n",
       " 'Muebles de diseño': 16,\n",
       " 'Porche cubierto': 15,\n",
       " 'Bodega': 11,\n",
       " 'Casa de invitados': 3,\n",
       " 'Agua Caliente': 1,\n",
       " 'Música ambiental': 1}"
      ]
     },
     "execution_count": 25,
     "metadata": {},
     "output_type": "execute_result"
    }
   ],
   "source": [
    "extras_dict = {}\n",
    "for extra in all_extras:\n",
    "    if extra in extras_dict:\n",
    "        extras_dict[extra] += 1\n",
    "    else:\n",
    "        extras_dict[extra] = 1\n",
    "{k: v for k, v in sorted(extras_dict.items(), key=lambda item: item[1], reverse = True)}"
   ]
  },
  {
   "cell_type": "code",
   "execution_count": 26,
   "metadata": {},
   "outputs": [
    {
     "data": {
      "text/plain": [
       "5893"
      ]
     },
     "execution_count": 26,
     "metadata": {},
     "output_type": "execute_result"
    }
   ],
   "source": [
    "fotocasa[\"Air_Conditioner\"] = fotocasa[\"Extra\"].fillna(\"\").apply(lambda x: int(\"Aire acondicionado\" in x))\n",
    "fotocasa[\"Air_Conditioner\"].sum()"
   ]
  },
  {
   "cell_type": "code",
   "execution_count": 27,
   "metadata": {},
   "outputs": [
    {
     "data": {
      "text/plain": [
       "1540"
      ]
     },
     "execution_count": 27,
     "metadata": {},
     "output_type": "execute_result"
    }
   ],
   "source": [
    "fotocasa[\"Community_Zone\"] = fotocasa[\"Extra\"].fillna(\"\") \\\n",
    "    .apply(lambda x: int((\"comunitaria\" in x.lower()) or (\"Zona\" in x)))\n",
    "fotocasa[\"Community_Zone\"].sum()"
   ]
  },
  {
   "cell_type": "code",
   "execution_count": 28,
   "metadata": {},
   "outputs": [
    {
     "data": {
      "text/plain": [
       "3024"
      ]
     },
     "execution_count": 28,
     "metadata": {},
     "output_type": "execute_result"
    }
   ],
   "source": [
    "fotocasa[\"Concierge\"] = fotocasa[\"Extra\"].fillna(\"\").apply(lambda x: int(\"Serv. portería\" in x))\n",
    "fotocasa[\"Concierge\"].sum()"
   ]
  },
  {
   "cell_type": "code",
   "execution_count": 29,
   "metadata": {},
   "outputs": [
    {
     "data": {
      "text/plain": [
       "7982"
      ]
     },
     "execution_count": 29,
     "metadata": {},
     "output_type": "execute_result"
    }
   ],
   "source": [
    "fotocasa[\"Equipped_Kitchen\"] = fotocasa[\"Extra\"].fillna(\"\") \\\n",
    "    .apply(lambda x: int((\"Cocina Equipada\" in x) or (\"Electrodomésticos\" in x) or (\"Nevera\" in x) \\\n",
    "                        or (\"Horno\" in x)))\n",
    "fotocasa[\"Equipped_Kitchen\"].sum()"
   ]
  },
  {
   "cell_type": "code",
   "execution_count": 30,
   "metadata": {},
   "outputs": [
    {
     "data": {
      "text/plain": [
       "1612"
      ]
     },
     "execution_count": 30,
     "metadata": {},
     "output_type": "execute_result"
    }
   ],
   "source": [
    "fotocasa[\"Ensuite\"] = fotocasa[\"Extra\"].fillna(\"\").apply(lambda x: int(\"Suite\" in x))\n",
    "fotocasa[\"Ensuite\"].sum()"
   ]
  },
  {
   "cell_type": "code",
   "execution_count": 31,
   "metadata": {},
   "outputs": [
    {
     "data": {
      "text/plain": [
       "504"
      ]
     },
     "execution_count": 31,
     "metadata": {},
     "output_type": "execute_result"
    }
   ],
   "source": [
    "fotocasa[\"Garden\"] = fotocasa[\"Extra\"].fillna(\"\").apply(lambda x: int((\"Jardín\" in x) or (\"Porche\" in x)))\n",
    "fotocasa[\"Garden\"].sum()"
   ]
  },
  {
   "cell_type": "code",
   "execution_count": 32,
   "metadata": {},
   "outputs": [
    {
     "data": {
      "text/plain": [
       "1388"
      ]
     },
     "execution_count": 32,
     "metadata": {},
     "output_type": "execute_result"
    }
   ],
   "source": [
    "fotocasa[\"Swimming_Pool\"] = fotocasa[\"Extra\"].fillna(\"\").apply(lambda x: int(\"Piscina\" in x))\n",
    "fotocasa[\"Swimming_Pool\"].sum()"
   ]
  },
  {
   "cell_type": "code",
   "execution_count": 33,
   "metadata": {},
   "outputs": [
    {
     "data": {
      "text/plain": [
       "2128"
      ]
     },
     "execution_count": 33,
     "metadata": {},
     "output_type": "execute_result"
    }
   ],
   "source": [
    "fotocasa[\"Terrace\"] = fotocasa[\"Extra\"].fillna(\"\").apply(lambda x: int(\"Terraza\" in x))\n",
    "fotocasa[\"Terrace\"].sum()"
   ]
  },
  {
   "cell_type": "code",
   "execution_count": 34,
   "metadata": {},
   "outputs": [],
   "source": [
    "fotocasa[\"Len_Extras\"] = fotocasa[\"Extra\"].fillna(\"\").apply(lambda x: len(x.split(\"-\")))"
   ]
  },
  {
   "cell_type": "markdown",
   "metadata": {},
   "source": [
    "# Furnished"
   ]
  },
  {
   "cell_type": "code",
   "execution_count": 35,
   "metadata": {},
   "outputs": [
    {
     "data": {
      "text/plain": [
       "Sí    4255\n",
       "No    2058\n",
       "Name: Furnished, dtype: int64"
      ]
     },
     "execution_count": 35,
     "metadata": {},
     "output_type": "execute_result"
    }
   ],
   "source": [
    "fotocasa[\"Furnished\"].value_counts()"
   ]
  },
  {
   "cell_type": "code",
   "execution_count": 36,
   "metadata": {},
   "outputs": [],
   "source": [
    "fotocasa[\"Furnished\"] = fotocasa[\"Furnished\"].map({\"Sí\": \"1\", \"No\": \"0\"}).fillna(\"0\")"
   ]
  },
  {
   "cell_type": "code",
   "execution_count": 37,
   "metadata": {},
   "outputs": [
    {
     "data": {
      "text/plain": [
       "0    5068\n",
       "1    4255\n",
       "Name: Furnished, dtype: int64"
      ]
     },
     "execution_count": 37,
     "metadata": {},
     "output_type": "execute_result"
    }
   ],
   "source": [
    "fotocasa[\"Furnished\"].value_counts()"
   ]
  },
  {
   "cell_type": "markdown",
   "metadata": {},
   "source": [
    "# Elevator"
   ]
  },
  {
   "cell_type": "code",
   "execution_count": 38,
   "metadata": {},
   "outputs": [
    {
     "data": {
      "text/plain": [
       "Sí    6797\n",
       "Name: Elevator, dtype: int64"
      ]
     },
     "execution_count": 38,
     "metadata": {},
     "output_type": "execute_result"
    }
   ],
   "source": [
    "fotocasa[\"Elevator\"].value_counts()"
   ]
  },
  {
   "cell_type": "code",
   "execution_count": 39,
   "metadata": {},
   "outputs": [],
   "source": [
    "fotocasa[\"Elevator\"] = fotocasa[\"Elevator\"].map({\"Sí\": \"1\", \"No\": \"0\"}).fillna(\"0\")"
   ]
  },
  {
   "cell_type": "code",
   "execution_count": 40,
   "metadata": {},
   "outputs": [
    {
     "data": {
      "text/plain": [
       "1    6797\n",
       "0    2526\n",
       "Name: Elevator, dtype: int64"
      ]
     },
     "execution_count": 40,
     "metadata": {},
     "output_type": "execute_result"
    }
   ],
   "source": [
    "fotocasa[\"Elevator\"].value_counts()"
   ]
  },
  {
   "cell_type": "markdown",
   "metadata": {},
   "source": [
    "# Energy consumption and emissions"
   ]
  },
  {
   "cell_type": "code",
   "execution_count": 41,
   "metadata": {},
   "outputs": [
    {
     "data": {
      "text/plain": [
       "<matplotlib.axes._subplots.AxesSubplot at 0x7f928fbf2d30>"
      ]
     },
     "execution_count": 41,
     "metadata": {},
     "output_type": "execute_result"
    },
    {
     "data": {
      "image/png": "[encoded data removed]",
      "text/plain": [
       "<Figure size 720x576 with 2 Axes>"
      ]
     },
     "metadata": {
      "needs_background": "light"
     },
     "output_type": "display_data"
    }
   ],
   "source": [
    "import seaborn as sns\n",
    "import matplotlib.pyplot as plt\n",
    "f, ax = plt.subplots(nrows = 2, figsize = (10,8))\n",
    "sns.barplot(x = fotocasa[\"Energy_Consumption\"].value_counts().index, \n",
    "            y = fotocasa[\"Energy_Consumption\"].value_counts().reset_index()[\"Energy_Consumption\"],\n",
    "            order = [\"En trámite\", \"Exento\", \"G\", \"F\", \"E\", \"D\", \"C\", \"B\", \"A\"], ax=ax[0])\n",
    "sns.barplot(x = fotocasa[\"Emissions\"].value_counts().index, \n",
    "            y = fotocasa[\"Emissions\"].value_counts().reset_index()[\"Emissions\"],\n",
    "            order = [\"En trámite\", \"Exento\", \"G\", \"F\", \"E\", \"D\", \"C\", \"B\", \"A\"], ax=ax[1])"
   ]
  },
  {
   "cell_type": "code",
   "execution_count": 42,
   "metadata": {},
   "outputs": [
    {
     "data": {
      "text/plain": [
       "G             5661\n",
       "E             1647\n",
       "D              628\n",
       "A              360\n",
       "C              358\n",
       "B              272\n",
       "F              232\n",
       "En trámite     106\n",
       "Exento          59\n",
       "Name: Energy_Consumption, dtype: int64"
      ]
     },
     "execution_count": 42,
     "metadata": {},
     "output_type": "execute_result"
    }
   ],
   "source": [
    "fotocasa[\"Energy_Consumption\"].value_counts()"
   ]
  },
  {
   "cell_type": "markdown",
   "metadata": {},
   "source": [
    "The distribution is the same, therefore:"
   ]
  },
  {
   "cell_type": "code",
   "execution_count": 43,
   "metadata": {},
   "outputs": [],
   "source": [
    "fotocasa.loc[fotocasa[\"Energy_Consumption\"]==\"En trámite\",\"Energy_Consumption\"] = \\\n",
    "  fotocasa.loc[fotocasa[\"Energy_Consumption\"]==\"En trámite\",\"Emissions\"]  \n",
    "\n",
    "fotocasa.loc[fotocasa[\"Emissions\"]==\"En trámite\",\"Emissions\"] = \\\n",
    "  fotocasa.loc[fotocasa[\"Emissions\"]==\"En trámite\",\"Energy_Consumption\"]  "
   ]
  },
  {
   "cell_type": "code",
   "execution_count": 44,
   "metadata": {},
   "outputs": [
    {
     "data": {
      "text/plain": [
       "<matplotlib.axes._subplots.AxesSubplot at 0x7f928c9846a0>"
      ]
     },
     "execution_count": 44,
     "metadata": {},
     "output_type": "execute_result"
    },
    {
     "data": {
      "image/png": "[encoded data removed]",
      "text/plain": [
       "<Figure size 720x576 with 2 Axes>"
      ]
     },
     "metadata": {
      "needs_background": "light"
     },
     "output_type": "display_data"
    }
   ],
   "source": [
    "f, ax = plt.subplots(nrows = 2, figsize = (10,8))\n",
    "sns.barplot(x = fotocasa[\"Energy_Consumption\"].value_counts().index, \n",
    "            y = fotocasa[\"Energy_Consumption\"].value_counts().reset_index()[\"Energy_Consumption\"],\n",
    "            order = [\"En trámite\", \"Exento\", \"G\", \"F\", \"E\", \"D\", \"C\", \"B\", \"A\"], ax=ax[0])\n",
    "sns.barplot(x = fotocasa[\"Emissions\"].value_counts().index, \n",
    "            y = fotocasa[\"Emissions\"].value_counts().reset_index()[\"Emissions\"],\n",
    "            order = [\"En trámite\", \"Exento\", \"G\", \"F\", \"E\", \"D\", \"C\", \"B\", \"A\"], ax=ax[1])"
   ]
  },
  {
   "cell_type": "code",
   "execution_count": 45,
   "metadata": {},
   "outputs": [
    {
     "data": {
      "text/plain": [
       "G             61.010404\n",
       "E             17.848332\n",
       "D              6.768208\n",
       "A              3.872144\n",
       "C              3.850692\n",
       "B              2.917516\n",
       "F              2.595731\n",
       "Exento         0.632844\n",
       "En trámite     0.504130\n",
       "Name: Energy_Consumption, dtype: float64"
      ]
     },
     "execution_count": 45,
     "metadata": {},
     "output_type": "execute_result"
    }
   ],
   "source": [
    "fotocasa[\"Energy_Consumption\"].value_counts()/len(fotocasa)*100"
   ]
  },
  {
   "cell_type": "code",
   "execution_count": 46,
   "metadata": {},
   "outputs": [],
   "source": [
    "fotocasa.loc[fotocasa[\"Energy_Consumption\"]==\"En trámite\",\"Energy_Consumption\"] = np.nan"
   ]
  },
  {
   "cell_type": "code",
   "execution_count": 47,
   "metadata": {},
   "outputs": [],
   "source": [
    "fotocasa = fotocasa.dropna(axis=0, subset = [\"Energy_Consumption\"])"
   ]
  },
  {
   "cell_type": "code",
   "execution_count": 48,
   "metadata": {},
   "outputs": [
    {
     "data": {
      "text/plain": [
       "Emissions             0\n",
       "Energy_Consumption    0\n",
       "dtype: int64"
      ]
     },
     "execution_count": 48,
     "metadata": {},
     "output_type": "execute_result"
    }
   ],
   "source": [
    "fotocasa.isna().sum().loc[[\"Emissions\",\"Energy_Consumption\"]]"
   ]
  },
  {
   "cell_type": "markdown",
   "metadata": {},
   "source": [
    "# Floor"
   ]
  },
  {
   "cell_type": "code",
   "execution_count": 49,
   "metadata": {},
   "outputs": [
    {
     "data": {
      "text/plain": [
       "1ª planta                    1154\n",
       "2ª planta                    1116\n",
       "3ª planta                    1014\n",
       "4ª planta                     818\n",
       "5ª planta                     563\n",
       "Bajos                         483\n",
       "6ª planta                     348\n",
       "7ª planta                     191\n",
       "Subsótano                      91\n",
       "Sótano                         91\n",
       "8ª planta                      83\n",
       "Entresuelo                     79\n",
       "Principal                      45\n",
       "9ª planta                      38\n",
       "10ª planta                     22\n",
       "12ª planta                     18\n",
       "11ª planta                     18\n",
       "A partir de la 15ª planta      16\n",
       "13ª planta                     11\n",
       "14ª planta                      8\n",
       "15ª planta                      7\n",
       "Otro                            1\n",
       "Name: Floor, dtype: int64"
      ]
     },
     "execution_count": 49,
     "metadata": {},
     "output_type": "execute_result"
    }
   ],
   "source": [
    "fotocasa[\"Floor\"].value_counts()"
   ]
  },
  {
   "cell_type": "code",
   "execution_count": 50,
   "metadata": {},
   "outputs": [],
   "source": [
    "def clean_floor(x):\n",
    "    try:\n",
    "        return x.replace(\"ª planta\",\"\")\n",
    "    except:\n",
    "        return x"
   ]
  },
  {
   "cell_type": "code",
   "execution_count": 51,
   "metadata": {},
   "outputs": [
    {
     "data": {
      "image/png": "[encoded data removed]",
      "text/plain": [
       "<Figure size 432x288 with 1 Axes>"
      ]
     },
     "metadata": {
      "needs_background": "light"
     },
     "output_type": "display_data"
    }
   ],
   "source": [
    "sns.barplot(y = fotocasa[\"Price\"], x = fotocasa[\"Floor\"].apply(clean_floor),\n",
    "    order = [\"Subsótano\",\"Sótano\",\"Bajos\",\"1\",\"2\",\"3\",\"4\",\"5\",\"6\",\"7\",\"8\",\"9\",\"10\",\"11\",\"12\",\"13\",\"14\",\n",
    "             \"15\",\"A partir de la 15\",\"Entresuelo\",\"Principal\",\"Otro\"]) \n",
    "plt.xticks(rotation=90);"
   ]
  },
  {
   "cell_type": "code",
   "execution_count": 52,
   "metadata": {},
   "outputs": [],
   "source": [
    "def clean_floor(x):\n",
    "    try:\n",
    "        x = x.replace(\"ª planta\",\"\")\n",
    "        if x in [\"1\",\"2\",\"3\",\"4\",\"5\",\"6\",\"7\",\"8\",\"9\",\"10\",\"11\",\"12\",\"13\",\"14\",\"15\"]:\n",
    "            return x\n",
    "        elif x==\"A partir de la 15\":\n",
    "            return \"+15\"\n",
    "        elif x==\"Subsótano\":\n",
    "            return \"Sótano\"\n",
    "        elif x==\"Otro\":\n",
    "            return np.nan\n",
    "        else:\n",
    "            return x\n",
    "    except AttributeError:\n",
    "        return x"
   ]
  },
  {
   "cell_type": "code",
   "execution_count": 53,
   "metadata": {},
   "outputs": [],
   "source": [
    "fotocasa[\"Floor\"] = fotocasa[\"Floor\"].apply(clean_floor)"
   ]
  },
  {
   "cell_type": "markdown",
   "metadata": {},
   "source": [
    "Imputing the mode does not preserve the distribution. KNN imputer will be used:"
   ]
  },
  {
   "cell_type": "code",
   "execution_count": 54,
   "metadata": {},
   "outputs": [
    {
     "data": {
      "text/plain": [
       "3062"
      ]
     },
     "execution_count": 54,
     "metadata": {},
     "output_type": "execute_result"
    }
   ],
   "source": [
    "fotocasa[\"Floor\"].isna().sum()"
   ]
  },
  {
   "cell_type": "markdown",
   "metadata": {},
   "source": [
    "# Imputing missing values with K-neighbors classifier"
   ]
  },
  {
   "cell_type": "code",
   "execution_count": 55,
   "metadata": {},
   "outputs": [],
   "source": [
    "from sklearn.preprocessing import OneHotEncoder\n",
    "from sklearn.neighbors import KNeighborsClassifier\n",
    "from sklearn.pipeline import Pipeline\n",
    "imputer = Pipeline([('dummy',OneHotEncoder(handle_unknown = \"ignore\")),\n",
    "                    ('knc',KNeighborsClassifier(n_neighbors = 10))])"
   ]
  },
  {
   "cell_type": "code",
   "execution_count": 56,
   "metadata": {},
   "outputs": [],
   "source": [
    "cleaned_columns = list(fotocasa.isna().sum()[fotocasa.isna().sum()/len(fotocasa)*100 == 0].index)\n",
    "cleaned_columns.remove(\"Title\")\n",
    "cleaned_columns.remove(\"Neighborhood\")\n",
    "cleaned_columns.remove(\"url\")\n",
    "cleaned_columns.remove(\"Photos\")\n",
    "cleaned_columns.remove(\"Len_Extras\")\n",
    "cleaned_columns.append(\"Floor\")\n",
    "fotocasa_cleaned = fotocasa[sorted(cleaned_columns)]"
   ]
  },
  {
   "cell_type": "code",
   "execution_count": 57,
   "metadata": {},
   "outputs": [],
   "source": [
    "filter_miss = fotocasa_cleaned[\"Floor\"].isna()\n",
    "# Fitting\n",
    "imputer.fit(fotocasa_cleaned[~filter_miss].drop([\"Floor\",\"Price\"], axis=1), \n",
    "            fotocasa_cleaned.loc[~filter_miss,\"Floor\"])\n",
    "pd.options.mode.chained_assignment = None\n",
    "fotocasa_cleaned.loc[filter_miss.values,\"Floor\"] = \\\n",
    "    imputer.predict(fotocasa_cleaned[filter_miss].drop([\"Floor\",\"Price\"], axis=1))"
   ]
  },
  {
   "cell_type": "code",
   "execution_count": 58,
   "metadata": {},
   "outputs": [
    {
     "data": {
      "image/png": "[encoded data removed]",
      "text/plain": [
       "<Figure size 1080x720 with 2 Axes>"
      ]
     },
     "metadata": {
      "needs_background": "light"
     },
     "output_type": "display_data"
    }
   ],
   "source": [
    "f, ax = plt.subplots(ncols = 2, figsize = (15,10), sharey = True)\n",
    "sns.barplot(x = fotocasa[\"Floor\"].value_counts().index,\n",
    "    y = fotocasa[\"Floor\"].value_counts().values/len(fotocasa[~fotocasa[\"Floor\"].isna()]),\n",
    "    order = [\"Sótano\",\"Bajos\",\"Principal\",\"Entresuelo\",\"1\",\"2\",\"3\",\"4\",\"5\",\"6\",\"7\",\"8\",\"9\",\"10\",\n",
    "             \"11\",\"12\",\"13\",\"14\",\"15\",\"+15\"],\n",
    "           ax = ax[0]) \n",
    "sns.barplot(x = fotocasa_cleaned[\"Floor\"].value_counts().index,\n",
    "    y = fotocasa_cleaned[\"Floor\"].value_counts().values/len(fotocasa_cleaned),\n",
    "    order = [\"Sótano\",\"Bajos\",\"Principal\",\"Entresuelo\",\"1\",\"2\",\"3\",\"4\",\"5\",\"6\",\"7\",\"8\",\"9\",\"10\",\n",
    "             \"11\",\"12\",\"13\",\"14\",\"15\",\"+15\"],\n",
    "           ax = ax[1]) \n",
    "for i in range(2):\n",
    "    for tick in ax[i].get_xticklabels():\n",
    "        tick.set_rotation(90)"
   ]
  },
  {
   "cell_type": "markdown",
   "metadata": {},
   "source": [
    "Good imputing. We observe the same shape distribution in the data withouth replacement than in the data with replacement. "
   ]
  },
  {
   "cell_type": "code",
   "execution_count": 59,
   "metadata": {},
   "outputs": [
    {
     "data": {
      "text/plain": [
       "1             2163\n",
       "2             1982\n",
       "3             1490\n",
       "4             1116\n",
       "5              713\n",
       "Bajos          622\n",
       "6              390\n",
       "Sótano         235\n",
       "7              211\n",
       "8               84\n",
       "Entresuelo      81\n",
       "Principal       46\n",
       "9               38\n",
       "10              26\n",
       "12              18\n",
       "11              18\n",
       "+15             17\n",
       "13              11\n",
       "14               8\n",
       "15               7\n",
       "Name: Floor, dtype: int64"
      ]
     },
     "execution_count": 59,
     "metadata": {},
     "output_type": "execute_result"
    }
   ],
   "source": [
    "fotocasa_cleaned[\"Floor\"].value_counts()"
   ]
  },
  {
   "cell_type": "code",
   "execution_count": 60,
   "metadata": {},
   "outputs": [],
   "source": [
    "fotocasa_cleaned.to_csv(\"fotocasa_cleaned.csv\", index=False)"
   ]
  },
  {
   "cell_type": "markdown",
   "metadata": {},
   "source": [
    "Notes: Valderribas is included in Valdebernardo and Atocha in Delicias."
   ]
  }
 ],
 "metadata": {
  "kernelspec": {
   "display_name": "Python 3",
   "language": "python",
   "name": "python3"
  },
  "language_info": {
   "codemirror_mode": {
    "name": "ipython",
    "version": 3
   },
   "file_extension": ".py",
   "mimetype": "text/x-python",
   "name": "python",
   "nbconvert_exporter": "python",
   "pygments_lexer": "ipython3",
   "version": "3.8.3"
  }
 },
 "nbformat": 4,
 "nbformat_minor": 4
}
