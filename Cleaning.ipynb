{
 "cells": [
  {
   "cell_type": "code",
   "execution_count": 1,
   "metadata": {},
   "outputs": [],
   "source": [
    "import pandas as pd\n",
    "pd.set_option('display.max_columns', None)\n",
    "import numpy as np"
   ]
  },
  {
   "cell_type": "code",
   "execution_count": 2,
   "metadata": {},
   "outputs": [],
   "source": [
    "fotocasa = pd.read_csv(\"fotocasa.csv\")"
   ]
  },
  {
   "cell_type": "markdown",
   "metadata": {},
   "source": [
    "# Missing values"
   ]
  },
  {
   "cell_type": "code",
   "execution_count": 3,
   "metadata": {},
   "outputs": [
    {
     "data": {
      "text/plain": [
       "Antiquity             63.226463\n",
       "Bathrooms              0.712468\n",
       "Community_Expenses    54.554707\n",
       "Condition             50.900763\n",
       "Deposit               82.900763\n",
       "Elevator              27.582697\n",
       "Extra                  3.094148\n",
       "Floor                 31.175573\n",
       "Furnished             32.386768\n",
       "Heating               62.951654\n",
       "Orientation           74.351145\n",
       "Parking               78.137405\n",
       "Pets                  93.333333\n",
       "Rooms                  5.801527\n",
       "Size                   0.478372\n",
       "Water_Heater          69.201018\n",
       "dtype: float64"
      ]
     },
     "execution_count": 3,
     "metadata": {},
     "output_type": "execute_result"
    }
   ],
   "source": [
    "fotocasa.isna().sum()[fotocasa.isna().sum()/len(fotocasa)*100 > 0]/len(fotocasa)*100"
   ]
  },
  {
   "cell_type": "code",
   "execution_count": 4,
   "metadata": {},
   "outputs": [
    {
     "name": "stdout",
     "output_type": "stream",
     "text": [
      "There are  4  cleaned columns:\n",
      "Index(['Emissions', 'Energy_Consumption', 'Neighborhood', 'Photos', 'Price',\n",
      "       'Title', 'Type', 'url'],\n",
      "      dtype='object')\n"
     ]
    }
   ],
   "source": [
    "cleaned_columns = len(fotocasa.isna().sum()[fotocasa.isna().sum()/len(fotocasa)*100 == 0])\n",
    "print(\"There are \", cleaned_columns-4, \" cleaned columns:\")\n",
    "print(fotocasa.isna().sum()[fotocasa.isna().sum()/len(fotocasa)*100 == 0].index)"
   ]
  },
  {
   "cell_type": "markdown",
   "metadata": {},
   "source": [
    "# Price"
   ]
  },
  {
   "cell_type": "code",
   "execution_count": 5,
   "metadata": {},
   "outputs": [
    {
     "data": {
      "text/plain": [
       "9"
      ]
     },
     "execution_count": 5,
     "metadata": {},
     "output_type": "execute_result"
    }
   ],
   "source": [
    "def clean_price(x):\n",
    "    if x!= \"A consultar\":\n",
    "        return x.replace(\".\",\"\").rstrip(\"€\")\n",
    "    else:\n",
    "        return np.nan\n",
    "fotocasa[\"Price\"].apply(clean_price).isna().sum()"
   ]
  },
  {
   "cell_type": "code",
   "execution_count": 6,
   "metadata": {},
   "outputs": [],
   "source": [
    "fotocasa[\"Price\"] = fotocasa[\"Price\"].apply(clean_price)\n",
    "fotocasa = fotocasa.dropna(axis=0, subset = [\"Price\"])\n",
    "fotocasa[\"Price\"] = fotocasa[\"Price\"].astype(int)"
   ]
  },
  {
   "cell_type": "markdown",
   "metadata": {},
   "source": [
    "# Getting district and borough"
   ]
  },
  {
   "cell_type": "code",
   "execution_count": 7,
   "metadata": {},
   "outputs": [],
   "source": [
    "districts = [\"Centro\",\"Arganzuela\",\"Retiro\",\"Salamanca\",\"Chamartín\",\"Tetuán\",\"Chamberí\",\"Fuencarral\",\n",
    "            \"El Pardo\",\"Moncloa\",\"Latina\",\"Carabanchel\",\"Usera\",\"Puente de Vallecas\",\"Moratalaz\",\n",
    "            \"Ciudad Lineal\",\"Hortaleza\",\"Villaverde\",\"Villa de Vallecas\",\"Vicálvaro\",\"San Blas\",\"Barajas\"]\n",
    "boroughs = [\"El Pardo\", \"Fuentelarreina\", \"Peñagrande\", \"Pilar\", \"La Paz\", \"Valverde\", \"Mirasierra\",\n",
    "                \"El Goloso\", \"Casa de Campo\", \"Argüelles\", \"Ciudad Universitaria\", \"Valdezarza\", \n",
    "                \"Valdemarín\", \"El Plantío\", \"Aravaca\", \"Bellas Vistas\", \"Cuatro Caminos\", \"Castillejos\", \n",
    "                \"Almenara\", \"Valdeacederas\", \"Berruguete\", \"Palomas\", \"Piovera\", \"Canillas\", \n",
    "                \"Pinar del Rey\", \"Apóstol Santiago\", \"Valdefuentes\", \"El Viso\", \"Prosperidad\", \n",
    "                \"Ciudad Jardín\", \"Hispanoamérica\", \"Nueva España\", \"Castilla\", \"Ventas\", \"Pueblo Nuevo\", \n",
    "                \"Quintana\", \"Concepción\", \"San Pascual\", \"San Juan Bautista\", \"Colina\", \"Atalaya\", \n",
    "                \"Costillares\", \"Gaztambide\", \"Arapiles\", \"Trafalgar\", \"Almagro\", \"Ríos Rosas\", \n",
    "                \"Vallehermoso\",\"Recoletos\", \"Goya\", \"Fuente del Berro\", \"Guindalera\", \"Lista\", \n",
    "                \"Castellana\", \"Simancas\", \"Hellín\", \"Amposta\", \"Arcos\", \"Rosas\", \"Rejas\", \"Canillejas\", \n",
    "                \"Salvador\", \"Alameda de Osuna\", \"Aeropuerto\", \"Casco histórico de Barajas\", \"Timón\", \n",
    "                \"Corralejos\", \"Palacio\", \"Embajadores\", \"Cortes\", \"Justicia\", \"Universidad\", \"Sol\", \n",
    "                \"Pacífico\", \"Adelfas\", \"Estrella\", \"Ibiza\", \"Jerónimos\", \"Niño Jesús\", \"Imperial\", \n",
    "                \"Acacias\", \"Chopera\", \"Legazpi\", \"Delicias\", \"Palos de Moguer\", \"Atocha\", \"Pavones\", \n",
    "                \"Horcajo\", \"Marroquina\", \"Media Legua\", \"Fontarrón\", \"Vinateros\", \"Villaverde Alto\", \n",
    "                \"San Cristobal\", \"Butarque\", \"Los Rosales\", \"Los Ángeles\", \"Orcasitas\", \"Orcasur\", \n",
    "                \"San Fermín\", \"Almendrales\", \"Moscardó\", \"Zofío\", \"Pradolongo\", \"Cármenes\", \n",
    "                \"Puerta del Ángel\", \"Lucero\", \"Aluche\", \"Campamento\", \"Cuatro Vientos\", \"Águilas\", \n",
    "                \"Comillas\", \"Opañel\", \"San Isidro\", \"Vista Alegre\", \"Puerta Bonita\", \"Buenavista\", \n",
    "                \"Abrantes\", \"Casco histórico de Vicálvaro\", \"Valdebernardo\", \"Valderribas\", \"El Cañaveral\",\n",
    "                \"Entrevías\", \"San Diego\", \"Palomeras Bajas\", \"Palomeras Sureste\", \"Portazgo\", \"Numancia\",\n",
    "                \"Casco histórico de Vallecas\", \"Santa Eugenia\", \"Ensanche de Vallecas\"]"
   ]
  },
  {
   "cell_type": "code",
   "execution_count": 8,
   "metadata": {},
   "outputs": [
    {
     "name": "stdout",
     "output_type": "stream",
     "text": [
      "There are  1  missing value(s)\n"
     ]
    }
   ],
   "source": [
    "from unidecode import unidecode\n",
    "\n",
    "def get_district(x):\n",
    "    comparison = [unidecode(i).lower() in unidecode(x).lower() for i in districts]\n",
    "    try: \n",
    "        idx = comparison.index(True)\n",
    "        return districts[idx]\n",
    "    except:\n",
    "        return np.nan\n",
    "fotocasa[\"District\"] = fotocasa[\"Neighborhood\"].apply(get_district)\n",
    "print(\"There are \", fotocasa[\"District\"].isna().sum(), \" missing value(s)\")"
   ]
  },
  {
   "cell_type": "code",
   "execution_count": 9,
   "metadata": {},
   "outputs": [
    {
     "name": "stdout",
     "output_type": "stream",
     "text": [
      "There are  306  missing value(s)\n"
     ]
    }
   ],
   "source": [
    "def get_borough(x):\n",
    "    comparison = [unidecode(i).lower() in unidecode(x).lower() for i in boroughs]\n",
    "    try: \n",
    "        idx = comparison.index(True)\n",
    "        return boroughs[idx]\n",
    "    except:\n",
    "        return np.nan\n",
    "fotocasa[\"Borough\"] = fotocasa[\"Title\"].apply(get_borough)\n",
    "print(\"There are \", fotocasa[\"Borough\"].isna().sum(), \" missing value(s)\")"
   ]
  },
  {
   "cell_type": "code",
   "execution_count": 10,
   "metadata": {},
   "outputs": [
    {
     "data": {
      "text/plain": [
       "{'Sanchinarro': 97,\n",
       " 'Tablas': 64,\n",
       " 'Manoteras': 38,\n",
       " 'Villaverde': 34,\n",
       " 'Montecarmelo': 20,\n",
       " 'Carabanchel': 18,\n",
       " 'Ambroz': 13,\n",
       " 'Fresno': 11,\n",
       " 'Plantío': 9,\n",
       " 'Capital': 1,\n",
       " 'Latina': 1}"
      ]
     },
     "execution_count": 10,
     "metadata": {},
     "output_type": "execute_result"
    }
   ],
   "source": [
    "# Seeing missing boroughs\n",
    "def clean_title(x):\n",
    "    return x.split(\",\")[-1].split(\" \")[-1]\n",
    "missing_boroughs = fotocasa.loc[fotocasa[\"Borough\"].isna(),\"Title\"].apply(clean_title).to_list()\n",
    "missing_boroughs_dict = {}\n",
    "for missing in missing_boroughs:\n",
    "    if missing in missing_boroughs_dict:\n",
    "        missing_boroughs_dict[missing] += 1\n",
    "    else:\n",
    "        missing_boroughs_dict[missing] = 1\n",
    "{k: v for k, v in sorted(missing_boroughs_dict.items(), key=lambda item: item[1], reverse = True)}"
   ]
  },
  {
   "cell_type": "code",
   "execution_count": 11,
   "metadata": {},
   "outputs": [
    {
     "name": "stdout",
     "output_type": "stream",
     "text": [
      "There are  3  missing value(s)\n"
     ]
    }
   ],
   "source": [
    "def get_borough(x):\n",
    "    x = x.replace(\"  \",\" \")\n",
    "    if \"Sanchinarro\".lower() in x.lower():\n",
    "        return \"Valdefuentes\"\n",
    "    elif \"Tablas\".lower() in x.lower():\n",
    "        return \"Valverde\"\n",
    "    elif unidecode(\"San Andrés de Villaverde\").lower() in unidecode(x).lower():\n",
    "        return \"Villaverde Alto\"\n",
    "    elif \"Montecarmelo\".lower() in x.lower():\n",
    "        return \"El Goloso\"\n",
    "    elif \"Manoteras\".lower() in x.lower():\n",
    "        return \"Apóstol Santiago\"\n",
    "    elif \"PAU\" in x:\n",
    "        return \"Buenavista\"\n",
    "    elif \"Ambroz\".lower() in x.lower():\n",
    "        return \"Casco histórico de Vicálvaro\"\n",
    "    elif \"Arroyo del Fresno\".lower() in x.lower():\n",
    "        return \"Mirasierra\"\n",
    "    else:\n",
    "        comparison = [unidecode(i).lower() in unidecode(x).lower() for i in boroughs]\n",
    "        try: \n",
    "            idx = comparison.index(True)\n",
    "            return boroughs[idx]\n",
    "        except:\n",
    "            return np.nan\n",
    "fotocasa[\"Borough\"] = fotocasa[\"Title\"].apply(get_borough)\n",
    "print(\"There are \", fotocasa[\"Borough\"].isna().sum(), \" missing value(s)\")"
   ]
  },
  {
   "cell_type": "markdown",
   "metadata": {},
   "source": [
    "To see missing boroughs use the following code:\n",
    "\n",
    "<code>idx = fotocasa[((fotocasa[\"Borough\"].isna()) & \\\n",
    "                (fotocasa[\"Title\"].apply(lambda x: \"Manoteras\".lower() in x.lower())))].index\n",
    "fotocasa.loc[idx[0],\"Title\"]</code>"
   ]
  },
  {
   "cell_type": "code",
   "execution_count": 12,
   "metadata": {},
   "outputs": [],
   "source": [
    "fotocasa = fotocasa.dropna(axis=0, subset = [\"District\",\"Borough\"])"
   ]
  },
  {
   "cell_type": "markdown",
   "metadata": {},
   "source": [
    "# Antiquity"
   ]
  },
  {
   "cell_type": "code",
   "execution_count": 13,
   "metadata": {},
   "outputs": [
    {
     "data": {
      "text/plain": [
       "30 a 50 años      741\n",
       "50 a 70 años      725\n",
       "10 a 20 años      561\n",
       "70 a 100 años     496\n",
       "+ 100 años        432\n",
       "20 a 30 años      319\n",
       "Menos de 1 año    124\n",
       "1 a 5 años        118\n",
       "5 a 10 años        95\n",
       "Name: Antiquity, dtype: int64"
      ]
     },
     "execution_count": 13,
     "metadata": {},
     "output_type": "execute_result"
    }
   ],
   "source": [
    "fotocasa[\"Antiquity\"].value_counts()"
   ]
  },
  {
   "cell_type": "code",
   "execution_count": 14,
   "metadata": {},
   "outputs": [],
   "source": [
    "def clean_antiquity(x):\n",
    "    try:\n",
    "        return x.rstrip(\" años\").replace(\" \",\"\").replace(\"a\",\"-\").replace(\"Menosde\",\"<\")\n",
    "    except AttributeError:\n",
    "        return x\n",
    "    \n",
    "fotocasa[\"Antiquity\"] = fotocasa[\"Antiquity\"].apply(clean_antiquity)"
   ]
  },
  {
   "cell_type": "code",
   "execution_count": 15,
   "metadata": {},
   "outputs": [
    {
     "data": {
      "text/plain": [
       "30-50     741\n",
       "50-70     725\n",
       "10-20     561\n",
       "70-100    496\n",
       "+100      432\n",
       "20-30     319\n",
       "<1        124\n",
       "1-5       118\n",
       "5-10       95\n",
       "Name: Antiquity, dtype: int64"
      ]
     },
     "execution_count": 15,
     "metadata": {},
     "output_type": "execute_result"
    }
   ],
   "source": [
    "fotocasa[\"Antiquity\"].value_counts()"
   ]
  },
  {
   "cell_type": "markdown",
   "metadata": {},
   "source": [
    "### Adding missing values with the average of the borough and then district"
   ]
  },
  {
   "cell_type": "code",
   "execution_count": 16,
   "metadata": {},
   "outputs": [],
   "source": [
    "for borough in fotocasa.loc[fotocasa[\"Antiquity\"].isna(),\"Borough\"].unique():\n",
    "    filter_borough = fotocasa[\"Borough\"] == borough\n",
    "    try:\n",
    "        # Antiquity\n",
    "        frequent_antiquity = fotocasa.loc[filter_borough, \"Antiquity\"].mode().loc[0]\n",
    "        fotocasa.loc[fotocasa[\"Antiquity\"].isna() & filter_borough,\"Antiquity\"] = frequent_antiquity\n",
    "    except KeyError:\n",
    "        pass"
   ]
  },
  {
   "cell_type": "code",
   "execution_count": 17,
   "metadata": {},
   "outputs": [],
   "source": [
    "for district in fotocasa.loc[fotocasa[\"Antiquity\"].isna(),\"District\"].unique():\n",
    "    filter_district = fotocasa[\"District\"] == district\n",
    "    try:\n",
    "        # Antiquity\n",
    "        frequent_antiquity = fotocasa.loc[filter_district, \"Antiquity\"].mode().loc[0]\n",
    "        fotocasa.loc[fotocasa[\"Antiquity\"].isna() & filter_district,\"Antiquity\"] = frequent_antiquity\n",
    "    except KeyError:\n",
    "        pass"
   ]
  },
  {
   "cell_type": "code",
   "execution_count": 18,
   "metadata": {},
   "outputs": [
    {
     "data": {
      "text/plain": [
       "0"
      ]
     },
     "execution_count": 18,
     "metadata": {},
     "output_type": "execute_result"
    }
   ],
   "source": [
    "fotocasa[\"Antiquity\"].isna().sum()"
   ]
  },
  {
   "cell_type": "markdown",
   "metadata": {},
   "source": [
    "# Bathrooms and rooms\n",
    "At least one bathroom and room per property"
   ]
  },
  {
   "cell_type": "code",
   "execution_count": 19,
   "metadata": {},
   "outputs": [],
   "source": [
    "fotocasa[\"Bathrooms\"] = fotocasa[\"Bathrooms\"].fillna(1)\n",
    "fotocasa[\"Rooms\"] = fotocasa[\"Rooms\"].fillna(1)"
   ]
  },
  {
   "cell_type": "markdown",
   "metadata": {},
   "source": [
    "# Size\n",
    "We will use the average size per borough as we did with the antiquity"
   ]
  },
  {
   "cell_type": "code",
   "execution_count": 20,
   "metadata": {},
   "outputs": [],
   "source": [
    "for borough in fotocasa.loc[fotocasa[\"Size\"].isna(),\"District\"].unique():\n",
    "    filter_borough = fotocasa[\"Borough\"] == borough\n",
    "    try:\n",
    "        # Antiquity\n",
    "        frequent_antiquity = fotocasa.loc[filter_borough, \"Size\"].mean()\n",
    "        fotocasa.loc[fotocasa[\"Size\"].isna() & filter_borough,\"Size\"] = frequent_antiquity\n",
    "    except KeyError:\n",
    "        pass"
   ]
  },
  {
   "cell_type": "code",
   "execution_count": 21,
   "metadata": {},
   "outputs": [],
   "source": [
    "for district in fotocasa.loc[fotocasa[\"Size\"].isna(),\"District\"].unique():\n",
    "    filter_district = fotocasa[\"District\"] == district\n",
    "    try:\n",
    "        # Antiquity\n",
    "        frequent_antiquity = fotocasa.loc[filter_district, \"Size\"].mode().loc[0]\n",
    "        fotocasa.loc[fotocasa[\"Size\"].isna() & filter_district, \"Size\"] = frequent_antiquity\n",
    "    except KeyError:\n",
    "        pass"
   ]
  },
  {
   "cell_type": "markdown",
   "metadata": {},
   "source": [
    "# Extras"
   ]
  },
  {
   "cell_type": "code",
   "execution_count": 22,
   "metadata": {},
   "outputs": [],
   "source": [
    "all_extras = fotocasa[\"Extra\"].fillna(\"\").apply(lambda x: x+\"-\").sum().split(\"-\")"
   ]
  },
  {
   "cell_type": "code",
   "execution_count": 23,
   "metadata": {},
   "outputs": [
    {
     "data": {
      "text/plain": [
       "{'Armarios': 6881,\n",
       " 'Aire acondicionado': 6293,\n",
       " 'Cocina Equipada': 6016,\n",
       " 'Electrodomésticos': 5208,\n",
       " 'Nevera': 4888,\n",
       " 'Lavadora': 4832,\n",
       " 'Calefacción': 4573,\n",
       " 'Horno': 3816,\n",
       " 'Puerta Blindada': 3754,\n",
       " 'Parquet': 3231,\n",
       " 'Serv. portería': 3184,\n",
       " 'Microondas': 3169,\n",
       " 'Terraza': 2235,\n",
       " 'Suite ': 1626,\n",
       " ' con baño': 1626,\n",
       " 'TV': 1474,\n",
       " 'Trastero': 1410,\n",
       " 'Balcón': 1385,\n",
       " 'Cocina Office': 1303,\n",
       " 'Videoportero': 1220,\n",
       " 'Z. Comunitaria': 1191,\n",
       " 'Internet': 1098,\n",
       " 'Piscina comunitaria': 1086,\n",
       " 'Lavadero': 881,\n",
       " 'Piscina': 802,\n",
       " 'Gres Cerámica': 797,\n",
       " 'Zona Infantil': 570,\n",
       " 'Ascensor interior': 566,\n",
       " 'Jardín Privado': 521,\n",
       " 'Patio': 479,\n",
       " 'Zona Deportiva': 394,\n",
       " '': 304,\n",
       " 'Baño de huéspedes': 122,\n",
       " 'Gimnasio': 110,\n",
       " 'Alarma': 84,\n",
       " 'Domótica': 73,\n",
       " 'Energía Solar': 62,\n",
       " 'Cuarto para el servicio': 53,\n",
       " 'Cuarto lavado plancha': 48,\n",
       " 'Sauna': 27,\n",
       " 'Pista de Tenis': 24,\n",
       " 'Jacuzzi': 19,\n",
       " 'Muebles de diseño': 16,\n",
       " 'Porche cubierto': 15,\n",
       " 'Bodega': 10,\n",
       " 'Casa de invitados': 3,\n",
       " 'Agua Caliente': 1,\n",
       " 'Música ambiental': 1}"
      ]
     },
     "execution_count": 23,
     "metadata": {},
     "output_type": "execute_result"
    }
   ],
   "source": [
    "extras_dict = {}\n",
    "for extra in all_extras:\n",
    "    if extra in extras_dict:\n",
    "        extras_dict[extra] += 1\n",
    "    else:\n",
    "        extras_dict[extra] = 1\n",
    "{k: v for k, v in sorted(extras_dict.items(), key=lambda item: item[1], reverse = True)}"
   ]
  },
  {
   "cell_type": "code",
   "execution_count": 24,
   "metadata": {},
   "outputs": [
    {
     "data": {
      "text/plain": [
       "6293"
      ]
     },
     "execution_count": 24,
     "metadata": {},
     "output_type": "execute_result"
    }
   ],
   "source": [
    "fotocasa[\"Air_Conditioner\"] = fotocasa[\"Extra\"].fillna(\"\").apply(lambda x: int(\"Aire acondicionado\" in x))\n",
    "fotocasa[\"Air_Conditioner\"].sum()"
   ]
  },
  {
   "cell_type": "code",
   "execution_count": 25,
   "metadata": {},
   "outputs": [
    {
     "data": {
      "text/plain": [
       "1612"
      ]
     },
     "execution_count": 25,
     "metadata": {},
     "output_type": "execute_result"
    }
   ],
   "source": [
    "fotocasa[\"Community_Zone\"] = fotocasa[\"Extra\"].fillna(\"\") \\\n",
    "    .apply(lambda x: int((\"comunitaria\" in x.lower()) or (\"Zona\" in x)))\n",
    "fotocasa[\"Community_Zone\"].sum()"
   ]
  },
  {
   "cell_type": "code",
   "execution_count": 26,
   "metadata": {},
   "outputs": [
    {
     "data": {
      "text/plain": [
       "3184"
      ]
     },
     "execution_count": 26,
     "metadata": {},
     "output_type": "execute_result"
    }
   ],
   "source": [
    "fotocasa[\"Concierge\"] = fotocasa[\"Extra\"].fillna(\"\").apply(lambda x: int(\"Serv. portería\" in x))\n",
    "fotocasa[\"Concierge\"].sum()"
   ]
  },
  {
   "cell_type": "code",
   "execution_count": 27,
   "metadata": {},
   "outputs": [
    {
     "data": {
      "text/plain": [
       "8455"
      ]
     },
     "execution_count": 27,
     "metadata": {},
     "output_type": "execute_result"
    }
   ],
   "source": [
    "fotocasa[\"Equipped_Kitchen\"] = fotocasa[\"Extra\"].fillna(\"\") \\\n",
    "    .apply(lambda x: int((\"Cocina Equipada\" in x) or (\"Electrodomésticos\" in x) or (\"Nevera\" in x) \\\n",
    "                        or (\"Horno\" in x)))\n",
    "fotocasa[\"Equipped_Kitchen\"].sum()"
   ]
  },
  {
   "cell_type": "code",
   "execution_count": 28,
   "metadata": {},
   "outputs": [
    {
     "data": {
      "text/plain": [
       "1626"
      ]
     },
     "execution_count": 28,
     "metadata": {},
     "output_type": "execute_result"
    }
   ],
   "source": [
    "fotocasa[\"Ensuite\"] = fotocasa[\"Extra\"].fillna(\"\").apply(lambda x: int(\"Suite\" in x))\n",
    "fotocasa[\"Ensuite\"].sum()"
   ]
  },
  {
   "cell_type": "code",
   "execution_count": 29,
   "metadata": {},
   "outputs": [
    {
     "data": {
      "text/plain": [
       "522"
      ]
     },
     "execution_count": 29,
     "metadata": {},
     "output_type": "execute_result"
    }
   ],
   "source": [
    "fotocasa[\"Garden\"] = fotocasa[\"Extra\"].fillna(\"\").apply(lambda x: int((\"Jardín\" in x) or (\"Porche\" in x)))\n",
    "fotocasa[\"Garden\"].sum()"
   ]
  },
  {
   "cell_type": "code",
   "execution_count": 30,
   "metadata": {},
   "outputs": [
    {
     "data": {
      "text/plain": [
       "1457"
      ]
     },
     "execution_count": 30,
     "metadata": {},
     "output_type": "execute_result"
    }
   ],
   "source": [
    "fotocasa[\"Swimming_Pool\"] = fotocasa[\"Extra\"].fillna(\"\").apply(lambda x: int(\"Piscina\" in x))\n",
    "fotocasa[\"Swimming_Pool\"].sum()"
   ]
  },
  {
   "cell_type": "code",
   "execution_count": 31,
   "metadata": {},
   "outputs": [
    {
     "data": {
      "text/plain": [
       "2235"
      ]
     },
     "execution_count": 31,
     "metadata": {},
     "output_type": "execute_result"
    }
   ],
   "source": [
    "fotocasa[\"Terrace\"] = fotocasa[\"Extra\"].fillna(\"\").apply(lambda x: int(\"Terraza\" in x))\n",
    "fotocasa[\"Terrace\"].sum()"
   ]
  },
  {
   "cell_type": "code",
   "execution_count": 32,
   "metadata": {},
   "outputs": [],
   "source": [
    "fotocasa[\"Len_Extras\"] = fotocasa[\"Extra\"].fillna(\"\").apply(lambda x: len(x.split(\"-\")))"
   ]
  },
  {
   "cell_type": "markdown",
   "metadata": {},
   "source": [
    "# Furnished"
   ]
  },
  {
   "cell_type": "code",
   "execution_count": 33,
   "metadata": {},
   "outputs": [
    {
     "data": {
      "text/plain": [
       "Sí    4430\n",
       "No    2204\n",
       "Name: Furnished, dtype: int64"
      ]
     },
     "execution_count": 33,
     "metadata": {},
     "output_type": "execute_result"
    }
   ],
   "source": [
    "fotocasa[\"Furnished\"].value_counts()"
   ]
  },
  {
   "cell_type": "code",
   "execution_count": 34,
   "metadata": {},
   "outputs": [],
   "source": [
    "fotocasa[\"Furnished\"] = fotocasa[\"Furnished\"].map({\"Sí\": \"1\", \"No\": \"0\"}).fillna(\"0\")"
   ]
  },
  {
   "cell_type": "code",
   "execution_count": 35,
   "metadata": {},
   "outputs": [
    {
     "data": {
      "text/plain": [
       "0    5383\n",
       "1    4430\n",
       "Name: Furnished, dtype: int64"
      ]
     },
     "execution_count": 35,
     "metadata": {},
     "output_type": "execute_result"
    }
   ],
   "source": [
    "fotocasa[\"Furnished\"].value_counts()"
   ]
  },
  {
   "cell_type": "markdown",
   "metadata": {},
   "source": [
    "# Elevator"
   ]
  },
  {
   "cell_type": "code",
   "execution_count": 36,
   "metadata": {},
   "outputs": [
    {
     "data": {
      "text/plain": [
       "Sí    7107\n",
       "Name: Elevator, dtype: int64"
      ]
     },
     "execution_count": 36,
     "metadata": {},
     "output_type": "execute_result"
    }
   ],
   "source": [
    "fotocasa[\"Elevator\"].value_counts()"
   ]
  },
  {
   "cell_type": "code",
   "execution_count": 37,
   "metadata": {},
   "outputs": [],
   "source": [
    "fotocasa[\"Elevator\"] = fotocasa[\"Elevator\"].map({\"Sí\": \"1\", \"No\": \"0\"}).fillna(\"0\")"
   ]
  },
  {
   "cell_type": "code",
   "execution_count": 38,
   "metadata": {},
   "outputs": [
    {
     "data": {
      "text/plain": [
       "1    7107\n",
       "0    2706\n",
       "Name: Elevator, dtype: int64"
      ]
     },
     "execution_count": 38,
     "metadata": {},
     "output_type": "execute_result"
    }
   ],
   "source": [
    "fotocasa[\"Elevator\"].value_counts()"
   ]
  },
  {
   "cell_type": "markdown",
   "metadata": {},
   "source": [
    "# Floor"
   ]
  },
  {
   "cell_type": "code",
   "execution_count": 39,
   "metadata": {},
   "outputs": [
    {
     "data": {
      "text/plain": [
       "1ª planta                    1222\n",
       "2ª planta                    1184\n",
       "3ª planta                    1082\n",
       "4ª planta                     874\n",
       "5ª planta                     619\n",
       "Bajos                         523\n",
       "6ª planta                     394\n",
       "7ª planta                     215\n",
       "Sótano                        115\n",
       "Subsótano                     108\n",
       "Entresuelo                    102\n",
       "8ª planta                      90\n",
       "Principal                      65\n",
       "9ª planta                      47\n",
       "10ª planta                     24\n",
       "11ª planta                     23\n",
       "12ª planta                     22\n",
       "A partir de la 15ª planta      20\n",
       "13ª planta                     13\n",
       "14ª planta                     10\n",
       "15ª planta                      6\n",
       "Otro                            1\n",
       "Name: Floor, dtype: int64"
      ]
     },
     "execution_count": 39,
     "metadata": {},
     "output_type": "execute_result"
    }
   ],
   "source": [
    "fotocasa[\"Floor\"].value_counts()"
   ]
  },
  {
   "cell_type": "code",
   "execution_count": 40,
   "metadata": {},
   "outputs": [],
   "source": [
    "def clean_floor(x):\n",
    "    try:\n",
    "        return x.replace(\"ª planta\",\"\")\n",
    "    except:\n",
    "        return x"
   ]
  },
  {
   "cell_type": "code",
   "execution_count": 41,
   "metadata": {},
   "outputs": [
    {
     "data": {
      "image/png": "[encoded data removed]",
      "text/plain": [
       "<Figure size 432x288 with 1 Axes>"
      ]
     },
     "metadata": {
      "needs_background": "light"
     },
     "output_type": "display_data"
    }
   ],
   "source": [
    "import seaborn as sns\n",
    "import matplotlib.pyplot as plt\n",
    "sns.barplot(y = fotocasa[\"Price\"], x = fotocasa[\"Floor\"].apply(clean_floor),\n",
    "    order = [\"Subsótano\",\"Sótano\",\"Bajos\",\"1\",\"2\",\"3\",\"4\",\"5\",\"6\",\"7\",\"8\",\"9\",\"10\",\"11\",\"12\",\"13\",\"14\",\n",
    "             \"15\",\"A partir de la 15\",\"Entresuelo\",\"Principal\",\"Otro\"]) \n",
    "plt.xticks(rotation=90);"
   ]
  },
  {
   "cell_type": "code",
   "execution_count": 42,
   "metadata": {},
   "outputs": [],
   "source": [
    "def clean_floor(x):\n",
    "    try:\n",
    "        x = x.replace(\"ª planta\",\"\")\n",
    "        if x in [\"1\",\"2\",\"3\",\"4\"]:\n",
    "            return \"1-4\"\n",
    "        elif x in [\"5\",\"6\",\"7\",\"8\",\"9\"]:\n",
    "            return \"5-9\"\n",
    "        elif x in [\"10\",\"11\",\"12\",\"13\"]:\n",
    "            return \"10-13\" \n",
    "        elif x in [\"14\",\"15\"]:\n",
    "            return \"14-15\"\n",
    "        elif x==\"A partir de la 15\":\n",
    "            return \"+15\"\n",
    "        elif x==\"Subsótano\":\n",
    "            return \"Sótano\"\n",
    "        else:\n",
    "            return x\n",
    "    except AttributeError:\n",
    "        return x"
   ]
  },
  {
   "cell_type": "code",
   "execution_count": 43,
   "metadata": {},
   "outputs": [],
   "source": [
    "fotocasa[\"Floor\"] = fotocasa[\"Floor\"].apply(clean_floor)"
   ]
  },
  {
   "cell_type": "markdown",
   "metadata": {},
   "source": [
    "Imputing the mode does not preserve the distribution. KNN imputer will be used:"
   ]
  },
  {
   "cell_type": "code",
   "execution_count": 44,
   "metadata": {},
   "outputs": [],
   "source": [
    "from sklearn.preprocessing import OneHotEncoder\n",
    "from sklearn.neighbors import KNeighborsClassifier\n",
    "from sklearn.pipeline import Pipeline\n",
    "imputer = Pipeline([('dummy',OneHotEncoder(handle_unknown = \"ignore\")),\n",
    "                    ('knc',KNeighborsClassifier(n_neighbors = 5))])"
   ]
  },
  {
   "cell_type": "code",
   "execution_count": 45,
   "metadata": {},
   "outputs": [],
   "source": [
    "cleaned_columns = list(fotocasa.isna().sum()[fotocasa.isna().sum()/len(fotocasa)*100 == 0].index)\n",
    "cleaned_columns.remove(\"Title\")\n",
    "cleaned_columns.remove(\"url\")\n",
    "cleaned_columns.remove(\"Neighborhood\")\n",
    "cleaned_columns.append(\"Floor\")\n",
    "fotocasa_cleaned = fotocasa[sorted(cleaned_columns)]"
   ]
  },
  {
   "cell_type": "code",
   "execution_count": 46,
   "metadata": {},
   "outputs": [],
   "source": [
    "filter_miss = fotocasa_cleaned[\"Floor\"].isna()\n",
    "# Fitting\n",
    "imputer.fit(fotocasa_cleaned[~filter_miss].drop([\"Floor\",\"Price\"], axis=1), \n",
    "            fotocasa_cleaned.loc[~filter_miss,\"Floor\"])\n",
    "pd.options.mode.chained_assignment = None\n",
    "fotocasa_cleaned.loc[filter_miss.values,\"Floor\"] = \\\n",
    "    imputer.predict(fotocasa_cleaned[filter_miss].drop([\"Floor\",\"Price\"], axis=1))"
   ]
  },
  {
   "cell_type": "code",
   "execution_count": 47,
   "metadata": {},
   "outputs": [
    {
     "data": {
      "image/png": "[encoded data removed]",
      "text/plain": [
       "<Figure size 1080x720 with 4 Axes>"
      ]
     },
     "metadata": {
      "needs_background": "light"
     },
     "output_type": "display_data"
    }
   ],
   "source": [
    "f, ax = plt.subplots(nrows = 2, ncols = 2, figsize = (15,10), sharex = True)\n",
    "sns.barplot(y = fotocasa[\"Price\"], x = fotocasa[\"Floor\"].apply(clean_floor),\n",
    "    order = [\"Sótano\",\"Bajos\",\"Principal\",\"Entresuelo\",\"1-4\",\"5-9\",\"10-13\",\"14-15\",\"+15\",\"Otro\"],\n",
    "           ax = ax[0][0]) \n",
    "sns.barplot(y = fotocasa_cleaned[\"Price\"], x = fotocasa_cleaned[\"Floor\"].apply(clean_floor),\n",
    "    order = [\"Sótano\",\"Bajos\",\"Principal\",\"Entresuelo\",\"1-4\",\"5-9\",\"10-13\",\"14-15\",\"+15\",\"Otro\"],\n",
    "           ax = ax[0][1]) \n",
    "sns.barplot(x = fotocasa[\"Floor\"].apply(clean_floor).value_counts().index,\n",
    "            y = fotocasa[\"Floor\"].apply(clean_floor).value_counts().values/len(fotocasa_cleaned[~filter_miss]),\n",
    "    order = [\"Sótano\",\"Bajos\",\"Principal\",\"Entresuelo\",\"1-4\",\"5-9\",\"10-13\",\"14-15\",\"+15\",\"Otro\"],\n",
    "           ax = ax[1][0]) \n",
    "sns.barplot(x = fotocasa_cleaned[\"Floor\"].apply(clean_floor).value_counts().index,\n",
    "            y = fotocasa_cleaned[\"Floor\"].apply(clean_floor).value_counts().values/len(fotocasa_cleaned),\n",
    "    order = [\"Sótano\",\"Bajos\",\"Principal\",\"Entresuelo\",\"1-4\",\"5-9\",\"10-13\",\"14-15\",\"+15\",\"Otro\"],\n",
    "           ax = ax[1][1]) \n",
    "for i in range(2):\n",
    "    for tick in ax[1][i].get_xticklabels():\n",
    "        tick.set_rotation(45)"
   ]
  },
  {
   "cell_type": "markdown",
   "metadata": {},
   "source": [
    "Good imputing. We observe the same shape distribution in the data withouth replacement than in the data with replacement. "
   ]
  },
  {
   "cell_type": "code",
   "execution_count": 48,
   "metadata": {},
   "outputs": [
    {
     "data": {
      "text/plain": [
       "Air_Conditioner       0\n",
       "Antiquity             0\n",
       "Bathrooms             0\n",
       "Borough               0\n",
       "Community_Zone        0\n",
       "Concierge             0\n",
       "District              0\n",
       "Elevator              0\n",
       "Emissions             0\n",
       "Energy_Consumption    0\n",
       "Ensuite               0\n",
       "Equipped_Kitchen      0\n",
       "Floor                 0\n",
       "Furnished             0\n",
       "Garden                0\n",
       "Len_Extras            0\n",
       "Photos                0\n",
       "Price                 0\n",
       "Rooms                 0\n",
       "Size                  0\n",
       "Swimming_Pool         0\n",
       "Terrace               0\n",
       "Type                  0\n",
       "dtype: int64"
      ]
     },
     "execution_count": 48,
     "metadata": {},
     "output_type": "execute_result"
    }
   ],
   "source": [
    "fotocasa_cleaned.isna().sum()"
   ]
  },
  {
   "cell_type": "code",
   "execution_count": 49,
   "metadata": {},
   "outputs": [],
   "source": [
    "fotocasa_cleaned.to_csv(\"fotocasa_cleaned.csv\")"
   ]
  }
 ],
 "metadata": {
  "kernelspec": {
   "display_name": "Python 3",
   "language": "python",
   "name": "python3"
  },
  "language_info": {
   "codemirror_mode": {
    "name": "ipython",
    "version": 3
   },
   "file_extension": ".py",
   "mimetype": "text/x-python",
   "name": "python",
   "nbconvert_exporter": "python",
   "pygments_lexer": "ipython3",
   "version": "3.8.3"
  }
 },
 "nbformat": 4,
 "nbformat_minor": 4
}
