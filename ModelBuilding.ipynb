{
 "cells": [
  {
   "cell_type": "code",
   "execution_count": 1,
   "metadata": {},
   "outputs": [],
   "source": [
    "import pandas as pd\n",
    "import numpy as np"
   ]
  },
  {
   "cell_type": "code",
   "execution_count": 2,
   "metadata": {},
   "outputs": [],
   "source": [
    "fotocasa = pd.read_csv(\"fotocasa_eda.csv\")"
   ]
  },
  {
   "cell_type": "code",
   "execution_count": 3,
   "metadata": {},
   "outputs": [
    {
     "data": {
      "text/plain": [
       "Index(['Air_Conditioner', 'Antiquity', 'Bathrooms', 'Borough',\n",
       "       'Community_Zone', 'Concierge', 'District', 'Elevator',\n",
       "       'Energy_Consumption', 'Ensuite', 'Equipped_Kitchen', 'Floor',\n",
       "       'Furnished', 'Garden', 'Price', 'Rooms', 'Size', 'Swimming_Pool',\n",
       "       'Terrace', 'Type'],\n",
       "      dtype='object')"
      ]
     },
     "execution_count": 3,
     "metadata": {},
     "output_type": "execute_result"
    }
   ],
   "source": [
    "fotocasa.columns"
   ]
  },
  {
   "cell_type": "code",
   "execution_count": 4,
   "metadata": {},
   "outputs": [],
   "source": [
    "X = fotocasa.drop([\"Price\"], axis=1)\n",
    "y = fotocasa[\"Price\"]"
   ]
  },
  {
   "cell_type": "code",
   "execution_count": 5,
   "metadata": {},
   "outputs": [],
   "source": [
    "import statsmodels.api as sm"
   ]
  },
  {
   "cell_type": "code",
   "execution_count": 6,
   "metadata": {},
   "outputs": [
    {
     "name": "stdout",
     "output_type": "stream",
     "text": [
      "MEA:  0.1791945106484002  R2:  0.7249062615670048\n"
     ]
    }
   ],
   "source": [
    "reg_mod = sm.OLS(y,pd.get_dummies(X)).fit()\n",
    "mea = reg_mod.resid.abs().mean()\n",
    "r2 = reg_mod.rsquared\n",
    "print(\"MEA: \", mea/np.mean(y), \" R2: \", r2)"
   ]
  },
  {
   "cell_type": "code",
   "execution_count": 7,
   "metadata": {},
   "outputs": [
    {
     "data": {
      "text/html": [
       "<table class=\"simpletable\">\n",
       "<caption>OLS Regression Results</caption>\n",
       "<tr>\n",
       "  <th>Dep. Variable:</th>          <td>Price</td>      <th>  R-squared:         </th> <td>   0.725</td> \n",
       "</tr>\n",
       "<tr>\n",
       "  <th>Model:</th>                   <td>OLS</td>       <th>  Adj. R-squared:    </th> <td>   0.718</td> \n",
       "</tr>\n",
       "<tr>\n",
       "  <th>Method:</th>             <td>Least Squares</td>  <th>  F-statistic:       </th> <td>   111.6</td> \n",
       "</tr>\n",
       "<tr>\n",
       "  <th>Date:</th>             <td>Sat, 20 Feb 2021</td> <th>  Prob (F-statistic):</th>  <td>  0.00</td>  \n",
       "</tr>\n",
       "<tr>\n",
       "  <th>Time:</th>                 <td>11:40:24</td>     <th>  Log-Likelihood:    </th> <td> -63564.</td> \n",
       "</tr>\n",
       "<tr>\n",
       "  <th>No. Observations:</th>      <td>  8805</td>      <th>  AIC:               </th> <td>1.275e+05</td>\n",
       "</tr>\n",
       "<tr>\n",
       "  <th>Df Residuals:</th>          <td>  8601</td>      <th>  BIC:               </th> <td>1.290e+05</td>\n",
       "</tr>\n",
       "<tr>\n",
       "  <th>Df Model:</th>              <td>   203</td>      <th>                     </th>     <td> </td>    \n",
       "</tr>\n",
       "<tr>\n",
       "  <th>Covariance Type:</th>      <td>nonrobust</td>    <th>                     </th>     <td> </td>    \n",
       "</tr>\n",
       "</table>\n",
       "<table class=\"simpletable\">\n",
       "<tr>\n",
       "                    <td></td>                      <th>coef</th>     <th>std err</th>      <th>t</th>      <th>P>|t|</th>  <th>[0.025</th>    <th>0.975]</th>  \n",
       "</tr>\n",
       "<tr>\n",
       "  <th>Air_Conditioner</th>                      <td>  133.2258</td> <td>    8.281</td> <td>   16.087</td> <td> 0.000</td> <td>  116.992</td> <td>  149.459</td>\n",
       "</tr>\n",
       "<tr>\n",
       "  <th>Bathrooms</th>                            <td>  257.7070</td> <td>    8.211</td> <td>   31.385</td> <td> 0.000</td> <td>  241.611</td> <td>  273.803</td>\n",
       "</tr>\n",
       "<tr>\n",
       "  <th>Community_Zone</th>                       <td>  -55.9598</td> <td>   15.488</td> <td>   -3.613</td> <td> 0.000</td> <td>  -86.319</td> <td>  -25.600</td>\n",
       "</tr>\n",
       "<tr>\n",
       "  <th>Concierge</th>                            <td>   -3.9868</td> <td>    9.131</td> <td>   -0.437</td> <td> 0.662</td> <td>  -21.886</td> <td>   13.913</td>\n",
       "</tr>\n",
       "<tr>\n",
       "  <th>Elevator</th>                             <td>  -34.2014</td> <td>   10.053</td> <td>   -3.402</td> <td> 0.001</td> <td>  -53.907</td> <td>  -14.496</td>\n",
       "</tr>\n",
       "<tr>\n",
       "  <th>Ensuite</th>                              <td>  125.3403</td> <td>   11.420</td> <td>   10.975</td> <td> 0.000</td> <td>  102.954</td> <td>  147.726</td>\n",
       "</tr>\n",
       "<tr>\n",
       "  <th>Equipped_Kitchen</th>                     <td>  -19.2236</td> <td>   11.187</td> <td>   -1.718</td> <td> 0.086</td> <td>  -41.154</td> <td>    2.707</td>\n",
       "</tr>\n",
       "<tr>\n",
       "  <th>Furnished</th>                            <td>  -27.0442</td> <td>    7.813</td> <td>   -3.461</td> <td> 0.001</td> <td>  -42.359</td> <td>  -11.729</td>\n",
       "</tr>\n",
       "<tr>\n",
       "  <th>Garden</th>                               <td>    0.0046</td> <td>   18.452</td> <td>    0.000</td> <td> 1.000</td> <td>  -36.166</td> <td>   36.175</td>\n",
       "</tr>\n",
       "<tr>\n",
       "  <th>Rooms</th>                                <td>   88.0215</td> <td>    5.475</td> <td>   16.076</td> <td> 0.000</td> <td>   77.289</td> <td>   98.754</td>\n",
       "</tr>\n",
       "<tr>\n",
       "  <th>Size</th>                                 <td>    4.0839</td> <td>    0.109</td> <td>   37.618</td> <td> 0.000</td> <td>    3.871</td> <td>    4.297</td>\n",
       "</tr>\n",
       "<tr>\n",
       "  <th>Swimming_Pool</th>                        <td>   80.5210</td> <td>   17.149</td> <td>    4.695</td> <td> 0.000</td> <td>   46.905</td> <td>  114.137</td>\n",
       "</tr>\n",
       "<tr>\n",
       "  <th>Terrace</th>                              <td>   33.9758</td> <td>    9.635</td> <td>    3.526</td> <td> 0.000</td> <td>   15.088</td> <td>   52.864</td>\n",
       "</tr>\n",
       "<tr>\n",
       "  <th>Antiquity_+100</th>                       <td>  -22.1031</td> <td>   17.509</td> <td>   -1.262</td> <td> 0.207</td> <td>  -56.425</td> <td>   12.219</td>\n",
       "</tr>\n",
       "<tr>\n",
       "  <th>Antiquity_1-5</th>                        <td>  261.2267</td> <td>   30.949</td> <td>    8.441</td> <td> 0.000</td> <td>  200.560</td> <td>  321.894</td>\n",
       "</tr>\n",
       "<tr>\n",
       "  <th>Antiquity_10-20</th>                      <td>   10.7547</td> <td>   16.266</td> <td>    0.661</td> <td> 0.509</td> <td>  -21.131</td> <td>   42.641</td>\n",
       "</tr>\n",
       "<tr>\n",
       "  <th>Antiquity_20-30</th>                      <td>  -26.7673</td> <td>   19.810</td> <td>   -1.351</td> <td> 0.177</td> <td>  -65.600</td> <td>   12.065</td>\n",
       "</tr>\n",
       "<tr>\n",
       "  <th>Antiquity_30-50</th>                      <td>  -30.1752</td> <td>   14.181</td> <td>   -2.128</td> <td> 0.033</td> <td>  -57.974</td> <td>   -2.377</td>\n",
       "</tr>\n",
       "<tr>\n",
       "  <th>Antiquity_5-10</th>                       <td>   56.9006</td> <td>   36.310</td> <td>    1.567</td> <td> 0.117</td> <td>  -14.276</td> <td>  128.077</td>\n",
       "</tr>\n",
       "<tr>\n",
       "  <th>Antiquity_50-70</th>                      <td>   15.0070</td> <td>   14.501</td> <td>    1.035</td> <td> 0.301</td> <td>  -13.418</td> <td>   43.432</td>\n",
       "</tr>\n",
       "<tr>\n",
       "  <th>Antiquity_70-100</th>                     <td>   -5.9243</td> <td>   15.986</td> <td>   -0.371</td> <td> 0.711</td> <td>  -37.261</td> <td>   25.413</td>\n",
       "</tr>\n",
       "<tr>\n",
       "  <th>Antiquity_<1</th>                         <td>  142.7793</td> <td>   30.506</td> <td>    4.680</td> <td> 0.000</td> <td>   82.981</td> <td>  202.578</td>\n",
       "</tr>\n",
       "<tr>\n",
       "  <th>Borough_Abrantes</th>                     <td>   11.7196</td> <td>  141.977</td> <td>    0.083</td> <td> 0.934</td> <td> -266.589</td> <td>  290.028</td>\n",
       "</tr>\n",
       "<tr>\n",
       "  <th>Borough_Acacias</th>                      <td>  -63.1710</td> <td>  100.307</td> <td>   -0.630</td> <td> 0.529</td> <td> -259.797</td> <td>  133.455</td>\n",
       "</tr>\n",
       "<tr>\n",
       "  <th>Borough_Adelfas</th>                      <td> -112.7226</td> <td>  161.644</td> <td>   -0.697</td> <td> 0.486</td> <td> -429.584</td> <td>  204.139</td>\n",
       "</tr>\n",
       "<tr>\n",
       "  <th>Borough_Aeropuerto</th>                   <td>  183.6059</td> <td>  363.493</td> <td>    0.505</td> <td> 0.613</td> <td> -528.927</td> <td>  896.139</td>\n",
       "</tr>\n",
       "<tr>\n",
       "  <th>Borough_Alameda de Osuna</th>             <td>   22.2711</td> <td>  336.847</td> <td>    0.066</td> <td> 0.947</td> <td> -638.031</td> <td>  682.573</td>\n",
       "</tr>\n",
       "<tr>\n",
       "  <th>Borough_Almagro</th>                      <td>  339.1754</td> <td>  337.183</td> <td>    1.006</td> <td> 0.314</td> <td> -321.783</td> <td> 1000.134</td>\n",
       "</tr>\n",
       "<tr>\n",
       "  <th>Borough_Almenara</th>                     <td>   10.6306</td> <td>  238.898</td> <td>    0.044</td> <td> 0.965</td> <td> -457.667</td> <td>  478.928</td>\n",
       "</tr>\n",
       "<tr>\n",
       "  <th>Borough_Almendrales</th>                  <td>  118.4937</td> <td>  341.227</td> <td>    0.347</td> <td> 0.728</td> <td> -550.394</td> <td>  787.381</td>\n",
       "</tr>\n",
       "<tr>\n",
       "  <th>Borough_Aluche</th>                       <td> -188.0383</td> <td>  165.444</td> <td>   -1.137</td> <td> 0.256</td> <td> -512.348</td> <td>  136.271</td>\n",
       "</tr>\n",
       "<tr>\n",
       "  <th>Borough_Amposta</th>                      <td>   21.3497</td> <td>  134.817</td> <td>    0.158</td> <td> 0.874</td> <td> -242.925</td> <td>  285.624</td>\n",
       "</tr>\n",
       "<tr>\n",
       "  <th>Borough_Apóstol Santiago</th>             <td> -144.1784</td> <td>  191.734</td> <td>   -0.752</td> <td> 0.452</td> <td> -520.023</td> <td>  231.667</td>\n",
       "</tr>\n",
       "<tr>\n",
       "  <th>Borough_Arapiles</th>                     <td>  116.4172</td> <td>  337.526</td> <td>    0.345</td> <td> 0.730</td> <td> -545.214</td> <td>  778.049</td>\n",
       "</tr>\n",
       "<tr>\n",
       "  <th>Borough_Aravaca</th>                      <td> -206.1148</td> <td>  194.050</td> <td>   -1.062</td> <td> 0.288</td> <td> -586.500</td> <td>  174.270</td>\n",
       "</tr>\n",
       "<tr>\n",
       "  <th>Borough_Arcos</th>                        <td>    9.2299</td> <td>   91.480</td> <td>    0.101</td> <td> 0.920</td> <td> -170.092</td> <td>  188.552</td>\n",
       "</tr>\n",
       "<tr>\n",
       "  <th>Borough_Argüelles</th>                    <td>  124.3373</td> <td>  198.868</td> <td>    0.625</td> <td> 0.532</td> <td> -265.492</td> <td>  514.166</td>\n",
       "</tr>\n",
       "<tr>\n",
       "  <th>Borough_Atalaya</th>                      <td> -125.7552</td> <td>  127.819</td> <td>   -0.984</td> <td> 0.325</td> <td> -376.312</td> <td>  124.802</td>\n",
       "</tr>\n",
       "<tr>\n",
       "  <th>Borough_Bellas Vistas</th>                <td>   32.9317</td> <td>  237.975</td> <td>    0.138</td> <td> 0.890</td> <td> -433.556</td> <td>  499.419</td>\n",
       "</tr>\n",
       "<tr>\n",
       "  <th>Borough_Berruguete</th>                   <td>  -59.2503</td> <td>  239.393</td> <td>   -0.248</td> <td> 0.805</td> <td> -528.518</td> <td>  410.018</td>\n",
       "</tr>\n",
       "<tr>\n",
       "  <th>Borough_Buenavista</th>                   <td>   27.9834</td> <td>  130.873</td> <td>    0.214</td> <td> 0.831</td> <td> -228.559</td> <td>  284.526</td>\n",
       "</tr>\n",
       "<tr>\n",
       "  <th>Borough_Butarque</th>                     <td> -178.5218</td> <td>  226.949</td> <td>   -0.787</td> <td> 0.432</td> <td> -623.397</td> <td>  266.353</td>\n",
       "</tr>\n",
       "<tr>\n",
       "  <th>Borough_Campamento</th>                   <td> -151.7226</td> <td>  174.786</td> <td>   -0.868</td> <td> 0.385</td> <td> -494.345</td> <td>  190.900</td>\n",
       "</tr>\n",
       "<tr>\n",
       "  <th>Borough_Canillas</th>                     <td>  -16.5578</td> <td>  188.315</td> <td>   -0.088</td> <td> 0.930</td> <td> -385.701</td> <td>  352.585</td>\n",
       "</tr>\n",
       "<tr>\n",
       "  <th>Borough_Canillejas</th>                   <td>  -23.7957</td> <td>  109.522</td> <td>   -0.217</td> <td> 0.828</td> <td> -238.485</td> <td>  190.893</td>\n",
       "</tr>\n",
       "<tr>\n",
       "  <th>Borough_Casa de Campo</th>                <td>  -69.8337</td> <td>  206.729</td> <td>   -0.338</td> <td> 0.736</td> <td> -475.073</td> <td>  335.405</td>\n",
       "</tr>\n",
       "<tr>\n",
       "  <th>Borough_Casco Histórico de Barajas</th>   <td>  -68.9032</td> <td>  336.693</td> <td>   -0.205</td> <td> 0.838</td> <td> -728.902</td> <td>  591.096</td>\n",
       "</tr>\n",
       "<tr>\n",
       "  <th>Borough_Casco Histórico de Vallecas</th>  <td> -287.6778</td> <td>  346.147</td> <td>   -0.831</td> <td> 0.406</td> <td> -966.209</td> <td>  390.853</td>\n",
       "</tr>\n",
       "<tr>\n",
       "  <th>Borough_Casco Histórico de Vicálvaro</th> <td>  530.2565</td> <td>  186.584</td> <td>    2.842</td> <td> 0.004</td> <td>  164.508</td> <td>  896.005</td>\n",
       "</tr>\n",
       "<tr>\n",
       "  <th>Borough_Castellana</th>                   <td>  398.8110</td> <td>  143.635</td> <td>    2.777</td> <td> 0.006</td> <td>  117.251</td> <td>  680.371</td>\n",
       "</tr>\n",
       "<tr>\n",
       "  <th>Borough_Castilla</th>                     <td>   43.6053</td> <td>  214.243</td> <td>    0.204</td> <td> 0.839</td> <td> -376.363</td> <td>  463.574</td>\n",
       "</tr>\n",
       "<tr>\n",
       "  <th>Borough_Castillejos</th>                  <td>  174.9135</td> <td>  237.183</td> <td>    0.737</td> <td> 0.461</td> <td> -290.022</td> <td>  639.849</td>\n",
       "</tr>\n",
       "<tr>\n",
       "  <th>Borough_Chopera</th>                      <td> -126.3530</td> <td>  106.128</td> <td>   -1.191</td> <td> 0.234</td> <td> -334.390</td> <td>   81.684</td>\n",
       "</tr>\n",
       "<tr>\n",
       "  <th>Borough_Ciudad Jardín</th>                <td>  169.8786</td> <td>  215.091</td> <td>    0.790</td> <td> 0.430</td> <td> -251.752</td> <td>  591.509</td>\n",
       "</tr>\n",
       "<tr>\n",
       "  <th>Borough_Ciudad Universitaria</th>         <td>  -46.7489</td> <td>  202.443</td> <td>   -0.231</td> <td> 0.817</td> <td> -443.586</td> <td>  350.088</td>\n",
       "</tr>\n",
       "<tr>\n",
       "  <th>Borough_Colina</th>                       <td>   86.5661</td> <td>  116.158</td> <td>    0.745</td> <td> 0.456</td> <td> -141.132</td> <td>  314.264</td>\n",
       "</tr>\n",
       "<tr>\n",
       "  <th>Borough_Comillas</th>                     <td>  154.9085</td> <td>  134.610</td> <td>    1.151</td> <td> 0.250</td> <td> -108.960</td> <td>  418.777</td>\n",
       "</tr>\n",
       "<tr>\n",
       "  <th>Borough_Concepción</th>                   <td>  -74.4339</td> <td>   96.359</td> <td>   -0.772</td> <td> 0.440</td> <td> -263.320</td> <td>  114.452</td>\n",
       "</tr>\n",
       "<tr>\n",
       "  <th>Borough_Corralejos</th>                   <td>  -73.6214</td> <td>  340.010</td> <td>   -0.217</td> <td> 0.829</td> <td> -740.123</td> <td>  592.880</td>\n",
       "</tr>\n",
       "<tr>\n",
       "  <th>Borough_Cortes</th>                       <td>  136.0187</td> <td>   67.468</td> <td>    2.016</td> <td> 0.044</td> <td>    3.765</td> <td>  268.273</td>\n",
       "</tr>\n",
       "<tr>\n",
       "  <th>Borough_Costillares</th>                  <td>  -53.3935</td> <td>  107.573</td> <td>   -0.496</td> <td> 0.620</td> <td> -264.262</td> <td>  157.475</td>\n",
       "</tr>\n",
       "<tr>\n",
       "  <th>Borough_Cuatro Caminos</th>               <td>  120.6976</td> <td>  234.134</td> <td>    0.516</td> <td> 0.606</td> <td> -338.262</td> <td>  579.657</td>\n",
       "</tr>\n",
       "<tr>\n",
       "  <th>Borough_Cuatro Vientos</th>               <td>  -79.8516</td> <td>  183.369</td> <td>   -0.435</td> <td> 0.663</td> <td> -439.299</td> <td>  279.596</td>\n",
       "</tr>\n",
       "<tr>\n",
       "  <th>Borough_Cármenes</th>                     <td> -164.7791</td> <td>  171.724</td> <td>   -0.960</td> <td> 0.337</td> <td> -501.400</td> <td>  171.842</td>\n",
       "</tr>\n",
       "<tr>\n",
       "  <th>Borough_Delicias</th>                     <td> -134.2224</td> <td>   98.208</td> <td>   -1.367</td> <td> 0.172</td> <td> -326.733</td> <td>   58.288</td>\n",
       "</tr>\n",
       "<tr>\n",
       "  <th>Borough_El Cañaveral</th>                 <td>  103.2608</td> <td>  200.141</td> <td>    0.516</td> <td> 0.606</td> <td> -289.063</td> <td>  495.584</td>\n",
       "</tr>\n",
       "<tr>\n",
       "  <th>Borough_El Goloso</th>                    <td>  -81.6952</td> <td>   98.299</td> <td>   -0.831</td> <td> 0.406</td> <td> -274.386</td> <td>  110.995</td>\n",
       "</tr>\n",
       "<tr>\n",
       "  <th>Borough_El Pardo</th>                     <td>  130.7553</td> <td>  207.484</td> <td>    0.630</td> <td> 0.529</td> <td> -275.963</td> <td>  537.474</td>\n",
       "</tr>\n",
       "<tr>\n",
       "  <th>Borough_El Plantío</th>                   <td>  -32.8883</td> <td>  233.073</td> <td>   -0.141</td> <td> 0.888</td> <td> -489.766</td> <td>  423.990</td>\n",
       "</tr>\n",
       "<tr>\n",
       "  <th>Borough_El Viso</th>                      <td>  377.3554</td> <td>  214.783</td> <td>    1.757</td> <td> 0.079</td> <td>  -43.671</td> <td>  798.382</td>\n",
       "</tr>\n",
       "<tr>\n",
       "  <th>Borough_Embajadores</th>                  <td>  -99.5542</td> <td>   65.639</td> <td>   -1.517</td> <td> 0.129</td> <td> -228.222</td> <td>   29.113</td>\n",
       "</tr>\n",
       "<tr>\n",
       "  <th>Borough_Ensanche de Vallecas</th>         <td> -270.2044</td> <td>  339.811</td> <td>   -0.795</td> <td> 0.427</td> <td> -936.316</td> <td>  395.907</td>\n",
       "</tr>\n",
       "<tr>\n",
       "  <th>Borough_Entrevías</th>                    <td>   20.6573</td> <td>  231.868</td> <td>    0.089</td> <td> 0.929</td> <td> -433.860</td> <td>  475.175</td>\n",
       "</tr>\n",
       "<tr>\n",
       "  <th>Borough_Estrella</th>                     <td> -183.6241</td> <td>  151.453</td> <td>   -1.212</td> <td> 0.225</td> <td> -480.509</td> <td>  113.261</td>\n",
       "</tr>\n",
       "<tr>\n",
       "  <th>Borough_Fontarrón</th>                    <td> -103.2037</td> <td>  219.742</td> <td>   -0.470</td> <td> 0.639</td> <td> -533.951</td> <td>  327.543</td>\n",
       "</tr>\n",
       "<tr>\n",
       "  <th>Borough_Fuente del Berro</th>             <td>  -48.8606</td> <td>  145.206</td> <td>   -0.336</td> <td> 0.737</td> <td> -333.499</td> <td>  235.778</td>\n",
       "</tr>\n",
       "<tr>\n",
       "  <th>Borough_Fuentelareina</th>                <td> -277.1384</td> <td>  342.215</td> <td>   -0.810</td> <td> 0.418</td> <td> -947.961</td> <td>  393.684</td>\n",
       "</tr>\n",
       "<tr>\n",
       "  <th>Borough_Gaztambide</th>                   <td>   48.6090</td> <td>  337.496</td> <td>    0.144</td> <td> 0.885</td> <td> -612.964</td> <td>  710.182</td>\n",
       "</tr>\n",
       "<tr>\n",
       "  <th>Borough_Goya</th>                         <td>  196.7695</td> <td>  142.737</td> <td>    1.379</td> <td> 0.168</td> <td>  -83.029</td> <td>  476.568</td>\n",
       "</tr>\n",
       "<tr>\n",
       "  <th>Borough_Guindalera</th>                   <td>  -54.6022</td> <td>  143.552</td> <td>   -0.380</td> <td> 0.704</td> <td> -335.998</td> <td>  226.794</td>\n",
       "</tr>\n",
       "<tr>\n",
       "  <th>Borough_Hellín</th>                       <td>    3.6411</td> <td>  134.642</td> <td>    0.027</td> <td> 0.978</td> <td> -260.290</td> <td>  267.572</td>\n",
       "</tr>\n",
       "<tr>\n",
       "  <th>Borough_Hispanoamérica</th>               <td>  266.5366</td> <td>  213.534</td> <td>    1.248</td> <td> 0.212</td> <td> -152.042</td> <td>  685.115</td>\n",
       "</tr>\n",
       "<tr>\n",
       "  <th>Borough_Horcajo</th>                      <td> -178.7177</td> <td>  219.769</td> <td>   -0.813</td> <td> 0.416</td> <td> -609.518</td> <td>  252.083</td>\n",
       "</tr>\n",
       "<tr>\n",
       "  <th>Borough_Ibiza</th>                        <td>  126.8215</td> <td>  156.607</td> <td>    0.810</td> <td> 0.418</td> <td> -180.166</td> <td>  433.809</td>\n",
       "</tr>\n",
       "<tr>\n",
       "  <th>Borough_Imperial</th>                     <td>  -96.6361</td> <td>  100.384</td> <td>   -0.963</td> <td> 0.336</td> <td> -293.413</td> <td>  100.140</td>\n",
       "</tr>\n",
       "<tr>\n",
       "  <th>Borough_Jerónimos</th>                    <td>  369.5684</td> <td>  160.552</td> <td>    2.302</td> <td> 0.021</td> <td>   54.847</td> <td>  684.290</td>\n",
       "</tr>\n",
       "<tr>\n",
       "  <th>Borough_Justicia</th>                     <td>  190.4991</td> <td>   66.395</td> <td>    2.869</td> <td> 0.004</td> <td>   60.350</td> <td>  320.648</td>\n",
       "</tr>\n",
       "<tr>\n",
       "  <th>Borough_La Paz</th>                       <td>   10.3141</td> <td>   86.950</td> <td>    0.119</td> <td> 0.906</td> <td> -160.129</td> <td>  180.757</td>\n",
       "</tr>\n",
       "<tr>\n",
       "  <th>Borough_Legazpi</th>                      <td> -153.6229</td> <td>  112.484</td> <td>   -1.366</td> <td> 0.172</td> <td> -374.119</td> <td>   66.873</td>\n",
       "</tr>\n",
       "<tr>\n",
       "  <th>Borough_Lista</th>                        <td>  209.4498</td> <td>  143.315</td> <td>    1.461</td> <td> 0.144</td> <td>  -71.482</td> <td>  490.381</td>\n",
       "</tr>\n",
       "<tr>\n",
       "  <th>Borough_Los Rosales</th>                  <td> -274.4985</td> <td>  231.617</td> <td>   -1.185</td> <td> 0.236</td> <td> -728.523</td> <td>  179.526</td>\n",
       "</tr>\n",
       "<tr>\n",
       "  <th>Borough_Los Ángeles</th>                  <td> -279.5093</td> <td>  231.071</td> <td>   -1.210</td> <td> 0.226</td> <td> -732.464</td> <td>  173.445</td>\n",
       "</tr>\n",
       "<tr>\n",
       "  <th>Borough_Lucero</th>                       <td> -130.4671</td> <td>  164.226</td> <td>   -0.794</td> <td> 0.427</td> <td> -452.389</td> <td>  191.455</td>\n",
       "</tr>\n",
       "<tr>\n",
       "  <th>Borough_Marroquina</th>                   <td>  -75.8430</td> <td>  189.615</td> <td>   -0.400</td> <td> 0.689</td> <td> -447.534</td> <td>  295.848</td>\n",
       "</tr>\n",
       "<tr>\n",
       "  <th>Borough_Media Legua</th>                  <td>  -22.0314</td> <td>  189.442</td> <td>   -0.116</td> <td> 0.907</td> <td> -393.383</td> <td>  349.320</td>\n",
       "</tr>\n",
       "<tr>\n",
       "  <th>Borough_Mirasierra</th>                   <td>  -69.3540</td> <td>  102.873</td> <td>   -0.674</td> <td> 0.500</td> <td> -271.009</td> <td>  132.301</td>\n",
       "</tr>\n",
       "<tr>\n",
       "  <th>Borough_Moscardó</th>                     <td>   36.5171</td> <td>  342.223</td> <td>    0.107</td> <td> 0.915</td> <td> -634.321</td> <td>  707.356</td>\n",
       "</tr>\n",
       "<tr>\n",
       "  <th>Borough_Niño Jesús</th>                   <td>  158.7057</td> <td>  161.237</td> <td>    0.984</td> <td> 0.325</td> <td> -157.357</td> <td>  474.768</td>\n",
       "</tr>\n",
       "<tr>\n",
       "  <th>Borough_Nueva España</th>                 <td>  286.6043</td> <td>  214.659</td> <td>    1.335</td> <td> 0.182</td> <td> -134.178</td> <td>  707.387</td>\n",
       "</tr>\n",
       "<tr>\n",
       "  <th>Borough_Numancia</th>                     <td>   65.8860</td> <td>  141.052</td> <td>    0.467</td> <td> 0.640</td> <td> -210.609</td> <td>  342.381</td>\n",
       "</tr>\n",
       "<tr>\n",
       "  <th>Borough_Opañel</th>                       <td>  127.7709</td> <td>  132.794</td> <td>    0.962</td> <td> 0.336</td> <td> -132.537</td> <td>  388.079</td>\n",
       "</tr>\n",
       "<tr>\n",
       "  <th>Borough_Orcasitas</th>                    <td> -156.2314</td> <td>  355.664</td> <td>   -0.439</td> <td> 0.660</td> <td> -853.418</td> <td>  540.955</td>\n",
       "</tr>\n",
       "<tr>\n",
       "  <th>Borough_Orcasur</th>                      <td>   19.4060</td> <td>  353.549</td> <td>    0.055</td> <td> 0.956</td> <td> -673.635</td> <td>  712.447</td>\n",
       "</tr>\n",
       "<tr>\n",
       "  <th>Borough_Pacífico</th>                     <td> -109.7076</td> <td>  157.732</td> <td>   -0.696</td> <td> 0.487</td> <td> -418.900</td> <td>  199.485</td>\n",
       "</tr>\n",
       "<tr>\n",
       "  <th>Borough_Palacio</th>                      <td>  -11.4828</td> <td>   65.830</td> <td>   -0.174</td> <td> 0.862</td> <td> -140.525</td> <td>  117.560</td>\n",
       "</tr>\n",
       "<tr>\n",
       "  <th>Borough_Palomas</th>                      <td>  104.9253</td> <td>  203.901</td> <td>    0.515</td> <td> 0.607</td> <td> -294.770</td> <td>  504.621</td>\n",
       "</tr>\n",
       "<tr>\n",
       "  <th>Borough_Palomeras Bajas</th>              <td>  197.2879</td> <td>  149.079</td> <td>    1.323</td> <td> 0.186</td> <td>  -94.942</td> <td>  489.518</td>\n",
       "</tr>\n",
       "<tr>\n",
       "  <th>Borough_Palomeras Sureste</th>            <td>  145.8921</td> <td>  156.066</td> <td>    0.935</td> <td> 0.350</td> <td> -160.035</td> <td>  451.820</td>\n",
       "</tr>\n",
       "<tr>\n",
       "  <th>Borough_Palos de Moguer</th>              <td>   18.1430</td> <td>   99.281</td> <td>    0.183</td> <td> 0.855</td> <td> -176.472</td> <td>  212.758</td>\n",
       "</tr>\n",
       "<tr>\n",
       "  <th>Borough_Pavones</th>                      <td>  -70.7200</td> <td>  258.255</td> <td>   -0.274</td> <td> 0.784</td> <td> -576.963</td> <td>  435.523</td>\n",
       "</tr>\n",
       "<tr>\n",
       "  <th>Borough_Peñagrande</th>                   <td>  -88.1162</td> <td>   87.663</td> <td>   -1.005</td> <td> 0.315</td> <td> -259.957</td> <td>   83.725</td>\n",
       "</tr>\n",
       "<tr>\n",
       "  <th>Borough_Pilar</th>                        <td>   46.0981</td> <td>   81.555</td> <td>    0.565</td> <td> 0.572</td> <td> -113.769</td> <td>  205.965</td>\n",
       "</tr>\n",
       "<tr>\n",
       "  <th>Borough_Pinar del Rey</th>                <td> -166.2606</td> <td>  194.576</td> <td>   -0.854</td> <td> 0.393</td> <td> -547.677</td> <td>  215.156</td>\n",
       "</tr>\n",
       "<tr>\n",
       "  <th>Borough_Piovera</th>                      <td>  -16.4894</td> <td>  195.442</td> <td>   -0.084</td> <td> 0.933</td> <td> -399.603</td> <td>  366.624</td>\n",
       "</tr>\n",
       "<tr>\n",
       "  <th>Borough_Portazgo</th>                     <td>  292.3579</td> <td>  159.516</td> <td>    1.833</td> <td> 0.067</td> <td>  -20.331</td> <td>  605.047</td>\n",
       "</tr>\n",
       "<tr>\n",
       "  <th>Borough_Pradolongo</th>                   <td>  -39.7916</td> <td>  343.138</td> <td>   -0.116</td> <td> 0.908</td> <td> -712.425</td> <td>  632.842</td>\n",
       "</tr>\n",
       "<tr>\n",
       "  <th>Borough_Prosperidad</th>                  <td>   89.2799</td> <td>  213.233</td> <td>    0.419</td> <td> 0.675</td> <td> -328.707</td> <td>  507.267</td>\n",
       "</tr>\n",
       "<tr>\n",
       "  <th>Borough_Pueblo Nuevo</th>                 <td> -171.7355</td> <td>  101.471</td> <td>   -1.692</td> <td> 0.091</td> <td> -370.643</td> <td>   27.172</td>\n",
       "</tr>\n",
       "<tr>\n",
       "  <th>Borough_Puerta Bonita</th>                <td> -152.8451</td> <td>  139.121</td> <td>   -1.099</td> <td> 0.272</td> <td> -425.555</td> <td>  119.865</td>\n",
       "</tr>\n",
       "<tr>\n",
       "  <th>Borough_Puerta del Ángel</th>             <td>  -82.1344</td> <td>  160.806</td> <td>   -0.511</td> <td> 0.610</td> <td> -397.352</td> <td>  233.083</td>\n",
       "</tr>\n",
       "<tr>\n",
       "  <th>Borough_Quintana</th>                     <td>  -55.4772</td> <td>  106.992</td> <td>   -0.519</td> <td> 0.604</td> <td> -265.206</td> <td>  154.252</td>\n",
       "</tr>\n",
       "<tr>\n",
       "  <th>Borough_Recoletos</th>                    <td>  495.0461</td> <td>  143.469</td> <td>    3.451</td> <td> 0.001</td> <td>  213.813</td> <td>  776.279</td>\n",
       "</tr>\n",
       "<tr>\n",
       "  <th>Borough_Rejas</th>                        <td>  -18.5736</td> <td>  101.981</td> <td>   -0.182</td> <td> 0.855</td> <td> -218.481</td> <td>  181.334</td>\n",
       "</tr>\n",
       "<tr>\n",
       "  <th>Borough_Rosas</th>                        <td> -144.6893</td> <td>  107.579</td> <td>   -1.345</td> <td> 0.179</td> <td> -355.570</td> <td>   66.192</td>\n",
       "</tr>\n",
       "<tr>\n",
       "  <th>Borough_Ríos Rosas</th>                   <td>   59.0629</td> <td>  337.364</td> <td>    0.175</td> <td> 0.861</td> <td> -602.251</td> <td>  720.376</td>\n",
       "</tr>\n",
       "<tr>\n",
       "  <th>Borough_Salvador</th>                     <td>  156.5842</td> <td>  112.128</td> <td>    1.396</td> <td> 0.163</td> <td>  -63.213</td> <td>  376.381</td>\n",
       "</tr>\n",
       "<tr>\n",
       "  <th>Borough_San Cristobal</th>                <td>  -65.3139</td> <td>  261.109</td> <td>   -0.250</td> <td> 0.802</td> <td> -577.150</td> <td>  446.522</td>\n",
       "</tr>\n",
       "<tr>\n",
       "  <th>Borough_San Diego</th>                    <td>  269.3874</td> <td>  140.695</td> <td>    1.915</td> <td> 0.056</td> <td>   -6.408</td> <td>  545.183</td>\n",
       "</tr>\n",
       "<tr>\n",
       "  <th>Borough_San Fermín</th>                   <td>  -39.6214</td> <td>  350.579</td> <td>   -0.113</td> <td> 0.910</td> <td> -726.840</td> <td>  647.598</td>\n",
       "</tr>\n",
       "<tr>\n",
       "  <th>Borough_San Isidro</th>                   <td>   28.6988</td> <td>  134.082</td> <td>    0.214</td> <td> 0.831</td> <td> -234.134</td> <td>  291.531</td>\n",
       "</tr>\n",
       "<tr>\n",
       "  <th>Borough_San Juan Bautista</th>            <td> -166.3392</td> <td>  108.196</td> <td>   -1.537</td> <td> 0.124</td> <td> -378.430</td> <td>   45.752</td>\n",
       "</tr>\n",
       "<tr>\n",
       "  <th>Borough_San Pascual</th>                  <td>  -25.1070</td> <td>  109.249</td> <td>   -0.230</td> <td> 0.818</td> <td> -239.262</td> <td>  189.048</td>\n",
       "</tr>\n",
       "<tr>\n",
       "  <th>Borough_Santa Eugenia</th>                <td> -533.8400</td> <td>  361.043</td> <td>   -1.479</td> <td> 0.139</td> <td>-1241.571</td> <td>  173.891</td>\n",
       "</tr>\n",
       "<tr>\n",
       "  <th>Borough_Simancas</th>                     <td>   32.1578</td> <td>  101.300</td> <td>    0.317</td> <td> 0.751</td> <td> -166.415</td> <td>  230.731</td>\n",
       "</tr>\n",
       "<tr>\n",
       "  <th>Borough_Sol</th>                          <td>   28.1809</td> <td>   66.533</td> <td>    0.424</td> <td> 0.672</td> <td> -102.239</td> <td>  158.601</td>\n",
       "</tr>\n",
       "<tr>\n",
       "  <th>Borough_Timón</th>                        <td>  -84.9711</td> <td>  339.156</td> <td>   -0.251</td> <td> 0.802</td> <td> -749.798</td> <td>  579.856</td>\n",
       "</tr>\n",
       "<tr>\n",
       "  <th>Borough_Trafalgar</th>                    <td>  120.8063</td> <td>  337.460</td> <td>    0.358</td> <td> 0.720</td> <td> -540.697</td> <td>  782.309</td>\n",
       "</tr>\n",
       "<tr>\n",
       "  <th>Borough_Universidad</th>                  <td>  -11.3476</td> <td>   65.466</td> <td>   -0.173</td> <td> 0.862</td> <td> -139.676</td> <td>  116.981</td>\n",
       "</tr>\n",
       "<tr>\n",
       "  <th>Borough_Valdeacederas</th>                <td>  -16.2366</td> <td>  239.244</td> <td>   -0.068</td> <td> 0.946</td> <td> -485.212</td> <td>  452.739</td>\n",
       "</tr>\n",
       "<tr>\n",
       "  <th>Borough_Valdefuentes</th>                 <td> -125.7260</td> <td>  192.220</td> <td>   -0.654</td> <td> 0.513</td> <td> -502.523</td> <td>  251.071</td>\n",
       "</tr>\n",
       "<tr>\n",
       "  <th>Borough_Valdemarín</th>                   <td>  -14.2909</td> <td>  211.650</td> <td>   -0.068</td> <td> 0.946</td> <td> -429.176</td> <td>  400.594</td>\n",
       "</tr>\n",
       "<tr>\n",
       "  <th>Borough_Valderrivas</th>                  <td>  344.9182</td> <td>  162.630</td> <td>    2.121</td> <td> 0.034</td> <td>   26.124</td> <td>  663.712</td>\n",
       "</tr>\n",
       "<tr>\n",
       "  <th>Borough_Valdezarza</th>                   <td> -125.1795</td> <td>  203.249</td> <td>   -0.616</td> <td> 0.538</td> <td> -523.596</td> <td>  273.237</td>\n",
       "</tr>\n",
       "<tr>\n",
       "  <th>Borough_Vallehermoso</th>                 <td>   80.7328</td> <td>  338.046</td> <td>    0.239</td> <td> 0.811</td> <td> -581.917</td> <td>  743.383</td>\n",
       "</tr>\n",
       "<tr>\n",
       "  <th>Borough_Valverde</th>                     <td>  -47.4511</td> <td>   76.948</td> <td>   -0.617</td> <td> 0.537</td> <td> -198.287</td> <td>  103.385</td>\n",
       "</tr>\n",
       "<tr>\n",
       "  <th>Borough_Ventas</th>                       <td> -169.2234</td> <td>  102.402</td> <td>   -1.653</td> <td> 0.098</td> <td> -369.956</td> <td>   31.509</td>\n",
       "</tr>\n",
       "<tr>\n",
       "  <th>Borough_Villaverde Alto</th>              <td> -100.4132</td> <td>  225.058</td> <td>   -0.446</td> <td> 0.655</td> <td> -541.581</td> <td>  340.754</td>\n",
       "</tr>\n",
       "<tr>\n",
       "  <th>Borough_Vinateros</th>                    <td>   51.6788</td> <td>  191.448</td> <td>    0.270</td> <td> 0.787</td> <td> -323.605</td> <td>  426.963</td>\n",
       "</tr>\n",
       "<tr>\n",
       "  <th>Borough_Vista Alegre</th>                 <td>   56.0750</td> <td>  133.821</td> <td>    0.419</td> <td> 0.675</td> <td> -206.246</td> <td>  318.396</td>\n",
       "</tr>\n",
       "<tr>\n",
       "  <th>Borough_Zofío</th>                        <td>   84.4920</td> <td>  350.200</td> <td>    0.241</td> <td> 0.809</td> <td> -601.984</td> <td>  770.968</td>\n",
       "</tr>\n",
       "<tr>\n",
       "  <th>Borough_Águilas</th>                      <td> -191.6222</td> <td>  183.561</td> <td>   -1.044</td> <td> 0.297</td> <td> -551.446</td> <td>  168.202</td>\n",
       "</tr>\n",
       "<tr>\n",
       "  <th>District_Arganzuela</th>                  <td>  198.4091</td> <td>   91.688</td> <td>    2.164</td> <td> 0.030</td> <td>   18.679</td> <td>  378.139</td>\n",
       "</tr>\n",
       "<tr>\n",
       "  <th>District_Barajas</th>                     <td>  -45.3373</td> <td>  328.976</td> <td>   -0.138</td> <td> 0.890</td> <td> -690.210</td> <td>  599.535</td>\n",
       "</tr>\n",
       "<tr>\n",
       "  <th>District_Carabanchel</th>                 <td> -146.6163</td> <td>  123.470</td> <td>   -1.187</td> <td> 0.235</td> <td> -388.647</td> <td>   95.415</td>\n",
       "</tr>\n",
       "<tr>\n",
       "  <th>District_Centro</th>                      <td>  295.9904</td> <td>   64.210</td> <td>    4.610</td> <td> 0.000</td> <td>  170.123</td> <td>  421.858</td>\n",
       "</tr>\n",
       "<tr>\n",
       "  <th>District_Chamartín</th>                   <td>   80.7888</td> <td>  211.518</td> <td>    0.382</td> <td> 0.703</td> <td> -333.836</td> <td>  495.414</td>\n",
       "</tr>\n",
       "<tr>\n",
       "  <th>District_Chamberí</th>                    <td>  248.5564</td> <td>  336.667</td> <td>    0.738</td> <td> 0.460</td> <td> -411.392</td> <td>  908.505</td>\n",
       "</tr>\n",
       "<tr>\n",
       "  <th>District_Ciudad Lineal</th>               <td>  130.7363</td> <td>   96.375</td> <td>    1.357</td> <td> 0.175</td> <td>  -58.182</td> <td>  319.655</td>\n",
       "</tr>\n",
       "<tr>\n",
       "  <th>District_Fuencarral</th>                  <td>   43.4365</td> <td>   77.161</td> <td>    0.563</td> <td> 0.573</td> <td> -107.819</td> <td>  194.691</td>\n",
       "</tr>\n",
       "<tr>\n",
       "  <th>District_Hortaleza</th>                   <td>  118.8185</td> <td>  189.678</td> <td>    0.626</td> <td> 0.531</td> <td> -252.995</td> <td>  490.632</td>\n",
       "</tr>\n",
       "<tr>\n",
       "  <th>District_Latina</th>                      <td>   36.0389</td> <td>  157.724</td> <td>    0.228</td> <td> 0.819</td> <td> -273.138</td> <td>  345.215</td>\n",
       "</tr>\n",
       "<tr>\n",
       "  <th>District_Moncloa</th>                     <td>  202.5843</td> <td>  198.136</td> <td>    1.022</td> <td> 0.307</td> <td> -185.809</td> <td>  590.977</td>\n",
       "</tr>\n",
       "<tr>\n",
       "  <th>District_Moratalaz</th>                   <td> -109.9858</td> <td>  172.782</td> <td>   -0.637</td> <td> 0.524</td> <td> -448.680</td> <td>  228.708</td>\n",
       "</tr>\n",
       "<tr>\n",
       "  <th>District_Puente de Vallecas</th>          <td> -354.9977</td> <td>  130.963</td> <td>   -2.711</td> <td> 0.007</td> <td> -611.717</td> <td>  -98.279</td>\n",
       "</tr>\n",
       "<tr>\n",
       "  <th>District_Retiro</th>                      <td>  238.7365</td> <td>  151.939</td> <td>    1.571</td> <td> 0.116</td> <td>  -59.101</td> <td>  536.574</td>\n",
       "</tr>\n",
       "<tr>\n",
       "  <th>District_Salamanca</th>                   <td>  196.0743</td> <td>  141.572</td> <td>    1.385</td> <td> 0.166</td> <td>  -81.440</td> <td>  473.589</td>\n",
       "</tr>\n",
       "<tr>\n",
       "  <th>District_San Blas</th>                    <td>  -98.9301</td> <td>   95.562</td> <td>   -1.035</td> <td> 0.301</td> <td> -286.254</td> <td>   88.394</td>\n",
       "</tr>\n",
       "<tr>\n",
       "  <th>District_Tetuán</th>                      <td>   62.1082</td> <td>  235.755</td> <td>    0.263</td> <td> 0.792</td> <td> -400.029</td> <td>  524.245</td>\n",
       "</tr>\n",
       "<tr>\n",
       "  <th>District_Usera</th>                       <td> -183.2117</td> <td>  337.992</td> <td>   -0.542</td> <td> 0.588</td> <td> -845.756</td> <td>  479.333</td>\n",
       "</tr>\n",
       "<tr>\n",
       "  <th>District_Vicálvaro</th>                   <td> -660.1166</td> <td>  168.843</td> <td>   -3.910</td> <td> 0.000</td> <td> -991.089</td> <td> -329.144</td>\n",
       "</tr>\n",
       "<tr>\n",
       "  <th>District_Villa de Vallecas</th>           <td>  176.2758</td> <td>  330.807</td> <td>    0.533</td> <td> 0.594</td> <td> -472.186</td> <td>  824.738</td>\n",
       "</tr>\n",
       "<tr>\n",
       "  <th>District_Villaverde</th>                  <td>  -27.6599</td> <td>  213.925</td> <td>   -0.129</td> <td> 0.897</td> <td> -447.004</td> <td>  391.684</td>\n",
       "</tr>\n",
       "<tr>\n",
       "  <th>Energy_Consumption_A</th>                 <td>   40.6041</td> <td>   19.627</td> <td>    2.069</td> <td> 0.039</td> <td>    2.131</td> <td>   79.077</td>\n",
       "</tr>\n",
       "<tr>\n",
       "  <th>Energy_Consumption_B</th>                 <td>   47.7288</td> <td>   21.680</td> <td>    2.201</td> <td> 0.028</td> <td>    5.230</td> <td>   90.228</td>\n",
       "</tr>\n",
       "<tr>\n",
       "  <th>Energy_Consumption_C</th>                 <td>   26.5305</td> <td>   19.438</td> <td>    1.365</td> <td> 0.172</td> <td>  -11.573</td> <td>   64.634</td>\n",
       "</tr>\n",
       "<tr>\n",
       "  <th>Energy_Consumption_D</th>                 <td>   50.0485</td> <td>   16.099</td> <td>    3.109</td> <td> 0.002</td> <td>   18.491</td> <td>   81.606</td>\n",
       "</tr>\n",
       "<tr>\n",
       "  <th>Energy_Consumption_E</th>                 <td>   92.2755</td> <td>   12.811</td> <td>    7.203</td> <td> 0.000</td> <td>   67.162</td> <td>  117.389</td>\n",
       "</tr>\n",
       "<tr>\n",
       "  <th>Energy_Consumption_Exento</th>            <td>  109.8173</td> <td>   47.093</td> <td>    2.332</td> <td> 0.020</td> <td>   17.504</td> <td>  202.130</td>\n",
       "</tr>\n",
       "<tr>\n",
       "  <th>Energy_Consumption_F</th>                 <td>  -14.3556</td> <td>   22.314</td> <td>   -0.643</td> <td> 0.520</td> <td>  -58.097</td> <td>   29.386</td>\n",
       "</tr>\n",
       "<tr>\n",
       "  <th>Energy_Consumption_G</th>                 <td>   49.0494</td> <td>   10.735</td> <td>    4.569</td> <td> 0.000</td> <td>   28.006</td> <td>   70.093</td>\n",
       "</tr>\n",
       "<tr>\n",
       "  <th>Floor_+15</th>                            <td>  329.0744</td> <td>   81.188</td> <td>    4.053</td> <td> 0.000</td> <td>  169.926</td> <td>  488.223</td>\n",
       "</tr>\n",
       "<tr>\n",
       "  <th>Floor_1</th>                              <td>  -80.7706</td> <td>   14.913</td> <td>   -5.416</td> <td> 0.000</td> <td> -110.004</td> <td>  -51.538</td>\n",
       "</tr>\n",
       "<tr>\n",
       "  <th>Floor_10</th>                             <td>  -41.5443</td> <td>   66.961</td> <td>   -0.620</td> <td> 0.535</td> <td> -172.804</td> <td>   89.715</td>\n",
       "</tr>\n",
       "<tr>\n",
       "  <th>Floor_11</th>                             <td>  -22.4514</td> <td>   77.103</td> <td>   -0.291</td> <td> 0.771</td> <td> -173.592</td> <td>  128.689</td>\n",
       "</tr>\n",
       "<tr>\n",
       "  <th>Floor_12</th>                             <td>  -71.0998</td> <td>   76.906</td> <td>   -0.924</td> <td> 0.355</td> <td> -221.855</td> <td>   79.655</td>\n",
       "</tr>\n",
       "<tr>\n",
       "  <th>Floor_13</th>                             <td> -225.8343</td> <td>   97.824</td> <td>   -2.309</td> <td> 0.021</td> <td> -417.593</td> <td>  -34.076</td>\n",
       "</tr>\n",
       "<tr>\n",
       "  <th>Floor_14</th>                             <td>  -40.7234</td> <td>  114.624</td> <td>   -0.355</td> <td> 0.722</td> <td> -265.414</td> <td>  183.967</td>\n",
       "</tr>\n",
       "<tr>\n",
       "  <th>Floor_15</th>                             <td>  388.6413</td> <td>  131.894</td> <td>    2.947</td> <td> 0.003</td> <td>  130.097</td> <td>  647.186</td>\n",
       "</tr>\n",
       "<tr>\n",
       "  <th>Floor_2</th>                              <td>  -68.9575</td> <td>   15.113</td> <td>   -4.563</td> <td> 0.000</td> <td>  -98.583</td> <td>  -39.332</td>\n",
       "</tr>\n",
       "<tr>\n",
       "  <th>Floor_3</th>                              <td>  -79.3745</td> <td>   15.652</td> <td>   -5.071</td> <td> 0.000</td> <td> -110.056</td> <td>  -48.693</td>\n",
       "</tr>\n",
       "<tr>\n",
       "  <th>Floor_4</th>                              <td>  -74.7949</td> <td>   16.502</td> <td>   -4.533</td> <td> 0.000</td> <td> -107.142</td> <td>  -42.448</td>\n",
       "</tr>\n",
       "<tr>\n",
       "  <th>Floor_5</th>                              <td>  -82.4645</td> <td>   18.054</td> <td>   -4.568</td> <td> 0.000</td> <td> -117.855</td> <td>  -47.074</td>\n",
       "</tr>\n",
       "<tr>\n",
       "  <th>Floor_6</th>                              <td>  -87.0178</td> <td>   21.345</td> <td>   -4.077</td> <td> 0.000</td> <td> -128.859</td> <td>  -45.177</td>\n",
       "</tr>\n",
       "<tr>\n",
       "  <th>Floor_7</th>                              <td>  -66.3711</td> <td>   26.333</td> <td>   -2.520</td> <td> 0.012</td> <td> -117.990</td> <td>  -14.752</td>\n",
       "</tr>\n",
       "<tr>\n",
       "  <th>Floor_8</th>                              <td>   77.0695</td> <td>   38.731</td> <td>    1.990</td> <td> 0.047</td> <td>    1.147</td> <td>  152.992</td>\n",
       "</tr>\n",
       "<tr>\n",
       "  <th>Floor_9</th>                              <td>  -95.3764</td> <td>   54.551</td> <td>   -1.748</td> <td> 0.080</td> <td> -202.310</td> <td>   11.557</td>\n",
       "</tr>\n",
       "<tr>\n",
       "  <th>Floor_Bajos</th>                          <td>    2.4148</td> <td>   19.335</td> <td>    0.125</td> <td> 0.901</td> <td>  -35.487</td> <td>   40.317</td>\n",
       "</tr>\n",
       "<tr>\n",
       "  <th>Floor_Entresuelo</th>                     <td>  108.9029</td> <td>   39.908</td> <td>    2.729</td> <td> 0.006</td> <td>   30.675</td> <td>  187.131</td>\n",
       "</tr>\n",
       "<tr>\n",
       "  <th>Floor_Principal</th>                      <td>  164.4833</td> <td>   50.494</td> <td>    3.257</td> <td> 0.001</td> <td>   65.503</td> <td>  263.464</td>\n",
       "</tr>\n",
       "<tr>\n",
       "  <th>Floor_Sótano</th>                         <td>  367.8931</td> <td>   27.737</td> <td>   13.264</td> <td> 0.000</td> <td>  313.522</td> <td>  422.264</td>\n",
       "</tr>\n",
       "<tr>\n",
       "  <th>Type_Apartamento</th>                     <td>  156.6338</td> <td>   15.664</td> <td>   10.000</td> <td> 0.000</td> <td>  125.929</td> <td>  187.339</td>\n",
       "</tr>\n",
       "<tr>\n",
       "  <th>Type_Casa adosada</th>                    <td>  -13.7320</td> <td>   58.764</td> <td>   -0.234</td> <td> 0.815</td> <td> -128.923</td> <td>  101.459</td>\n",
       "</tr>\n",
       "<tr>\n",
       "  <th>Type_Casa o chalet</th>                   <td>  -34.0633</td> <td>   54.512</td> <td>   -0.625</td> <td> 0.532</td> <td> -140.920</td> <td>   72.793</td>\n",
       "</tr>\n",
       "<tr>\n",
       "  <th>Type_Dúplex</th>                          <td>  -31.3964</td> <td>   27.668</td> <td>   -1.135</td> <td> 0.257</td> <td>  -85.632</td> <td>   22.839</td>\n",
       "</tr>\n",
       "<tr>\n",
       "  <th>Type_Estudio</th>                         <td>  -77.4268</td> <td>   20.398</td> <td>   -3.796</td> <td> 0.000</td> <td> -117.412</td> <td>  -37.442</td>\n",
       "</tr>\n",
       "<tr>\n",
       "  <th>Type_Loft</th>                            <td>   16.6948</td> <td>   35.296</td> <td>    0.473</td> <td> 0.636</td> <td>  -52.494</td> <td>   85.884</td>\n",
       "</tr>\n",
       "<tr>\n",
       "  <th>Type_Piso</th>                            <td>   63.7651</td> <td>   12.939</td> <td>    4.928</td> <td> 0.000</td> <td>   38.402</td> <td>   89.128</td>\n",
       "</tr>\n",
       "<tr>\n",
       "  <th>Type_Planta baja</th>                     <td>   30.8535</td> <td>   53.709</td> <td>    0.574</td> <td> 0.566</td> <td>  -74.428</td> <td>  136.135</td>\n",
       "</tr>\n",
       "<tr>\n",
       "  <th>Type_Ático</th>                           <td>  290.3698</td> <td>   21.151</td> <td>   13.729</td> <td> 0.000</td> <td>  248.909</td> <td>  331.830</td>\n",
       "</tr>\n",
       "</table>\n",
       "<table class=\"simpletable\">\n",
       "<tr>\n",
       "  <th>Omnibus:</th>       <td>3261.238</td> <th>  Durbin-Watson:     </th>  <td>   1.915</td> \n",
       "</tr>\n",
       "<tr>\n",
       "  <th>Prob(Omnibus):</th>  <td> 0.000</td>  <th>  Jarque-Bera (JB):  </th> <td>728887.321</td>\n",
       "</tr>\n",
       "<tr>\n",
       "  <th>Skew:</th>           <td>-0.574</td>  <th>  Prob(JB):          </th>  <td>    0.00</td> \n",
       "</tr>\n",
       "<tr>\n",
       "  <th>Kurtosis:</th>       <td>47.558</td>  <th>  Cond. No.          </th>  <td>1.41e+16</td> \n",
       "</tr>\n",
       "</table><br/><br/>Warnings:<br/>[1] Standard Errors assume that the covariance matrix of the errors is correctly specified.<br/>[2] The smallest eigenvalue is 4.15e-25. This might indicate that there are<br/>strong multicollinearity problems or that the design matrix is singular."
      ],
      "text/plain": [
       "<class 'statsmodels.iolib.summary.Summary'>\n",
       "\"\"\"\n",
       "                            OLS Regression Results                            \n",
       "==============================================================================\n",
       "Dep. Variable:                  Price   R-squared:                       0.725\n",
       "Model:                            OLS   Adj. R-squared:                  0.718\n",
       "Method:                 Least Squares   F-statistic:                     111.6\n",
       "Date:                Sat, 20 Feb 2021   Prob (F-statistic):               0.00\n",
       "Time:                        11:40:24   Log-Likelihood:                -63564.\n",
       "No. Observations:                8805   AIC:                         1.275e+05\n",
       "Df Residuals:                    8601   BIC:                         1.290e+05\n",
       "Df Model:                         203                                         \n",
       "Covariance Type:            nonrobust                                         \n",
       "========================================================================================================\n",
       "                                           coef    std err          t      P>|t|      [0.025      0.975]\n",
       "--------------------------------------------------------------------------------------------------------\n",
       "Air_Conditioner                        133.2258      8.281     16.087      0.000     116.992     149.459\n",
       "Bathrooms                              257.7070      8.211     31.385      0.000     241.611     273.803\n",
       "Community_Zone                         -55.9598     15.488     -3.613      0.000     -86.319     -25.600\n",
       "Concierge                               -3.9868      9.131     -0.437      0.662     -21.886      13.913\n",
       "Elevator                               -34.2014     10.053     -3.402      0.001     -53.907     -14.496\n",
       "Ensuite                                125.3403     11.420     10.975      0.000     102.954     147.726\n",
       "Equipped_Kitchen                       -19.2236     11.187     -1.718      0.086     -41.154       2.707\n",
       "Furnished                              -27.0442      7.813     -3.461      0.001     -42.359     -11.729\n",
       "Garden                                   0.0046     18.452      0.000      1.000     -36.166      36.175\n",
       "Rooms                                   88.0215      5.475     16.076      0.000      77.289      98.754\n",
       "Size                                     4.0839      0.109     37.618      0.000       3.871       4.297\n",
       "Swimming_Pool                           80.5210     17.149      4.695      0.000      46.905     114.137\n",
       "Terrace                                 33.9758      9.635      3.526      0.000      15.088      52.864\n",
       "Antiquity_+100                         -22.1031     17.509     -1.262      0.207     -56.425      12.219\n",
       "Antiquity_1-5                          261.2267     30.949      8.441      0.000     200.560     321.894\n",
       "Antiquity_10-20                         10.7547     16.266      0.661      0.509     -21.131      42.641\n",
       "Antiquity_20-30                        -26.7673     19.810     -1.351      0.177     -65.600      12.065\n",
       "Antiquity_30-50                        -30.1752     14.181     -2.128      0.033     -57.974      -2.377\n",
       "Antiquity_5-10                          56.9006     36.310      1.567      0.117     -14.276     128.077\n",
       "Antiquity_50-70                         15.0070     14.501      1.035      0.301     -13.418      43.432\n",
       "Antiquity_70-100                        -5.9243     15.986     -0.371      0.711     -37.261      25.413\n",
       "Antiquity_<1                           142.7793     30.506      4.680      0.000      82.981     202.578\n",
       "Borough_Abrantes                        11.7196    141.977      0.083      0.934    -266.589     290.028\n",
       "Borough_Acacias                        -63.1710    100.307     -0.630      0.529    -259.797     133.455\n",
       "Borough_Adelfas                       -112.7226    161.644     -0.697      0.486    -429.584     204.139\n",
       "Borough_Aeropuerto                     183.6059    363.493      0.505      0.613    -528.927     896.139\n",
       "Borough_Alameda de Osuna                22.2711    336.847      0.066      0.947    -638.031     682.573\n",
       "Borough_Almagro                        339.1754    337.183      1.006      0.314    -321.783    1000.134\n",
       "Borough_Almenara                        10.6306    238.898      0.044      0.965    -457.667     478.928\n",
       "Borough_Almendrales                    118.4937    341.227      0.347      0.728    -550.394     787.381\n",
       "Borough_Aluche                        -188.0383    165.444     -1.137      0.256    -512.348     136.271\n",
       "Borough_Amposta                         21.3497    134.817      0.158      0.874    -242.925     285.624\n",
       "Borough_Apóstol Santiago              -144.1784    191.734     -0.752      0.452    -520.023     231.667\n",
       "Borough_Arapiles                       116.4172    337.526      0.345      0.730    -545.214     778.049\n",
       "Borough_Aravaca                       -206.1148    194.050     -1.062      0.288    -586.500     174.270\n",
       "Borough_Arcos                            9.2299     91.480      0.101      0.920    -170.092     188.552\n",
       "Borough_Argüelles                      124.3373    198.868      0.625      0.532    -265.492     514.166\n",
       "Borough_Atalaya                       -125.7552    127.819     -0.984      0.325    -376.312     124.802\n",
       "Borough_Bellas Vistas                   32.9317    237.975      0.138      0.890    -433.556     499.419\n",
       "Borough_Berruguete                     -59.2503    239.393     -0.248      0.805    -528.518     410.018\n",
       "Borough_Buenavista                      27.9834    130.873      0.214      0.831    -228.559     284.526\n",
       "Borough_Butarque                      -178.5218    226.949     -0.787      0.432    -623.397     266.353\n",
       "Borough_Campamento                    -151.7226    174.786     -0.868      0.385    -494.345     190.900\n",
       "Borough_Canillas                       -16.5578    188.315     -0.088      0.930    -385.701     352.585\n",
       "Borough_Canillejas                     -23.7957    109.522     -0.217      0.828    -238.485     190.893\n",
       "Borough_Casa de Campo                  -69.8337    206.729     -0.338      0.736    -475.073     335.405\n",
       "Borough_Casco Histórico de Barajas     -68.9032    336.693     -0.205      0.838    -728.902     591.096\n",
       "Borough_Casco Histórico de Vallecas   -287.6778    346.147     -0.831      0.406    -966.209     390.853\n",
       "Borough_Casco Histórico de Vicálvaro   530.2565    186.584      2.842      0.004     164.508     896.005\n",
       "Borough_Castellana                     398.8110    143.635      2.777      0.006     117.251     680.371\n",
       "Borough_Castilla                        43.6053    214.243      0.204      0.839    -376.363     463.574\n",
       "Borough_Castillejos                    174.9135    237.183      0.737      0.461    -290.022     639.849\n",
       "Borough_Chopera                       -126.3530    106.128     -1.191      0.234    -334.390      81.684\n",
       "Borough_Ciudad Jardín                  169.8786    215.091      0.790      0.430    -251.752     591.509\n",
       "Borough_Ciudad Universitaria           -46.7489    202.443     -0.231      0.817    -443.586     350.088\n",
       "Borough_Colina                          86.5661    116.158      0.745      0.456    -141.132     314.264\n",
       "Borough_Comillas                       154.9085    134.610      1.151      0.250    -108.960     418.777\n",
       "Borough_Concepción                     -74.4339     96.359     -0.772      0.440    -263.320     114.452\n",
       "Borough_Corralejos                     -73.6214    340.010     -0.217      0.829    -740.123     592.880\n",
       "Borough_Cortes                         136.0187     67.468      2.016      0.044       3.765     268.273\n",
       "Borough_Costillares                    -53.3935    107.573     -0.496      0.620    -264.262     157.475\n",
       "Borough_Cuatro Caminos                 120.6976    234.134      0.516      0.606    -338.262     579.657\n",
       "Borough_Cuatro Vientos                 -79.8516    183.369     -0.435      0.663    -439.299     279.596\n",
       "Borough_Cármenes                      -164.7791    171.724     -0.960      0.337    -501.400     171.842\n",
       "Borough_Delicias                      -134.2224     98.208     -1.367      0.172    -326.733      58.288\n",
       "Borough_El Cañaveral                   103.2608    200.141      0.516      0.606    -289.063     495.584\n",
       "Borough_El Goloso                      -81.6952     98.299     -0.831      0.406    -274.386     110.995\n",
       "Borough_El Pardo                       130.7553    207.484      0.630      0.529    -275.963     537.474\n",
       "Borough_El Plantío                     -32.8883    233.073     -0.141      0.888    -489.766     423.990\n",
       "Borough_El Viso                        377.3554    214.783      1.757      0.079     -43.671     798.382\n",
       "Borough_Embajadores                    -99.5542     65.639     -1.517      0.129    -228.222      29.113\n",
       "Borough_Ensanche de Vallecas          -270.2044    339.811     -0.795      0.427    -936.316     395.907\n",
       "Borough_Entrevías                       20.6573    231.868      0.089      0.929    -433.860     475.175\n",
       "Borough_Estrella                      -183.6241    151.453     -1.212      0.225    -480.509     113.261\n",
       "Borough_Fontarrón                     -103.2037    219.742     -0.470      0.639    -533.951     327.543\n",
       "Borough_Fuente del Berro               -48.8606    145.206     -0.336      0.737    -333.499     235.778\n",
       "Borough_Fuentelareina                 -277.1384    342.215     -0.810      0.418    -947.961     393.684\n",
       "Borough_Gaztambide                      48.6090    337.496      0.144      0.885    -612.964     710.182\n",
       "Borough_Goya                           196.7695    142.737      1.379      0.168     -83.029     476.568\n",
       "Borough_Guindalera                     -54.6022    143.552     -0.380      0.704    -335.998     226.794\n",
       "Borough_Hellín                           3.6411    134.642      0.027      0.978    -260.290     267.572\n",
       "Borough_Hispanoamérica                 266.5366    213.534      1.248      0.212    -152.042     685.115\n",
       "Borough_Horcajo                       -178.7177    219.769     -0.813      0.416    -609.518     252.083\n",
       "Borough_Ibiza                          126.8215    156.607      0.810      0.418    -180.166     433.809\n",
       "Borough_Imperial                       -96.6361    100.384     -0.963      0.336    -293.413     100.140\n",
       "Borough_Jerónimos                      369.5684    160.552      2.302      0.021      54.847     684.290\n",
       "Borough_Justicia                       190.4991     66.395      2.869      0.004      60.350     320.648\n",
       "Borough_La Paz                          10.3141     86.950      0.119      0.906    -160.129     180.757\n",
       "Borough_Legazpi                       -153.6229    112.484     -1.366      0.172    -374.119      66.873\n",
       "Borough_Lista                          209.4498    143.315      1.461      0.144     -71.482     490.381\n",
       "Borough_Los Rosales                   -274.4985    231.617     -1.185      0.236    -728.523     179.526\n",
       "Borough_Los Ángeles                   -279.5093    231.071     -1.210      0.226    -732.464     173.445\n",
       "Borough_Lucero                        -130.4671    164.226     -0.794      0.427    -452.389     191.455\n",
       "Borough_Marroquina                     -75.8430    189.615     -0.400      0.689    -447.534     295.848\n",
       "Borough_Media Legua                    -22.0314    189.442     -0.116      0.907    -393.383     349.320\n",
       "Borough_Mirasierra                     -69.3540    102.873     -0.674      0.500    -271.009     132.301\n",
       "Borough_Moscardó                        36.5171    342.223      0.107      0.915    -634.321     707.356\n",
       "Borough_Niño Jesús                     158.7057    161.237      0.984      0.325    -157.357     474.768\n",
       "Borough_Nueva España                   286.6043    214.659      1.335      0.182    -134.178     707.387\n",
       "Borough_Numancia                        65.8860    141.052      0.467      0.640    -210.609     342.381\n",
       "Borough_Opañel                         127.7709    132.794      0.962      0.336    -132.537     388.079\n",
       "Borough_Orcasitas                     -156.2314    355.664     -0.439      0.660    -853.418     540.955\n",
       "Borough_Orcasur                         19.4060    353.549      0.055      0.956    -673.635     712.447\n",
       "Borough_Pacífico                      -109.7076    157.732     -0.696      0.487    -418.900     199.485\n",
       "Borough_Palacio                        -11.4828     65.830     -0.174      0.862    -140.525     117.560\n",
       "Borough_Palomas                        104.9253    203.901      0.515      0.607    -294.770     504.621\n",
       "Borough_Palomeras Bajas                197.2879    149.079      1.323      0.186     -94.942     489.518\n",
       "Borough_Palomeras Sureste              145.8921    156.066      0.935      0.350    -160.035     451.820\n",
       "Borough_Palos de Moguer                 18.1430     99.281      0.183      0.855    -176.472     212.758\n",
       "Borough_Pavones                        -70.7200    258.255     -0.274      0.784    -576.963     435.523\n",
       "Borough_Peñagrande                     -88.1162     87.663     -1.005      0.315    -259.957      83.725\n",
       "Borough_Pilar                           46.0981     81.555      0.565      0.572    -113.769     205.965\n",
       "Borough_Pinar del Rey                 -166.2606    194.576     -0.854      0.393    -547.677     215.156\n",
       "Borough_Piovera                        -16.4894    195.442     -0.084      0.933    -399.603     366.624\n",
       "Borough_Portazgo                       292.3579    159.516      1.833      0.067     -20.331     605.047\n",
       "Borough_Pradolongo                     -39.7916    343.138     -0.116      0.908    -712.425     632.842\n",
       "Borough_Prosperidad                     89.2799    213.233      0.419      0.675    -328.707     507.267\n",
       "Borough_Pueblo Nuevo                  -171.7355    101.471     -1.692      0.091    -370.643      27.172\n",
       "Borough_Puerta Bonita                 -152.8451    139.121     -1.099      0.272    -425.555     119.865\n",
       "Borough_Puerta del Ángel               -82.1344    160.806     -0.511      0.610    -397.352     233.083\n",
       "Borough_Quintana                       -55.4772    106.992     -0.519      0.604    -265.206     154.252\n",
       "Borough_Recoletos                      495.0461    143.469      3.451      0.001     213.813     776.279\n",
       "Borough_Rejas                          -18.5736    101.981     -0.182      0.855    -218.481     181.334\n",
       "Borough_Rosas                         -144.6893    107.579     -1.345      0.179    -355.570      66.192\n",
       "Borough_Ríos Rosas                      59.0629    337.364      0.175      0.861    -602.251     720.376\n",
       "Borough_Salvador                       156.5842    112.128      1.396      0.163     -63.213     376.381\n",
       "Borough_San Cristobal                  -65.3139    261.109     -0.250      0.802    -577.150     446.522\n",
       "Borough_San Diego                      269.3874    140.695      1.915      0.056      -6.408     545.183\n",
       "Borough_San Fermín                     -39.6214    350.579     -0.113      0.910    -726.840     647.598\n",
       "Borough_San Isidro                      28.6988    134.082      0.214      0.831    -234.134     291.531\n",
       "Borough_San Juan Bautista             -166.3392    108.196     -1.537      0.124    -378.430      45.752\n",
       "Borough_San Pascual                    -25.1070    109.249     -0.230      0.818    -239.262     189.048\n",
       "Borough_Santa Eugenia                 -533.8400    361.043     -1.479      0.139   -1241.571     173.891\n",
       "Borough_Simancas                        32.1578    101.300      0.317      0.751    -166.415     230.731\n",
       "Borough_Sol                             28.1809     66.533      0.424      0.672    -102.239     158.601\n",
       "Borough_Timón                          -84.9711    339.156     -0.251      0.802    -749.798     579.856\n",
       "Borough_Trafalgar                      120.8063    337.460      0.358      0.720    -540.697     782.309\n",
       "Borough_Universidad                    -11.3476     65.466     -0.173      0.862    -139.676     116.981\n",
       "Borough_Valdeacederas                  -16.2366    239.244     -0.068      0.946    -485.212     452.739\n",
       "Borough_Valdefuentes                  -125.7260    192.220     -0.654      0.513    -502.523     251.071\n",
       "Borough_Valdemarín                     -14.2909    211.650     -0.068      0.946    -429.176     400.594\n",
       "Borough_Valderrivas                    344.9182    162.630      2.121      0.034      26.124     663.712\n",
       "Borough_Valdezarza                    -125.1795    203.249     -0.616      0.538    -523.596     273.237\n",
       "Borough_Vallehermoso                    80.7328    338.046      0.239      0.811    -581.917     743.383\n",
       "Borough_Valverde                       -47.4511     76.948     -0.617      0.537    -198.287     103.385\n",
       "Borough_Ventas                        -169.2234    102.402     -1.653      0.098    -369.956      31.509\n",
       "Borough_Villaverde Alto               -100.4132    225.058     -0.446      0.655    -541.581     340.754\n",
       "Borough_Vinateros                       51.6788    191.448      0.270      0.787    -323.605     426.963\n",
       "Borough_Vista Alegre                    56.0750    133.821      0.419      0.675    -206.246     318.396\n",
       "Borough_Zofío                           84.4920    350.200      0.241      0.809    -601.984     770.968\n",
       "Borough_Águilas                       -191.6222    183.561     -1.044      0.297    -551.446     168.202\n",
       "District_Arganzuela                    198.4091     91.688      2.164      0.030      18.679     378.139\n",
       "District_Barajas                       -45.3373    328.976     -0.138      0.890    -690.210     599.535\n",
       "District_Carabanchel                  -146.6163    123.470     -1.187      0.235    -388.647      95.415\n",
       "District_Centro                        295.9904     64.210      4.610      0.000     170.123     421.858\n",
       "District_Chamartín                      80.7888    211.518      0.382      0.703    -333.836     495.414\n",
       "District_Chamberí                      248.5564    336.667      0.738      0.460    -411.392     908.505\n",
       "District_Ciudad Lineal                 130.7363     96.375      1.357      0.175     -58.182     319.655\n",
       "District_Fuencarral                     43.4365     77.161      0.563      0.573    -107.819     194.691\n",
       "District_Hortaleza                     118.8185    189.678      0.626      0.531    -252.995     490.632\n",
       "District_Latina                         36.0389    157.724      0.228      0.819    -273.138     345.215\n",
       "District_Moncloa                       202.5843    198.136      1.022      0.307    -185.809     590.977\n",
       "District_Moratalaz                    -109.9858    172.782     -0.637      0.524    -448.680     228.708\n",
       "District_Puente de Vallecas           -354.9977    130.963     -2.711      0.007    -611.717     -98.279\n",
       "District_Retiro                        238.7365    151.939      1.571      0.116     -59.101     536.574\n",
       "District_Salamanca                     196.0743    141.572      1.385      0.166     -81.440     473.589\n",
       "District_San Blas                      -98.9301     95.562     -1.035      0.301    -286.254      88.394\n",
       "District_Tetuán                         62.1082    235.755      0.263      0.792    -400.029     524.245\n",
       "District_Usera                        -183.2117    337.992     -0.542      0.588    -845.756     479.333\n",
       "District_Vicálvaro                    -660.1166    168.843     -3.910      0.000    -991.089    -329.144\n",
       "District_Villa de Vallecas             176.2758    330.807      0.533      0.594    -472.186     824.738\n",
       "District_Villaverde                    -27.6599    213.925     -0.129      0.897    -447.004     391.684\n",
       "Energy_Consumption_A                    40.6041     19.627      2.069      0.039       2.131      79.077\n",
       "Energy_Consumption_B                    47.7288     21.680      2.201      0.028       5.230      90.228\n",
       "Energy_Consumption_C                    26.5305     19.438      1.365      0.172     -11.573      64.634\n",
       "Energy_Consumption_D                    50.0485     16.099      3.109      0.002      18.491      81.606\n",
       "Energy_Consumption_E                    92.2755     12.811      7.203      0.000      67.162     117.389\n",
       "Energy_Consumption_Exento              109.8173     47.093      2.332      0.020      17.504     202.130\n",
       "Energy_Consumption_F                   -14.3556     22.314     -0.643      0.520     -58.097      29.386\n",
       "Energy_Consumption_G                    49.0494     10.735      4.569      0.000      28.006      70.093\n",
       "Floor_+15                              329.0744     81.188      4.053      0.000     169.926     488.223\n",
       "Floor_1                                -80.7706     14.913     -5.416      0.000    -110.004     -51.538\n",
       "Floor_10                               -41.5443     66.961     -0.620      0.535    -172.804      89.715\n",
       "Floor_11                               -22.4514     77.103     -0.291      0.771    -173.592     128.689\n",
       "Floor_12                               -71.0998     76.906     -0.924      0.355    -221.855      79.655\n",
       "Floor_13                              -225.8343     97.824     -2.309      0.021    -417.593     -34.076\n",
       "Floor_14                               -40.7234    114.624     -0.355      0.722    -265.414     183.967\n",
       "Floor_15                               388.6413    131.894      2.947      0.003     130.097     647.186\n",
       "Floor_2                                -68.9575     15.113     -4.563      0.000     -98.583     -39.332\n",
       "Floor_3                                -79.3745     15.652     -5.071      0.000    -110.056     -48.693\n",
       "Floor_4                                -74.7949     16.502     -4.533      0.000    -107.142     -42.448\n",
       "Floor_5                                -82.4645     18.054     -4.568      0.000    -117.855     -47.074\n",
       "Floor_6                                -87.0178     21.345     -4.077      0.000    -128.859     -45.177\n",
       "Floor_7                                -66.3711     26.333     -2.520      0.012    -117.990     -14.752\n",
       "Floor_8                                 77.0695     38.731      1.990      0.047       1.147     152.992\n",
       "Floor_9                                -95.3764     54.551     -1.748      0.080    -202.310      11.557\n",
       "Floor_Bajos                              2.4148     19.335      0.125      0.901     -35.487      40.317\n",
       "Floor_Entresuelo                       108.9029     39.908      2.729      0.006      30.675     187.131\n",
       "Floor_Principal                        164.4833     50.494      3.257      0.001      65.503     263.464\n",
       "Floor_Sótano                           367.8931     27.737     13.264      0.000     313.522     422.264\n",
       "Type_Apartamento                       156.6338     15.664     10.000      0.000     125.929     187.339\n",
       "Type_Casa adosada                      -13.7320     58.764     -0.234      0.815    -128.923     101.459\n",
       "Type_Casa o chalet                     -34.0633     54.512     -0.625      0.532    -140.920      72.793\n",
       "Type_Dúplex                            -31.3964     27.668     -1.135      0.257     -85.632      22.839\n",
       "Type_Estudio                           -77.4268     20.398     -3.796      0.000    -117.412     -37.442\n",
       "Type_Loft                               16.6948     35.296      0.473      0.636     -52.494      85.884\n",
       "Type_Piso                               63.7651     12.939      4.928      0.000      38.402      89.128\n",
       "Type_Planta baja                        30.8535     53.709      0.574      0.566     -74.428     136.135\n",
       "Type_Ático                             290.3698     21.151     13.729      0.000     248.909     331.830\n",
       "==============================================================================\n",
       "Omnibus:                     3261.238   Durbin-Watson:                   1.915\n",
       "Prob(Omnibus):                  0.000   Jarque-Bera (JB):           728887.321\n",
       "Skew:                          -0.574   Prob(JB):                         0.00\n",
       "Kurtosis:                      47.558   Cond. No.                     1.41e+16\n",
       "==============================================================================\n",
       "\n",
       "Warnings:\n",
       "[1] Standard Errors assume that the covariance matrix of the errors is correctly specified.\n",
       "[2] The smallest eigenvalue is 4.15e-25. This might indicate that there are\n",
       "strong multicollinearity problems or that the design matrix is singular.\n",
       "\"\"\""
      ]
     },
     "execution_count": 7,
     "metadata": {},
     "output_type": "execute_result"
    }
   ],
   "source": [
    "reg_mod.summary()"
   ]
  },
  {
   "cell_type": "markdown",
   "metadata": {},
   "source": [
    "# Training"
   ]
  },
  {
   "cell_type": "code",
   "execution_count": 8,
   "metadata": {},
   "outputs": [],
   "source": [
    "from sklearn.model_selection import train_test_split\n",
    "from sklearn.model_selection import GridSearchCV\n",
    "from sklearn.pipeline import Pipeline\n",
    "import sklearn_dummies as skdm\n",
    "from sklearn.linear_model import LinearRegression\n",
    "from sklearn.linear_model import Ridge\n",
    "from sklearn.linear_model import Lasso\n",
    "from sklearn.ensemble import RandomForestRegressor\n",
    "from sklearn.model_selection import cross_val_score"
   ]
  },
  {
   "cell_type": "code",
   "execution_count": 9,
   "metadata": {},
   "outputs": [],
   "source": [
    "# Train and test sets\n",
    "X_train, X_test, y_train, y_test = train_test_split(X, y, test_size=0.2, random_state=1492)"
   ]
  },
  {
   "cell_type": "markdown",
   "metadata": {},
   "source": [
    "### Linear regression"
   ]
  },
  {
   "cell_type": "code",
   "execution_count": 10,
   "metadata": {},
   "outputs": [
    {
     "data": {
      "text/plain": [
       "Pipeline(steps=[('encoder',\n",
       "                 <sklearn_dummies.base.DataFrameDummies object at 0x7f9fa2e09040>),\n",
       "                ('lr', LinearRegression())])"
      ]
     },
     "execution_count": 10,
     "metadata": {},
     "output_type": "execute_result"
    }
   ],
   "source": [
    "# Linear regression pipeline\n",
    "pipeline_lr = Pipeline([('encoder', skdm.DataFrameDummies()), \n",
    "                        ('lr', LinearRegression())])\n",
    "cv_score_lr = cross_val_score(pipeline_lr, X_train, y_train, scoring = \"neg_mean_absolute_error\", cv=5)\n",
    "pipeline_lr.fit(X_train, y_train)"
   ]
  },
  {
   "cell_type": "code",
   "execution_count": 11,
   "metadata": {},
   "outputs": [
    {
     "name": "stdout",
     "output_type": "stream",
     "text": [
      "Mean relative error:  [0.18183814 0.19756157] ( 0.18842923109442225 )\n",
      "Relative error:  [-0.54280359  0.38622125] ( 0.1862328516903546 )\n"
     ]
    }
   ],
   "source": [
    "print(\"Mean relative error: \", np.quantile(-cv_score_lr/np.mean(y_train),[0.025,0.975]), \n",
    "      '(', np.mean(-cv_score_lr)/np.mean(y_train), ')')\n",
    "print(\"Relative error: \", np.quantile((y_test-pipeline_lr.predict(X_test))/y_test,[0.025,0.975]),\n",
    "     '(', np.mean(np.abs((y_test-pipeline_lr.predict(X_test))/y_test)),')')"
   ]
  },
  {
   "cell_type": "markdown",
   "metadata": {},
   "source": [
    "### Ridge regression"
   ]
  },
  {
   "cell_type": "code",
   "execution_count": 12,
   "metadata": {},
   "outputs": [
    {
     "data": {
      "text/plain": [
       "Pipeline(steps=[('encoder',\n",
       "                 <sklearn_dummies.base.DataFrameDummies object at 0x7f9fa3916640>),\n",
       "                ('r', Ridge(random_state=1492))])"
      ]
     },
     "execution_count": 12,
     "metadata": {},
     "output_type": "execute_result"
    }
   ],
   "source": [
    "# Ridge regression pipeline\n",
    "pipeline_r = Pipeline([('encoder', skdm.DataFrameDummies()), \n",
    "                        ('r', Ridge(random_state = 1492))])\n",
    "cv_score_r = cross_val_score(pipeline_r, X_train, y_train, scoring = \"neg_mean_absolute_error\", cv=5)\n",
    "pipeline_r.fit(X_train, y_train)"
   ]
  },
  {
   "cell_type": "code",
   "execution_count": 13,
   "metadata": {},
   "outputs": [
    {
     "name": "stdout",
     "output_type": "stream",
     "text": [
      "Mean relative error:  [0.18050715 0.19676804] ( 0.18753773162792686 )\n",
      "Relative error:  [-0.53961682  0.38273652] ( 0.18479246529774535 )\n"
     ]
    }
   ],
   "source": [
    "print(\"Mean relative error: \", np.quantile(-cv_score_r/np.mean(y_train),[0.025,0.975]), \n",
    "      '(', np.mean(-cv_score_r)/np.mean(y_train), ')')\n",
    "print(\"Relative error: \", np.quantile((y_test-pipeline_r.predict(X_test))/y_test,[0.025,0.975]),\n",
    "     '(', np.mean(np.abs((y_test-pipeline_r.predict(X_test))/y_test)),')')"
   ]
  },
  {
   "cell_type": "markdown",
   "metadata": {},
   "source": [
    "#### Finding the optimal alpha"
   ]
  },
  {
   "cell_type": "code",
   "execution_count": 14,
   "metadata": {},
   "outputs": [
    {
     "name": "stdout",
     "output_type": "stream",
     "text": [
      "-225.21297528756625\n"
     ]
    }
   ],
   "source": [
    "alpha = []\n",
    "err = []\n",
    "err_min = []\n",
    "err_max = []\n",
    "err_std = []\n",
    "for i in range(1,5000,50):\n",
    "    pipeline_r = Pipeline([('encoder', skdm.DataFrameDummies()), \n",
    "                        ('r', Ridge(random_state = 1492, alpha = i/100))])\n",
    "    cv_score_r = cross_val_score(pipeline_r, X_train, y_train, \n",
    "                                  scoring = \"neg_mean_absolute_error\", cv=5)\n",
    "    alpha.append(i/100)\n",
    "    err.append(np.mean(cv_score_r))\n",
    "    err_min.append(np.min(cv_score_r))\n",
    "    err_max.append(np.max(cv_score_r))\n",
    "    err_std.append(np.std(cv_score_r))\n",
    "print(np.mean(err))"
   ]
  },
  {
   "cell_type": "code",
   "execution_count": 15,
   "metadata": {},
   "outputs": [
    {
     "data": {
      "text/plain": [
       "[<matplotlib.lines.Line2D at 0x7f9fa3f40250>]"
      ]
     },
     "execution_count": 15,
     "metadata": {},
     "output_type": "execute_result"
    },
    {
     "data": {
      "image/png": "[encoded data removed]",
      "text/plain": [
       "<Figure size 1152x288 with 2 Axes>"
      ]
     },
     "metadata": {
      "needs_background": "light"
     },
     "output_type": "display_data"
    }
   ],
   "source": [
    "import matplotlib.pyplot as plt\n",
    "f, ax = plt.subplots(ncols = 2, figsize = (16, 4))\n",
    "ax[0].plot(alpha, err, label = \"err\")\n",
    "ax[0].plot(alpha, err_min, label = \"err_min\")\n",
    "ax[0].plot(alpha, err_max, label = \"err_max\")\n",
    "ax[0].legend()\n",
    "ax[1].plot(alpha, err_std)"
   ]
  },
  {
   "cell_type": "code",
   "execution_count": 16,
   "metadata": {},
   "outputs": [
    {
     "name": "stdout",
     "output_type": "stream",
     "text": [
      "    alpha         err     err_min     err_max   err_std\n",
      "63  31.51 -224.764606 -236.403597 -218.172381  7.039429\n",
      "    alpha         err     err_min     err_max   err_std\n",
      "64  32.01 -224.764674 -236.402859 -218.194475  7.034545\n",
      "    alpha         err     err_min     err_max   err_std\n",
      "19   9.51 -225.560292 -237.104115 -217.428553  7.338478\n"
     ]
    }
   ],
   "source": [
    "err_r = pd.DataFrame([alpha, err, err_min, err_max, err_std]).transpose()\n",
    "err_r.columns = [\"alpha\", \"err\", \"err_min\", \"err_max\", \"err_std\"]\n",
    "print(err_r.sort_values(\"err\", ascending = False).head(1))\n",
    "print(err_r.sort_values(\"err_min\", ascending = False).head(1))\n",
    "print(err_r.sort_values(\"err_max\", ascending = False).head(1))"
   ]
  },
  {
   "cell_type": "code",
   "execution_count": 17,
   "metadata": {},
   "outputs": [
    {
     "data": {
      "text/plain": [
       "Pipeline(steps=[('encoder',\n",
       "                 <sklearn_dummies.base.DataFrameDummies object at 0x7f9fa3fc1940>),\n",
       "                ('lr', Ridge(alpha=32, random_state=1492))])"
      ]
     },
     "execution_count": 17,
     "metadata": {},
     "output_type": "execute_result"
    }
   ],
   "source": [
    "pipeline_r = Pipeline([('encoder', skdm.DataFrameDummies()), \n",
    "                        ('lr', Ridge(random_state = 1492, alpha = 32))])\n",
    "cv_score_r = cross_val_score(pipeline_r, X_train, y_train, scoring = \"neg_mean_absolute_error\", cv=5)\n",
    "pipeline_r.fit(X_train, y_train)"
   ]
  },
  {
   "cell_type": "code",
   "execution_count": 18,
   "metadata": {},
   "outputs": [
    {
     "name": "stdout",
     "output_type": "stream",
     "text": [
      "Mean relative error:  [0.18010399 0.19451239] ( 0.18550669653177368 )\n",
      "Relative error:  [-0.53803347  0.36309966] ( 0.18102923388429967 )\n"
     ]
    }
   ],
   "source": [
    "print(\"Mean relative error: \", np.quantile(-cv_score_r/np.mean(y_train),[0.025,0.975]), \n",
    "      '(', np.mean(-cv_score_r)/np.mean(y_train), ')')\n",
    "print(\"Relative error: \", np.quantile((y_test-pipeline_r.predict(X_test))/y_test,[0.025,0.975]),\n",
    "     '(', np.mean(np.abs((y_test-pipeline_r.predict(X_test))/y_test)),')')"
   ]
  },
  {
   "cell_type": "markdown",
   "metadata": {},
   "source": [
    "### Lasso regression"
   ]
  },
  {
   "cell_type": "code",
   "execution_count": 19,
   "metadata": {},
   "outputs": [
    {
     "data": {
      "text/plain": [
       "Pipeline(steps=[('encoder',\n",
       "                 <sklearn_dummies.base.DataFrameDummies object at 0x7f9fa3ffdc10>),\n",
       "                ('l', Lasso(random_state=1492))])"
      ]
     },
     "execution_count": 19,
     "metadata": {},
     "output_type": "execute_result"
    }
   ],
   "source": [
    "# Ridge regression pipeline\n",
    "pipeline_l = Pipeline([('encoder', skdm.DataFrameDummies()), \n",
    "                        ('l', Lasso(random_state = 1492))])\n",
    "cv_score_l = cross_val_score(pipeline_l, X_train, y_train, scoring = \"neg_mean_absolute_error\", cv=5)\n",
    "pipeline_l.fit(X_train, y_train)"
   ]
  },
  {
   "cell_type": "code",
   "execution_count": 20,
   "metadata": {},
   "outputs": [
    {
     "name": "stdout",
     "output_type": "stream",
     "text": [
      "Mean relative error:  [0.18086734 0.19602941] ( 0.18659370920025076 )\n",
      "Relative error:  [-0.52926173  0.35492616] ( 0.18078306537327224 )\n"
     ]
    }
   ],
   "source": [
    "print(\"Mean relative error: \", np.quantile(-cv_score_l/np.mean(y_train),[0.025,0.975]), \n",
    "      '(', np.mean(-cv_score_l)/np.mean(y_train), ')')\n",
    "print(\"Relative error: \", np.quantile((y_test-pipeline_l.predict(X_test))/y_test,[0.025,0.975]),\n",
    "     '(', np.mean(np.abs((y_test-pipeline_l.predict(X_test))/y_test)),')')"
   ]
  },
  {
   "cell_type": "code",
   "execution_count": 21,
   "metadata": {},
   "outputs": [],
   "source": [
    "alpha = []\n",
    "err = []\n",
    "err_min = []\n",
    "err_max = []\n",
    "err_std = []\n",
    "for i in range(1,100,2):\n",
    "    pipeline_l = Pipeline([('encoder', skdm.DataFrameDummies()), \n",
    "                        ('r', Lasso(random_state = 1492, alpha = i/100, tol=0.05))])\n",
    "    cv_score_l = cross_val_score(pipeline_l, X_train, y_train, \n",
    "                                  scoring = \"neg_mean_absolute_error\", cv=3)\n",
    "    alpha.append(i/100)\n",
    "    err.append(np.mean(cv_score_l))\n",
    "    err_min.append(np.min(cv_score_l))\n",
    "    err_max.append(np.max(cv_score_l))\n",
    "    err_std.append(np.std(cv_score_l))"
   ]
  },
  {
   "cell_type": "code",
   "execution_count": 22,
   "metadata": {},
   "outputs": [
    {
     "data": {
      "text/plain": [
       "[<matplotlib.lines.Line2D at 0x7f9fa47ea070>]"
      ]
     },
     "execution_count": 22,
     "metadata": {},
     "output_type": "execute_result"
    },
    {
     "data": {
      "image/png": "[encoded data removed]",
      "text/plain": [
       "<Figure size 1152x288 with 2 Axes>"
      ]
     },
     "metadata": {
      "needs_background": "light"
     },
     "output_type": "display_data"
    }
   ],
   "source": [
    "f, ax = plt.subplots(ncols = 2, figsize = (16, 4))\n",
    "ax[0].plot(alpha, err, label = \"err\")\n",
    "ax[0].plot(alpha, err_min, label = \"err_min\")\n",
    "ax[0].plot(alpha, err_max, label = \"err_max\")\n",
    "ax[0].legend()\n",
    "ax[1].plot(alpha, err_std)"
   ]
  },
  {
   "cell_type": "code",
   "execution_count": 23,
   "metadata": {},
   "outputs": [
    {
     "name": "stdout",
     "output_type": "stream",
     "text": [
      "    alpha         err     err_min     err_max   err_std\n",
      "23   0.47 -226.484525 -234.719053 -217.611976  6.998491\n",
      "    alpha         err     err_min    err_max   err_std\n",
      "35   0.71 -226.671865 -234.687441 -218.30032  6.694748\n",
      "    alpha         err     err_min     err_max   err_std\n",
      "10   0.21 -226.875913 -235.183669 -217.505872  7.255915\n"
     ]
    }
   ],
   "source": [
    "err_l = pd.DataFrame([alpha, err, err_min, err_max, err_std]).transpose()\n",
    "err_l.columns = [\"alpha\", \"err\", \"err_min\", \"err_max\", \"err_std\"]\n",
    "print(err_l.sort_values(\"err\", ascending = False).head(1))\n",
    "print(err_l.sort_values(\"err_min\", ascending = False).head(1))\n",
    "print(err_l.sort_values(\"err_max\", ascending = False).head(1))"
   ]
  },
  {
   "cell_type": "code",
   "execution_count": 24,
   "metadata": {},
   "outputs": [
    {
     "data": {
      "text/plain": [
       "Pipeline(steps=[('encoder',\n",
       "                 <sklearn_dummies.base.DataFrameDummies object at 0x7f9fa42262e0>),\n",
       "                ('l', Lasso(alpha=0.47, random_state=1492))])"
      ]
     },
     "execution_count": 24,
     "metadata": {},
     "output_type": "execute_result"
    }
   ],
   "source": [
    "pipeline_l = Pipeline([('encoder', skdm.DataFrameDummies()), \n",
    "                        ('l', Lasso(alpha = 0.47, random_state = 1492))])\n",
    "cv_score_l = cross_val_score(pipeline_l, X_train, y_train, scoring = \"neg_mean_absolute_error\", cv=5)\n",
    "pipeline_l.fit(X_train, y_train)"
   ]
  },
  {
   "cell_type": "code",
   "execution_count": 25,
   "metadata": {},
   "outputs": [
    {
     "name": "stdout",
     "output_type": "stream",
     "text": [
      "Mean relative error:  [0.17998325 0.19468899] ( 0.1857054978148442 )\n",
      "Relative error:  [-0.53860653  0.37632436] ( 0.1814689073098662 )\n"
     ]
    }
   ],
   "source": [
    "print(\"Mean relative error: \", np.quantile(-cv_score_l/np.mean(y_train),[0.025,0.975]), \n",
    "      '(', np.mean(-cv_score_l)/np.mean(y_train), ')')\n",
    "print(\"Relative error: \", np.quantile((y_test-pipeline_l.predict(X_test))/y_test,[0.025,0.975]),\n",
    "     '(', np.mean(np.abs((y_test-pipeline_l.predict(X_test))/y_test)),')')"
   ]
  },
  {
   "cell_type": "markdown",
   "metadata": {},
   "source": [
    "### Random forest"
   ]
  },
  {
   "cell_type": "code",
   "execution_count": 26,
   "metadata": {},
   "outputs": [
    {
     "data": {
      "text/plain": [
       "Pipeline(steps=[('encoder',\n",
       "                 <sklearn_dummies.base.DataFrameDummies object at 0x7f9fa42206d0>),\n",
       "                ('rf', RandomForestRegressor(random_state=1492))])"
      ]
     },
     "execution_count": 26,
     "metadata": {},
     "output_type": "execute_result"
    }
   ],
   "source": [
    "pipeline_rf = Pipeline([('encoder', skdm.DataFrameDummies()), \n",
    "                        ('rf', RandomForestRegressor(random_state = 1492))])\n",
    "cv_score_rf = cross_val_score(pipeline_rf, X_train, y_train, scoring = \"neg_mean_absolute_error\", cv=5)\n",
    "pipeline_rf.fit(X_train, y_train)"
   ]
  },
  {
   "cell_type": "code",
   "execution_count": 27,
   "metadata": {},
   "outputs": [
    {
     "name": "stdout",
     "output_type": "stream",
     "text": [
      "Mean relative error:  [0.14786899 0.15353433] ( 0.15042801518623974 )\n",
      "Relative error:  [-0.48120769  0.31499286] ( 0.146610518725802 )\n"
     ]
    }
   ],
   "source": [
    "print(\"Mean relative error: \", np.quantile(-cv_score_rf/np.mean(y_train),[0.025,0.975]), \n",
    "      '(', np.mean(-cv_score_rf)/np.mean(y_train), ')')\n",
    "print(\"Relative error: \", np.quantile((y_test-pipeline_rf.predict(X_test))/y_test,[0.025,0.975]),\n",
    "     '(', np.mean(np.abs((y_test-pipeline_rf.predict(X_test))/y_test)),')')"
   ]
  },
  {
   "cell_type": "code",
   "execution_count": 28,
   "metadata": {},
   "outputs": [
    {
     "data": {
      "text/plain": [
       "{'memory': None,\n",
       " 'steps': [('encoder',\n",
       "   <sklearn_dummies.base.DataFrameDummies at 0x7f9fa42206d0>),\n",
       "  ('rf', RandomForestRegressor(random_state=1492))],\n",
       " 'verbose': False,\n",
       " 'encoder': <sklearn_dummies.base.DataFrameDummies at 0x7f9fa42206d0>,\n",
       " 'rf': RandomForestRegressor(random_state=1492),\n",
       " 'rf__bootstrap': True,\n",
       " 'rf__ccp_alpha': 0.0,\n",
       " 'rf__criterion': 'mse',\n",
       " 'rf__max_depth': None,\n",
       " 'rf__max_features': 'auto',\n",
       " 'rf__max_leaf_nodes': None,\n",
       " 'rf__max_samples': None,\n",
       " 'rf__min_impurity_decrease': 0.0,\n",
       " 'rf__min_impurity_split': None,\n",
       " 'rf__min_samples_leaf': 1,\n",
       " 'rf__min_samples_split': 2,\n",
       " 'rf__min_weight_fraction_leaf': 0.0,\n",
       " 'rf__n_estimators': 100,\n",
       " 'rf__n_jobs': None,\n",
       " 'rf__oob_score': False,\n",
       " 'rf__random_state': 1492,\n",
       " 'rf__verbose': 0,\n",
       " 'rf__warm_start': False}"
      ]
     },
     "execution_count": 28,
     "metadata": {},
     "output_type": "execute_result"
    }
   ],
   "source": [
    "pipeline_rf.get_params()"
   ]
  },
  {
   "cell_type": "markdown",
   "metadata": {},
   "source": [
    "#### Grid search for optimal parameters"
   ]
  },
  {
   "cell_type": "code",
   "execution_count": 29,
   "metadata": {},
   "outputs": [
    {
     "name": "stdout",
     "output_type": "stream",
     "text": [
      "100 -184.3586248104575\n",
      "250 -183.84696781828177\n",
      "500 -183.4786340892332\n",
      "600 -183.44617098083737\n",
      "CPU times: user 16min 25s, sys: 7.48 s, total: 16min 32s\n",
      "Wall time: 16min 42s\n"
     ]
    }
   ],
   "source": [
    "%%time\n",
    "parameters = {'rf__n_estimators':[100, 250, 500, 600],\n",
    "              'rf__min_samples_split': [2, 4, 6, 8, 10]}\n",
    "trees = []\n",
    "samples = []\n",
    "err = []\n",
    "err_std = []\n",
    "for i in parameters['rf__n_estimators']:\n",
    "    for k in parameters['rf__min_samples_split']:\n",
    "        cv = cross_val_score(pipeline_rf.set_params(rf__n_estimators=i, rf__min_samples_split=k), \n",
    "                        X_train, y_train, scoring = \"neg_mean_absolute_error\", cv=3)\n",
    "        trees.append(i)\n",
    "        samples.append(k)\n",
    "        err.append(np.mean(cv))\n",
    "        err_std.append(np.std(cv))\n",
    "    print(i, np.max(err))"
   ]
  },
  {
   "cell_type": "code",
   "execution_count": 30,
   "metadata": {},
   "outputs": [],
   "source": [
    "err_rf = pd.DataFrame([trees, samples, err, err_std]).transpose()\n",
    "err_rf.columns = [\"Trees\", \"Samples\", \"Err\", \"Std\"]"
   ]
  },
  {
   "cell_type": "code",
   "execution_count": 31,
   "metadata": {},
   "outputs": [
    {
     "data": {
      "text/html": [
       "<div>\n",
       "<style scoped>\n",
       "    .dataframe tbody tr th:only-of-type {\n",
       "        vertical-align: middle;\n",
       "    }\n",
       "\n",
       "    .dataframe tbody tr th {\n",
       "        vertical-align: top;\n",
       "    }\n",
       "\n",
       "    .dataframe thead th {\n",
       "        text-align: right;\n",
       "    }\n",
       "</style>\n",
       "<table border=\"1\" class=\"dataframe\">\n",
       "  <thead>\n",
       "    <tr style=\"text-align: right;\">\n",
       "      <th></th>\n",
       "      <th>Trees</th>\n",
       "      <th>Samples</th>\n",
       "      <th>Err</th>\n",
       "      <th>Std</th>\n",
       "    </tr>\n",
       "  </thead>\n",
       "  <tbody>\n",
       "    <tr>\n",
       "      <th>16</th>\n",
       "      <td>600.0</td>\n",
       "      <td>4.0</td>\n",
       "      <td>-183.446171</td>\n",
       "      <td>2.048077</td>\n",
       "    </tr>\n",
       "    <tr>\n",
       "      <th>11</th>\n",
       "      <td>500.0</td>\n",
       "      <td>4.0</td>\n",
       "      <td>-183.478634</td>\n",
       "      <td>1.992089</td>\n",
       "    </tr>\n",
       "    <tr>\n",
       "      <th>15</th>\n",
       "      <td>600.0</td>\n",
       "      <td>2.0</td>\n",
       "      <td>-183.530871</td>\n",
       "      <td>2.086386</td>\n",
       "    </tr>\n",
       "    <tr>\n",
       "      <th>10</th>\n",
       "      <td>500.0</td>\n",
       "      <td>2.0</td>\n",
       "      <td>-183.541717</td>\n",
       "      <td>2.037168</td>\n",
       "    </tr>\n",
       "    <tr>\n",
       "      <th>12</th>\n",
       "      <td>500.0</td>\n",
       "      <td>6.0</td>\n",
       "      <td>-183.830238</td>\n",
       "      <td>1.926603</td>\n",
       "    </tr>\n",
       "  </tbody>\n",
       "</table>\n",
       "</div>"
      ],
      "text/plain": [
       "    Trees  Samples         Err       Std\n",
       "16  600.0      4.0 -183.446171  2.048077\n",
       "11  500.0      4.0 -183.478634  1.992089\n",
       "15  600.0      2.0 -183.530871  2.086386\n",
       "10  500.0      2.0 -183.541717  2.037168\n",
       "12  500.0      6.0 -183.830238  1.926603"
      ]
     },
     "execution_count": 31,
     "metadata": {},
     "output_type": "execute_result"
    }
   ],
   "source": [
    "err_rf.sort_values(\"Err\", ascending = False).head(5)"
   ]
  },
  {
   "cell_type": "code",
   "execution_count": 32,
   "metadata": {},
   "outputs": [
    {
     "data": {
      "text/plain": [
       "<matplotlib.axes._subplots.AxesSubplot at 0x7f9f90653a90>"
      ]
     },
     "execution_count": 32,
     "metadata": {},
     "output_type": "execute_result"
    },
    {
     "data": {
      "image/png": "[encoded data removed]",
      "text/plain": [
       "<Figure size 1080x432 with 2 Axes>"
      ]
     },
     "metadata": {
      "needs_background": "light"
     },
     "output_type": "display_data"
    }
   ],
   "source": [
    "import seaborn as sns\n",
    "f, ax = plt.subplots(nrows = 2, figsize = (15,6))\n",
    "sns.lineplot(x = err_rf[\"Trees\"].astype(float), y = err_rf[\"Err\"].astype(float), ax = ax[0])\n",
    "sns.lineplot(x = err_rf[\"Samples\"].astype(float), y = err_rf[\"Err\"].astype(float), ax = ax[1])"
   ]
  },
  {
   "cell_type": "code",
   "execution_count": 33,
   "metadata": {},
   "outputs": [
    {
     "data": {
      "text/plain": [
       "Pipeline(steps=[('encoder',\n",
       "                 <sklearn_dummies.base.DataFrameDummies object at 0x7f9f9080c520>),\n",
       "                ('rf',\n",
       "                 RandomForestRegressor(min_samples_split=4, n_estimators=600,\n",
       "                                       oob_score=True, random_state=1492))])"
      ]
     },
     "execution_count": 33,
     "metadata": {},
     "output_type": "execute_result"
    }
   ],
   "source": [
    "from sklearn.preprocessing import StandardScaler\n",
    "pipeline_rf = Pipeline([('encoder', skdm.DataFrameDummies()), \n",
    "                        ('rf', RandomForestRegressor(random_state = 1492, oob_score = True))])\n",
    "pipeline_rf.set_params(rf__n_estimators=600, rf__min_samples_split=4)\n",
    "cv_score_rf = cross_val_score(pipeline_rf, X_train, y_train, scoring = \"neg_mean_absolute_error\", cv=3)\n",
    "pipeline_rf.fit(X_train, y_train)"
   ]
  },
  {
   "cell_type": "code",
   "execution_count": 34,
   "metadata": {},
   "outputs": [
    {
     "name": "stdout",
     "output_type": "stream",
     "text": [
      "Mean relative error:  [0.14926884 0.15311472] ( 0.15140499268093227 )\n",
      "Relative error:  [-0.47634089  0.31800781] ( 0.14629037195610212\n"
     ]
    }
   ],
   "source": [
    "print(\"Mean relative error: \", np.quantile(-cv_score_rf/np.mean(y_train),[0.025,0.975]), \n",
    "      '(', np.mean(-cv_score_rf)/np.mean(y_train), ')')\n",
    "print(\"Relative error: \", np.quantile((y_test-pipeline_rf.predict(X_test))/y_test,[0.025,0.975]),\n",
    "     '(', np.mean(np.abs((y_test-pipeline_rf.predict(X_test))/y)))"
   ]
  },
  {
   "cell_type": "markdown",
   "metadata": {},
   "source": [
    "### Saving the model"
   ]
  },
  {
   "cell_type": "code",
   "execution_count": 35,
   "metadata": {},
   "outputs": [],
   "source": [
    "import pickle\n",
    "pickl = {'model': pipeline_rf}\n",
    "pickle.dump( pickl, open( 'mrm_rf' + \".p\", \"wb\" ) )"
   ]
  }
 ],
 "metadata": {
  "kernelspec": {
   "display_name": "Python 3",
   "language": "python",
   "name": "python3"
  },
  "language_info": {
   "codemirror_mode": {
    "name": "ipython",
    "version": 3
   },
   "file_extension": ".py",
   "mimetype": "text/x-python",
   "name": "python",
   "nbconvert_exporter": "python",
   "pygments_lexer": "ipython3",
   "version": "3.8.3"
  }
 },
 "nbformat": 4,
 "nbformat_minor": 4
}
