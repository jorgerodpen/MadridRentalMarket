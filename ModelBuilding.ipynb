{
 "cells": [
  {
   "cell_type": "code",
   "execution_count": 1,
   "metadata": {},
   "outputs": [],
   "source": [
    "import pandas as pd\n",
    "import numpy as np"
   ]
  },
  {
   "cell_type": "code",
   "execution_count": 2,
   "metadata": {},
   "outputs": [],
   "source": [
    "fotocasa = pd.read_csv(\"fotocasa_eda.csv\")"
   ]
  },
  {
   "cell_type": "code",
   "execution_count": 3,
   "metadata": {},
   "outputs": [],
   "source": [
    "X = fotocasa.drop([\"Price\"], axis=1)\n",
    "y = fotocasa[\"Price\"]"
   ]
  },
  {
   "cell_type": "markdown",
   "metadata": {},
   "source": [
    "# Modeling"
   ]
  },
  {
   "cell_type": "markdown",
   "metadata": {},
   "source": [
    "### Simple model"
   ]
  },
  {
   "cell_type": "code",
   "execution_count": 4,
   "metadata": {},
   "outputs": [],
   "source": [
    "from sklearn.model_selection import train_test_split\n",
    "from sklearn.pipeline import Pipeline\n",
    "import sklearn_dummies as skdm\n",
    "from sklearn.linear_model import LinearRegression\n",
    "from sklearn.linear_model import Ridge\n",
    "from sklearn.linear_model import Lasso\n",
    "from sklearn.ensemble import RandomForestRegressor\n",
    "from sklearn.model_selection import cross_val_score"
   ]
  },
  {
   "cell_type": "code",
   "execution_count": 5,
   "metadata": {},
   "outputs": [],
   "source": [
    "#model = LinearRegression()\n",
    "#model = Ridge(random_state = 1492)\n",
    "#model = Lasso(random_state = 1492)\n",
    "model = RandomForestRegressor(random_state = 1492, oob_score = True, n_estimators = 300)"
   ]
  },
  {
   "cell_type": "code",
   "execution_count": 6,
   "metadata": {},
   "outputs": [
    {
     "data": {
      "text/plain": [
       "Pipeline(steps=[('encoder',\n",
       "                 <sklearn_dummies.base.DataFrameDummies object at 0x7fa522a295b0>),\n",
       "                ('model',\n",
       "                 RandomForestRegressor(n_estimators=300, oob_score=True,\n",
       "                                       random_state=1492))])"
      ]
     },
     "execution_count": 6,
     "metadata": {},
     "output_type": "execute_result"
    }
   ],
   "source": [
    "# Linear regression pipeline\n",
    "pipeline = Pipeline([('encoder', skdm.DataFrameDummies()), \n",
    "                        ('model', model)])\n",
    "X_train, X_test, y_train, y_test = train_test_split(X, y, test_size=0.2, random_state=1492)\n",
    "cv_score = cross_val_score(pipeline, X_train, y_train, \n",
    "                              scoring = \"neg_mean_absolute_error\", cv=5)\n",
    "pipeline.fit(X_train, y_train)"
   ]
  },
  {
   "cell_type": "code",
   "execution_count": 7,
   "metadata": {},
   "outputs": [
    {
     "name": "stdout",
     "output_type": "stream",
     "text": [
      "MEA:  [0.14633446 0.15217487] ( 0.14897659984240147 )\n",
      "Relative error:  [-0.48251111  0.31503356] ( 0.14615696531880262 )\n"
     ]
    }
   ],
   "source": [
    "print(\"MEA: \", np.quantile(-cv_score/np.mean(y_train),[0.025,0.975]), \n",
    "      '(', np.mean(-cv_score)/np.mean(y_train), ')')\n",
    "print(\"Relative error: \", np.quantile((y_test-pipeline.predict(X_test))/y_test,[0.025,0.975]),\n",
    "     '(', np.mean(np.abs((y_test-pipeline.predict(X_test))/y_test)),')')"
   ]
  },
  {
   "cell_type": "markdown",
   "metadata": {},
   "source": [
    "### Model per district"
   ]
  },
  {
   "cell_type": "code",
   "execution_count": 8,
   "metadata": {},
   "outputs": [],
   "source": [
    "# Linear regression pipeline\n",
    "models = {}\n",
    "cv = []\n",
    "test_resids = []\n",
    "for district in X[\"District\"].unique():\n",
    "    # Train and test sets\n",
    "    X_dis = X[X[\"District\"]==district].drop([\"District\"], axis=1)\n",
    "    y_dis = y[X[\"District\"]==district]\n",
    "    X_traind, X_testd, y_traind, y_testd = train_test_split(X_dis, y_dis, test_size=0.2, random_state=1492)\n",
    "    pipeline = Pipeline([('encoder', skdm.DataFrameDummies()), \n",
    "                            ('model', model)])\n",
    "    cv_score = cross_val_score(pipeline, X_traind, y_traind, scoring = \"neg_mean_absolute_error\", cv=5)\n",
    "    for score in cv_score:\n",
    "        cv.append(score/np.mean(y_traind))\n",
    "    pipeline.fit(X_traind, y_traind)\n",
    "    test_resids.append(((y_testd.values - pipeline.predict(X_testd))/y_testd.values).tolist())\n",
    "    models[district] = pipeline"
   ]
  },
  {
   "cell_type": "code",
   "execution_count": 9,
   "metadata": {},
   "outputs": [
    {
     "name": "stdout",
     "output_type": "stream",
     "text": [
      "MEA:  [0.0616974  0.20656791] ( 0.1284434058422505 )\n",
      "Relative error:  [-0.49555216  0.3075642 ] ( 0.1426323768943182 )\n"
     ]
    }
   ],
   "source": [
    "print(\"MEA: \", np.quantile(np.abs(cv),[0.025,0.975]), \n",
    "      '(', np.mean(np.abs(cv)), ')')\n",
    "print(\"Relative error: \", np.quantile(sum(test_resids,[]),[0.025,0.975]),\n",
    "     '(', np.mean(np.abs(sum(test_resids,[]))), ')')"
   ]
  },
  {
   "cell_type": "markdown",
   "metadata": {},
   "source": [
    "Random forest performs relatively better (\\~14/15% error) compared to the other three methods (\\~18% error). The model per district seems to work a little bit better.\n",
    "\n",
    "### Saving the model:"
   ]
  },
  {
   "cell_type": "code",
   "execution_count": 10,
   "metadata": {},
   "outputs": [],
   "source": [
    "models = {}\n",
    "cv = []\n",
    "test_resids = []\n",
    "for district in X[\"District\"].unique():\n",
    "    # Train and test sets\n",
    "    X_dis = X[X[\"District\"]==district].drop([\"District\"], axis=1)\n",
    "    y_dis = y[X[\"District\"]==district]\n",
    "    X_traind, X_testd, y_traind, y_testd = train_test_split(X_dis, y_dis, test_size=0.2, random_state=1492)\n",
    "    pipeline = Pipeline([('encoder', skdm.DataFrameDummies()), \n",
    "                            ('model', model)])\n",
    "    pipeline.fit(X_traind, y_traind)\n",
    "    models[district] = pipeline"
   ]
  },
  {
   "cell_type": "code",
   "execution_count": 11,
   "metadata": {},
   "outputs": [],
   "source": [
    "import pickle\n",
    "pickl = {'model': models}\n",
    "pickle.dump( pickl, open( 'mrm_rf' + \".p\", \"wb\" ) )"
   ]
  }
 ],
 "metadata": {
  "kernelspec": {
   "display_name": "Python 3",
   "language": "python",
   "name": "python3"
  },
  "language_info": {
   "codemirror_mode": {
    "name": "ipython",
    "version": 3
   },
   "file_extension": ".py",
   "mimetype": "text/x-python",
   "name": "python",
   "nbconvert_exporter": "python",
   "pygments_lexer": "ipython3",
   "version": "3.8.3"
  }
 },
 "nbformat": 4,
 "nbformat_minor": 4
}
